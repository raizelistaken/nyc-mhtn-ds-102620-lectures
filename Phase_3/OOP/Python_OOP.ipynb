{
 "cells": [
  {
   "cell_type": "markdown",
   "metadata": {},
   "source": [
    "# Python OOP \n",
    "\n",
    "_Dec 21, 2020_\n",
    "\n",
    "Agenda:\n",
    "- Overview of object oriented programming\n",
    "- Object initialization & attributes\n",
    "- Creating methods for objects in a class\n",
    "- Inheritance and subclasses\n",
    "- special methods: dunder/magic method"
   ]
  },
  {
   "cell_type": "markdown",
   "metadata": {},
   "source": [
    "<img src='https://media.giphy.com/media/UrQHrWVIuEWK44VgWz/giphy.gif' width = 300>"
   ]
  },
  {
   "cell_type": "markdown",
   "metadata": {},
   "source": [
    "but we are not going to cover...\n",
    "- classmethods and staticmethods\n",
    "- property decorator\n",
    "- getter and setter"
   ]
  },
  {
   "cell_type": "markdown",
   "metadata": {},
   "source": [
    "## Why do we need object oriented programming \n",
    "Say we wrote a program that allow us to create some beautiful graphics and customize captions, but it is very long. It makes sense to just create a script that perform only that function and import the module. Like we have been doing already:\n",
    "- `import pandas as pd`\n",
    "- `import numpy as np`\n",
    "\n",
    "Object-oriented programming based on the main features that are: \n",
    "- __Abstraction__: It helps in letting the useful information or relevant data to a user, which increases the efficiency of the program and make the things simple. \n",
    "- __Inheritance__. It helps in inheriting the methods, functions, properties, and fields of a base class in derived class. \n",
    "- __Polymorphism__: It helps in doing one task in many ways with help of overloading and overriding which is also known as compile time and run time polymorphism respectively. \n",
    "- __Encapsulation__: It helps in hiding the irrelevant data from a user and prevents the user from unauthorized access."
   ]
  },
  {
   "cell_type": "code",
<<<<<<< HEAD
   "execution_count": null,
=======
   "execution_count": 1,
>>>>>>> refs/remotes/origin/master
   "metadata": {},
   "outputs": [],
   "source": [
    "# create a questionaire class\n",
    "class Questionnaire():\n",
    "    pass"
   ]
  },
  {
   "cell_type": "code",
<<<<<<< HEAD
   "execution_count": null,
   "metadata": {},
   "outputs": [],
   "source": [
    "# we can then create instances in that class"
=======
   "execution_count": 2,
   "metadata": {},
   "outputs": [],
   "source": [
    "# we can then create instances in that class\n",
    "kevin = Questionnaire()\n",
    "andrew = Questionnaire()"
>>>>>>> refs/remotes/origin/master
   ]
  },
  {
   "cell_type": "code",
<<<<<<< HEAD
   "execution_count": null,
   "metadata": {},
   "outputs": [],
   "source": [
    "# create attributes for these instances\n"
=======
   "execution_count": 3,
   "metadata": {},
   "outputs": [],
   "source": [
    "# create attributes for these instances\n",
    "kevin.lastname = 'chen'\n",
    "kevin.gender = 'male'\n",
    "andrew.lastname = 'smith'\n",
    "andrew.gender = 'nonbinary'"
>>>>>>> refs/remotes/origin/master
   ]
  },
  {
   "cell_type": "code",
<<<<<<< HEAD
   "execution_count": null,
   "metadata": {},
   "outputs": [],
   "source": [
    "# access the attributes\n",
    "print(None)"
=======
   "execution_count": 4,
   "metadata": {},
   "outputs": [
    {
     "name": "stdout",
     "output_type": "stream",
     "text": [
      "male\n",
      "nonbinary\n"
     ]
    }
   ],
   "source": [
    "# access the attributes\n",
    "print(kevin.gender)\n",
    "print(andrew.gender)"
>>>>>>> refs/remotes/origin/master
   ]
  },
  {
   "cell_type": "code",
<<<<<<< HEAD
   "execution_count": null,
   "metadata": {
    "scrolled": true
   },
   "outputs": [],
   "source": [
    "# access the instance\n",
    "print(None)"
=======
   "execution_count": 5,
   "metadata": {
    "scrolled": true
   },
   "outputs": [
    {
     "name": "stdout",
     "output_type": "stream",
     "text": [
      "<__main__.Questionnaire object at 0x000001E01934B100>\n"
     ]
    }
   ],
   "source": [
    "# access the instance\n",
    "print(kevin)"
>>>>>>> refs/remotes/origin/master
   ]
  },
  {
   "cell_type": "code",
<<<<<<< HEAD
   "execution_count": null,
=======
   "execution_count": 6,
   "metadata": {},
   "outputs": [
    {
     "name": "stdout",
     "output_type": "stream",
     "text": [
      "<method-wrapper '__repr__' of str object at 0x000001E0152FD070>\n"
     ]
    }
   ],
   "source": [
    "a = 'a'\n",
    "print(a.__repr__)"
   ]
  },
  {
   "cell_type": "code",
   "execution_count": 7,
>>>>>>> refs/remotes/origin/master
   "metadata": {},
   "outputs": [],
   "source": [
    "# it might be counterintuitive to manually add these attributes under these instances. so lets create a function in \n",
    "# the class that allow us to automatically do this\n",
    "class Questionnaire:\n",
<<<<<<< HEAD
    "    def __init__(self,___,___,___):\n",
    "        pass\n",
=======
    "    def __init__(self,lastname,gender,age):\n",
    "        self.lastname = lastname\n",
    "        self.gender = gender\n",
    "        self.age = age\n",
>>>>>>> refs/remotes/origin/master
    "        \n",
    "# by default, the init method(constructor) receives the instance itself as the first argument"
   ]
  },
  {
   "cell_type": "code",
<<<<<<< HEAD
   "execution_count": null,
=======
   "execution_count": 8,
>>>>>>> refs/remotes/origin/master
   "metadata": {},
   "outputs": [],
   "source": [
    "# you can then pass values to this init method - but you have to pass them in order with the\n",
    "# correct corresponding arguments\n",
<<<<<<< HEAD
    "student1 = Questionnaire(___,____,___)\n",
    "student2 = Questionnaire(___,____,___)"
=======
    "pam = Questionnaire('Beesley','female',30)\n",
    "jim = Questionnaire('Halpert','male',31)"
   ]
  },
  {
   "cell_type": "code",
   "execution_count": 9,
   "metadata": {},
   "outputs": [
    {
     "name": "stdout",
     "output_type": "stream",
     "text": [
      "30\n"
     ]
    }
   ],
   "source": [
    "print(pam.age)"
   ]
  },
  {
   "cell_type": "code",
   "execution_count": 20,
   "metadata": {},
   "outputs": [
    {
     "ename": "TypeError",
     "evalue": "__init__() missing 1 required positional argument: 'age'",
     "output_type": "error",
     "traceback": [
      "\u001b[1;31m---------------------------------------------------------------------------\u001b[0m",
      "\u001b[1;31mTypeError\u001b[0m                                 Traceback (most recent call last)",
      "\u001b[1;32m<ipython-input-20-164b78f16a5b>\u001b[0m in \u001b[0;36m<module>\u001b[1;34m\u001b[0m\n\u001b[1;32m----> 1\u001b[1;33m \u001b[0mdwight\u001b[0m \u001b[1;33m=\u001b[0m \u001b[0mQuestionnaire\u001b[0m\u001b[1;33m(\u001b[0m\u001b[1;34m'Shrute'\u001b[0m\u001b[1;33m,\u001b[0m \u001b[1;36m30\u001b[0m\u001b[1;33m)\u001b[0m\u001b[1;33m\u001b[0m\u001b[1;33m\u001b[0m\u001b[0m\n\u001b[0m",
      "\u001b[1;31mTypeError\u001b[0m: __init__() missing 1 required positional argument: 'age'"
     ]
    }
   ],
   "source": [
    "dwight = Questionnaire('Shrute', 30)"
>>>>>>> refs/remotes/origin/master
   ]
  },
  {
   "cell_type": "markdown",
   "metadata": {},
   "source": [
    "### Class Methods"
   ]
  },
  {
   "cell_type": "markdown",
   "metadata": {},
   "source": [
    "The email and last name are attributes of the Questionnaire class. But what if we want to perform some kind of action? To do that, we can add some methods to this class. For example, if we want to generate a random id for this person in this class."
   ]
  },
  {
   "cell_type": "code",
<<<<<<< HEAD
   "execution_count": null,
   "metadata": {},
   "outputs": [],
   "source": [
    "import numpy as np\n",
    "print(\"{}'s id number is {}\".format(student1.last, str(np.random.randint(9,19))))\n",
=======
   "execution_count": 10,
   "metadata": {},
   "outputs": [
    {
     "name": "stdout",
     "output_type": "stream",
     "text": [
      "Beesley's id number is 17\n"
     ]
    }
   ],
   "source": [
    "import numpy as np\n",
    "print(\"{}'s id number is {}\".format(pam.lastname, str(np.random.randint(9,19))))\n",
>>>>>>> refs/remotes/origin/master
    "# how do you rewrite this print statement into a method under the class questionnaire such that each person can "
   ]
  },
  {
   "cell_type": "code",
<<<<<<< HEAD
   "execution_count": null,
=======
   "execution_count": 11,
>>>>>>> refs/remotes/origin/master
   "metadata": {},
   "outputs": [],
   "source": [
    "class Questionnaire:\n",
    "    def __init__(self,last,email,age):\n",
    "        self.last = last\n",
    "        self.email = email\n",
    "        self.age = age\n",
<<<<<<< HEAD
    "    def get_id():\n",
    "        pass"
=======
    "    def get_id(self):\n",
    "        print()"
>>>>>>> refs/remotes/origin/master
   ]
  },
  {
   "cell_type": "code",
<<<<<<< HEAD
   "execution_count": null,
   "metadata": {},
   "outputs": [],
   "source": [
    "# applying this method to a new instance of this class\n"
=======
   "execution_count": 12,
   "metadata": {},
   "outputs": [
    {
     "name": "stdout",
     "output_type": "stream",
     "text": [
      "\n"
     ]
    }
   ],
   "source": [
    "# applying this method to a new instance of this class\n",
    "michael = Questionnaire('Scott','male',45)\n",
    "michael.get_id()"
>>>>>>> refs/remotes/origin/master
   ]
  },
  {
   "cell_type": "markdown",
   "metadata": {},
   "source": [
    "Let's create a better built out class called Questionnaire!\n",
    "This class will help us:\n",
    "- contruct objects with associated attributes\n",
    "- automatically print out instructions for each individually\n",
    "- automatically create title for each individual according to their gender\n",
    "- create polite greeting for each individual according to their last name and gender\n",
    "- define __class variable__ that is shared between all instances of the class"
   ]
  },
  {
   "cell_type": "code",
<<<<<<< HEAD
   "execution_count": null,
=======
   "execution_count": 42,
>>>>>>> refs/remotes/origin/master
   "metadata": {},
   "outputs": [],
   "source": [
    "class Questionnaire:\n",
    "    \n",
    "    #defining a class variable\n",
    "    time_to_fin = 45\n",
    "    \n",
<<<<<<< HEAD
    "    def __init__(self,last,gender):\n",
    "        self.last = last\n",
    "        self.gender = gender\n",
    "    \n",
    "    # get the time for individual to finish survey\n",
    "    def get_time(self):\n",
    "        pass\n",
=======
    "    def __init__(self,first,last,gender,age):\n",
    "        self.last = last\n",
    "        self.gender = gender\n",
    "        self.age = age\n",
    "        self.first = first\n",
    "    \n",
    "    # get the time for individual to finish survey\n",
    "    def get_time(self):\n",
    "        print(\"Hi,{}, you have {} to finish the survey\".format(self.first, self.time_to_fin))\n",
>>>>>>> refs/remotes/origin/master
    "    \n",
    "    \n",
    "    # get respectful title for each individual\n",
    "    def get_title(self):       \n",
<<<<<<< HEAD
    "        pass\n",
=======
    "        if self.gender == 'male':\n",
    "            return 'Mr.'\n",
    "        elif self.gender == 'female':\n",
    "            return 'Mrs.'\n",
    "        else:\n",
    "            return 'Mx'\n",
    "        \n",
>>>>>>> refs/remotes/origin/master
    "    \n",
    "    ### EXERCISE ###\n",
    "    # create a class method called greetings(), where you print out a nice message for your\n",
    "    # participant, according to each of their title and last name\n",
    "    \n",
    "    # example:\n",
    "    # greetings(smith,male)\n",
    "    # >>> 'Hello Mr. Smith, thank you so much for participating in this survey!'\n",
    "    \n",
    "    \n",
<<<<<<< HEAD
    "    #def greetings(___):\n",
    "        #pass"
=======
    "    def greetings(self):\n",
    "        print('Hello, {} {}, thank you so much for participating in this survey!'.format(self.get_title(), self.last))"
>>>>>>> refs/remotes/origin/master
   ]
  },
  {
   "cell_type": "code",
<<<<<<< HEAD
   "execution_count": null,
   "metadata": {},
   "outputs": [],
   "source": [
    "Justin = Questionnaire('Tennebaum','jt@gmail.com','male')\n",
=======
   "execution_count": 36,
   "metadata": {
    "scrolled": true
   },
   "outputs": [
    {
     "name": "stdout",
     "output_type": "stream",
     "text": [
      "{'last': 'jt@gmail.com', 'gender': 'male', 'age': 100, 'first': 'Tennebaum'}\n"
     ]
    }
   ],
   "source": [
    "# Justin = Questionnaire('Tennebaum','jt@gmail.com','male',100)\n",
    "# print(Justin.__dict__)"
   ]
  },
  {
   "cell_type": "code",
   "execution_count": 43,
   "metadata": {},
   "outputs": [
    {
     "name": "stdout",
     "output_type": "stream",
     "text": [
      "{'last': 'Tennebaum', 'gender': 'male', 'age': 100, 'first': 'Justin'}\n"
     ]
    }
   ],
   "source": [
    "Justin = Questionnaire('Justin','Tennebaum','male', 100)\n",
>>>>>>> refs/remotes/origin/master
    "print(Justin.__dict__)"
   ]
  },
  {
   "cell_type": "code",
<<<<<<< HEAD
   "execution_count": null,
   "metadata": {},
   "outputs": [],
   "source": [
    "#let's get the title for Justin (2 ways)"
=======
   "execution_count": 44,
   "metadata": {
    "scrolled": true
   },
   "outputs": [
    {
     "name": "stdout",
     "output_type": "stream",
     "text": [
      "Hi,Justin, you have 45 to finish the survey\n"
     ]
    }
   ],
   "source": [
    "#let's get the title for Justin (2 ways)\n",
    "Justin.get_time()"
   ]
  },
  {
   "cell_type": "code",
   "execution_count": 45,
   "metadata": {
    "scrolled": true
   },
   "outputs": [
    {
     "name": "stdout",
     "output_type": "stream",
     "text": [
      "Mr.\n"
     ]
    }
   ],
   "source": [
    "print(Justin.get_title())"
   ]
  },
  {
   "cell_type": "code",
   "execution_count": 46,
   "metadata": {},
   "outputs": [
    {
     "name": "stdout",
     "output_type": "stream",
     "text": [
      "Hello, Mr. Tennebaum, thank you so much for participating in this survey!\n"
     ]
    }
   ],
   "source": [
    "Justin.greetings()"
>>>>>>> refs/remotes/origin/master
   ]
  },
  {
   "cell_type": "markdown",
   "metadata": {},
   "source": [
    "All classes create objects, and all objects contain characteristics called attributes (referred to as properties in the opening paragraph). Use the __init__() method to initialize (e.g., specify) an object’s initial attributes by giving them their default value (or state). This method must have at least one argument as well as the self variable, which refers to the object itself (e.g., Questionnaire)."
   ]
  },
  {
   "cell_type": "markdown",
   "metadata": {},
   "source": [
    "### Special method: dunder/magic\n",
    "The documentation of our own class objects can be very ambiguous. However, with the help of special/magic/dunder methods, we can customize documentation of our class by using two of the dunder methods:\n",
    "- `__repr__`\n",
    "- `__str__`"
   ]
  },
  {
   "cell_type": "code",
   "execution_count": 1,
   "metadata": {
    "scrolled": false
   },
   "outputs": [
    {
     "name": "stdout",
     "output_type": "stream",
     "text": [
      "3\n",
      "ab\n"
     ]
    }
   ],
   "source": [
    "# some objects behave differently according to the nature of their data types\n",
    "a = 'a'\n",
    "b = 'b'\n",
    "print(1+2)\n",
    "print('a' + 'b')"
   ]
  },
  {
   "cell_type": "code",
   "execution_count": null,
   "metadata": {},
   "outputs": [],
   "source": [
    "class Questionnaire():\n",
    "    def __init__(self, first, last, email):\n",
    "        self.first = first\n",
    "        self.last = last\n",
    "        self.email = email\n",
    "        \n",
    "    def fullname(self):\n",
    "        return '{} {}'.format(self.first, self.last)\n",
    "        \n",
    "    def __repr__(self):\n",
    "        return \"this is {} {}'s information\".format(self.first, self.last)"
   ]
  },
  {
   "cell_type": "code",
   "execution_count": null,
   "metadata": {
    "scrolled": true
   },
   "outputs": [],
   "source": [
    "kevin = Questionnaire('Kevin','Chen','kchen@gmail.com')\n",
    "kevin"
   ]
  },
  {
   "cell_type": "code",
   "execution_count": null,
   "metadata": {},
   "outputs": [],
   "source": [
    "print(kevin)"
   ]
  },
  {
   "cell_type": "code",
   "execution_count": null,
   "metadata": {},
   "outputs": [],
   "source": [
    "class Questionnaire():\n",
    "    def __init__(self, first, last, email):\n",
    "        self.first = first\n",
    "        self.last = last\n",
    "        self.email = email\n",
    "        \n",
    "    def fullname(self):\n",
    "        return '{} {}'.format(self.first, self.last)\n",
    "    \n",
    "    def __repr__(self):\n",
    "        return \"this is {} {}'s information\".format(self.first, self.last)\n",
    "    \n",
    "    def __len__(self):\n",
    "        return len(self.fullname())"
   ]
  },
  {
   "cell_type": "code",
   "execution_count": null,
   "metadata": {},
   "outputs": [],
   "source": [
    "# create kevin as an object of the class\n",
    "kevin = Questionnaire('Kevin','Chen','kchen@gmail.com')\n",
    "print(kevin.fullname())"
   ]
  },
  {
   "cell_type": "code",
   "execution_count": null,
   "metadata": {
    "scrolled": true
   },
   "outputs": [],
   "source": [
    "# now we can get the length of kevin's full name\n",
    "len(kevin)"
   ]
  },
  {
   "cell_type": "markdown",
   "metadata": {},
   "source": [
    "### Advanced topics in OOP:\n",
    "- Class methods and static methods\n",
    "- Property decorators\n",
    "- Getters and Setters"
   ]
  }
 ],
 "metadata": {
  "kernelspec": {
   "display_name": "Python 3",
   "language": "python",
   "name": "python3"
  },
  "language_info": {
   "codemirror_mode": {
    "name": "ipython",
    "version": 3
   },
   "file_extension": ".py",
   "mimetype": "text/x-python",
   "name": "python",
   "nbconvert_exporter": "python",
   "pygments_lexer": "ipython3",
<<<<<<< HEAD
   "version": "3.7.3"
=======
   "version": "3.8.3"
  },
  "toc": {
   "base_numbering": 1,
   "nav_menu": {},
   "number_sections": true,
   "sideBar": true,
   "skip_h1_title": false,
   "title_cell": "Table of Contents",
   "title_sidebar": "Contents",
   "toc_cell": false,
   "toc_position": {},
   "toc_section_display": true,
   "toc_window_display": false
  },
  "varInspector": {
   "cols": {
    "lenName": 16,
    "lenType": 16,
    "lenVar": 40
   },
   "kernels_config": {
    "python": {
     "delete_cmd_postfix": "",
     "delete_cmd_prefix": "del ",
     "library": "var_list.py",
     "varRefreshCmd": "print(var_dic_list())"
    },
    "r": {
     "delete_cmd_postfix": ") ",
     "delete_cmd_prefix": "rm(",
     "library": "var_list.r",
     "varRefreshCmd": "cat(var_dic_list()) "
    }
   },
   "types_to_exclude": [
    "module",
    "function",
    "builtin_function_or_method",
    "instance",
    "_Feature"
   ],
   "window_display": false
>>>>>>> refs/remotes/origin/master
  }
 },
 "nbformat": 4,
 "nbformat_minor": 2
}
