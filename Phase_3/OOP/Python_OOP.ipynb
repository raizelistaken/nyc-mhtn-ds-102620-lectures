{
 "cells": [
  {
   "cell_type": "markdown",
   "metadata": {},
   "source": [
    "# Python OOP \n",
    "\n",
    "_Dec 21, 2020_\n",
    "\n",
    "Agenda:\n",
    "- Overview of object oriented programming\n",
    "- Object initialization & attributes\n",
    "- Creating methods for objects in a class\n",
    "- Inheritance and subclasses\n",
    "- special methods: dunder/magic method"
   ]
  },
  {
   "cell_type": "markdown",
   "metadata": {},
   "source": [
    "<img src='https://media.giphy.com/media/UrQHrWVIuEWK44VgWz/giphy.gif' width = 300>"
   ]
  },
  {
   "cell_type": "markdown",
   "metadata": {},
   "source": [
    "but we are not going to cover...\n",
    "- classmethods and staticmethods\n",
    "- property decorator\n",
    "- getter and setter"
   ]
  },
  {
   "cell_type": "markdown",
   "metadata": {},
   "source": [
    "## Why do we need object oriented programming \n",
    "Say we wrote a program that allow us to create some beautiful graphics and customize captions, but it is very long. It makes sense to just create a script that perform only that function and import the module. Like we have been doing already:\n",
    "- `import pandas as pd`\n",
    "- `import numpy as np`\n",
    "\n",
    "Object-oriented programming based on the main features that are: \n",
    "- __Abstraction__: It helps in letting the useful information or relevant data to a user, which increases the efficiency of the program and make the things simple. \n",
    "- __Inheritance__. It helps in inheriting the methods, functions, properties, and fields of a base class in derived class. \n",
    "- __Polymorphism__: It helps in doing one task in many ways with help of overloading and overriding which is also known as compile time and run time polymorphism respectively. \n",
    "- __Encapsulation__: It helps in hiding the irrelevant data from a user and prevents the user from unauthorized access."
   ]
  },
  {
   "cell_type": "code",
   "execution_count": null,
   "metadata": {},
   "outputs": [],
   "source": [
    "# create a questionaire class\n",
    "class Questionnaire():\n",
    "    pass"
   ]
  },
  {
   "cell_type": "code",
   "execution_count": null,
   "metadata": {},
   "outputs": [],
   "source": [
    "# we can then create instances in that class"
   ]
  },
  {
   "cell_type": "code",
   "execution_count": null,
   "metadata": {},
   "outputs": [],
   "source": [
    "# create attributes for these instances\n"
   ]
  },
  {
   "cell_type": "code",
   "execution_count": null,
   "metadata": {},
   "outputs": [],
   "source": [
    "# access the attributes\n",
    "print(None)"
   ]
  },
  {
   "cell_type": "code",
   "execution_count": null,
   "metadata": {
    "scrolled": true
   },
   "outputs": [],
   "source": [
    "# access the instance\n",
    "print(None)"
   ]
  },
  {
   "cell_type": "code",
   "execution_count": null,
   "metadata": {},
   "outputs": [],
   "source": [
    "# it might be counterintuitive to manually add these attributes under these instances. so lets create a function in \n",
    "# the class that allow us to automatically do this\n",
    "class Questionnaire:\n",
    "    def __init__(self,___,___,___):\n",
    "        pass\n",
    "        \n",
    "# by default, the init method(constructor) receives the instance itself as the first argument"
   ]
  },
  {
   "cell_type": "code",
   "execution_count": null,
   "metadata": {},
   "outputs": [],
   "source": [
    "# you can then pass values to this init method - but you have to pass them in order with the\n",
    "# correct corresponding arguments\n",
    "student1 = Questionnaire(___,____,___)\n",
    "student2 = Questionnaire(___,____,___)"
   ]
  },
  {
   "cell_type": "markdown",
   "metadata": {},
   "source": [
    "### Class Methods"
   ]
  },
  {
   "cell_type": "markdown",
   "metadata": {},
   "source": [
    "The email and last name are attributes of the Questionnaire class. But what if we want to perform some kind of action? To do that, we can add some methods to this class. For example, if we want to generate a random id for this person in this class."
   ]
  },
  {
   "cell_type": "code",
   "execution_count": null,
   "metadata": {},
   "outputs": [],
   "source": [
    "import numpy as np\n",
    "print(\"{}'s id number is {}\".format(student1.last, str(np.random.randint(9,19))))\n",
    "# how do you rewrite this print statement into a method under the class questionnaire such that each person can "
   ]
  },
  {
   "cell_type": "code",
   "execution_count": null,
   "metadata": {},
   "outputs": [],
   "source": [
    "class Questionnaire:\n",
    "    def __init__(self,last,email,age):\n",
    "        self.last = last\n",
    "        self.email = email\n",
    "        self.age = age\n",
    "    def get_id():\n",
    "        pass"
   ]
  },
  {
   "cell_type": "code",
   "execution_count": null,
   "metadata": {},
   "outputs": [],
   "source": [
    "# applying this method to a new instance of this class\n"
   ]
  },
  {
   "cell_type": "markdown",
   "metadata": {},
   "source": [
    "Let's create a better built out class called Questionnaire!\n",
    "This class will help us:\n",
    "- contruct objects with associated attributes\n",
    "- automatically print out instructions for each individually\n",
    "- automatically create title for each individual according to their gender\n",
    "- create polite greeting for each individual according to their last name and gender\n",
    "- define __class variable__ that is shared between all instances of the class"
   ]
  },
  {
   "cell_type": "code",
   "execution_count": null,
   "metadata": {},
   "outputs": [],
   "source": [
    "class Questionnaire:\n",
    "    \n",
    "    #defining a class variable\n",
    "    time_to_fin = 45\n",
    "    \n",
    "    def __init__(self,last,gender):\n",
    "        self.last = last\n",
    "        self.gender = gender\n",
    "    \n",
    "    # get the time for individual to finish survey\n",
    "    def get_time(self):\n",
    "        pass\n",
    "    \n",
    "    \n",
    "    # get respectful title for each individual\n",
    "    def get_title(self):       \n",
    "        pass\n",
    "    \n",
    "    ### EXERCISE ###\n",
    "    # create a class method called greetings(), where you print out a nice message for your\n",
    "    # participant, according to each of their title and last name\n",
    "    \n",
    "    # example:\n",
    "    # greetings(smith,male)\n",
    "    # >>> 'Hello Mr. Smith, thank you so much for participating in this survey!'\n",
    "    \n",
    "    \n",
    "    #def greetings(___):\n",
    "        #pass"
   ]
  },
  {
   "cell_type": "code",
   "execution_count": null,
   "metadata": {},
   "outputs": [],
   "source": [
    "Justin = Questionnaire('Tennebaum','jt@gmail.com','male')\n",
    "print(Justin.__dict__)"
   ]
  },
  {
   "cell_type": "code",
   "execution_count": null,
   "metadata": {},
   "outputs": [],
   "source": [
    "#let's get the title for Justin (2 ways)"
   ]
  },
  {
   "cell_type": "markdown",
   "metadata": {},
   "source": [
    "All classes create objects, and all objects contain characteristics called attributes (referred to as properties in the opening paragraph). Use the __init__() method to initialize (e.g., specify) an object’s initial attributes by giving them their default value (or state). This method must have at least one argument as well as the self variable, which refers to the object itself (e.g., Questionnaire)."
   ]
  },
  {
   "cell_type": "markdown",
   "metadata": {},
   "source": [
    "### Special method: dunder/magic\n",
    "The documentation of our own class objects can be very ambiguous. However, with the help of special/magic/dunder methods, we can customize documentation of our class by using two of the dunder methods:\n",
    "- `__repr__`\n",
    "- `__str__`"
   ]
  },
  {
   "cell_type": "code",
   "execution_count": 1,
   "metadata": {
    "scrolled": false
   },
   "outputs": [
    {
     "name": "stdout",
     "output_type": "stream",
     "text": [
      "3\n",
      "ab\n"
     ]
    }
   ],
   "source": [
    "# some objects behave differently according to the nature of their data types\n",
    "a = 'a'\n",
    "b = 'b'\n",
    "print(1+2)\n",
    "print('a' + 'b')"
   ]
  },
  {
   "cell_type": "code",
   "execution_count": null,
   "metadata": {},
   "outputs": [],
   "source": [
    "class Questionnaire():\n",
    "    def __init__(self, first, last, email):\n",
    "        self.first = first\n",
    "        self.last = last\n",
    "        self.email = email\n",
    "        \n",
    "    def fullname(self):\n",
    "        return '{} {}'.format(self.first, self.last)\n",
    "        \n",
    "    def __repr__(self):\n",
    "        return \"this is {} {}'s information\".format(self.first, self.last)"
   ]
  },
  {
   "cell_type": "code",
   "execution_count": null,
   "metadata": {
    "scrolled": true
   },
   "outputs": [],
   "source": [
    "kevin = Questionnaire('Kevin','Chen','kchen@gmail.com')\n",
    "kevin"
   ]
  },
  {
   "cell_type": "code",
   "execution_count": null,
   "metadata": {},
   "outputs": [],
   "source": [
    "print(kevin)"
   ]
  },
  {
   "cell_type": "code",
   "execution_count": null,
   "metadata": {},
   "outputs": [],
   "source": [
    "class Questionnaire():\n",
    "    def __init__(self, first, last, email):\n",
    "        self.first = first\n",
    "        self.last = last\n",
    "        self.email = email\n",
    "        \n",
    "    def fullname(self):\n",
    "        return '{} {}'.format(self.first, self.last)\n",
    "    \n",
    "    def __repr__(self):\n",
    "        return \"this is {} {}'s information\".format(self.first, self.last)\n",
    "    \n",
    "    def __len__(self):\n",
    "        return len(self.fullname())"
   ]
  },
  {
   "cell_type": "code",
   "execution_count": null,
   "metadata": {},
   "outputs": [],
   "source": [
    "# create kevin as an object of the class\n",
    "kevin = Questionnaire('Kevin','Chen','kchen@gmail.com')\n",
    "print(kevin.fullname())"
   ]
  },
  {
   "cell_type": "code",
   "execution_count": null,
   "metadata": {
    "scrolled": true
   },
   "outputs": [],
   "source": [
    "# now we can get the length of kevin's full name\n",
    "len(kevin)"
   ]
  },
  {
   "cell_type": "markdown",
   "metadata": {},
   "source": [
    "### Advanced topics in OOP:\n",
    "- Class methods and static methods\n",
    "- Property decorators\n",
    "- Getters and Setters"
   ]
  }
 ],
 "metadata": {
  "kernelspec": {
   "display_name": "Python 3",
   "language": "python",
   "name": "python3"
  },
  "language_info": {
   "codemirror_mode": {
    "name": "ipython",
    "version": 3
   },
   "file_extension": ".py",
   "mimetype": "text/x-python",
   "name": "python",
   "nbconvert_exporter": "python",
   "pygments_lexer": "ipython3",
   "version": "3.7.3"
  }
 },
 "nbformat": 4,
 "nbformat_minor": 2
}
