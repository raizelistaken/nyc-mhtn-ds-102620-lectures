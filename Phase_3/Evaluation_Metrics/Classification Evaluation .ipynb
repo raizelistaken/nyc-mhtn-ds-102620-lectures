{
 "cells": [
  {
   "cell_type": "markdown",
   "metadata": {
    "slideshow": {
     "slide_type": "slide"
    }
   },
   "source": [
    "# Evaluating a classification model\n",
    "\n",
    "_Dec 17, 2020_"
   ]
  },
  {
   "cell_type": "markdown",
   "metadata": {
    "slideshow": {
     "slide_type": "subslide"
    }
   },
   "source": [
    "## Agenda\n",
    "\n",
    "- What is the purpose of **model evaluation**, and what are some common evaluation procedures?\n",
    "- What is the usage of **classification accuracy**, and what are its limitations?\n",
    "- How does a **confusion matrix** describe the performance of a classifier?\n",
    "- What **metrics** can be computed from a confusion matrix?\n",
    "- How can you adjust classifier performance by **changing the classification threshold**?\n",
    "- What is the purpose of an **ROC curve**?\n",
    "- How does **Area Under the Curve (AUC)** differ from classification accuracy?"
   ]
  },
  {
   "cell_type": "markdown",
   "metadata": {
    "slideshow": {
     "slide_type": "slide"
    }
   },
   "source": [
    "## Review of model evaluation\n",
    "\n",
    "- Need a way to choose between models: different model types, tuning parameters, and features\n",
    "- Use a **model evaluation procedure** to estimate how well a model will generalize to out-of-sample data\n",
    "- Requires a **model evaluation metric** to quantify the model performance"
   ]
  },
  {
   "cell_type": "markdown",
   "metadata": {
    "slideshow": {
     "slide_type": "subslide"
    }
   },
   "source": [
    "### Model evaluation procedures\n",
    "\n",
    "1. **Training and testing on the same data**\n",
    "    - Rewards overly complex models that \"overfit\" the training data and won't necessarily generalize\n",
    "2. **Train/test split**\n",
    "    - Split the dataset into two pieces, so that the model can be trained and tested on different data\n",
    "    - Better estimate of out-of-sample performance, but still a \"high variance\" estimate\n",
    "    - Useful due to its speed, simplicity, and flexibility\n",
    "3. **K-fold cross-validation**\n",
    "    - Systematically create \"K\" train/test splits and average the results together\n",
    "    - Even better estimate of out-of-sample performance\n",
    "    - Runs \"K\" times slower than train/test split"
   ]
  },
  {
   "cell_type": "markdown",
   "metadata": {
    "slideshow": {
     "slide_type": "subslide"
    }
   },
   "source": [
    "### Model evaluation metrics\n",
    "\n",
    "- **Regression problems:** Mean Absolute Error, Mean Squared Error, Root Mean Squared Error\n",
    "- **Classification problems:** Classification accuracy"
   ]
  },
  {
   "cell_type": "markdown",
   "metadata": {
    "slideshow": {
     "slide_type": "subslide"
    }
   },
   "source": [
    "<img src='./images/Exam_pass_logistic_curve.jpeg' width =500 />"
   ]
  },
  {
   "cell_type": "markdown",
   "metadata": {},
   "source": [
    "In order to map a logistic regression value to a binary category, you must define a classification threshold (also called the decision threshold). A value above that threshold indicates \"spam\"; a value below indicates \"not spam.\" It is tempting to assume that the classification threshold should always be 0.5, but thresholds are problem-dependent, and are therefore values that you must tune.\n",
    "\n",
    "\n",
    "\"Tuning\" a threshold for logistic regression is different from tuning hyperparameters such as learning rate"
   ]
  },
  {
   "cell_type": "markdown",
   "metadata": {
    "slideshow": {
     "slide_type": "slide"
    }
   },
   "source": [
    "## Classification accuracy\n",
    "\n"
   ]
  },
  {
   "cell_type": "code",
<<<<<<< HEAD
   "execution_count": null,
=======
   "execution_count": 4,
>>>>>>> refs/remotes/origin/master
   "metadata": {},
   "outputs": [],
   "source": [
    "# Import libraries\n",
    "import numpy as np\n",
    "import pandas as pd\n",
    "import matplotlib.pyplot as plt\n",
    "%matplotlib inline\n",
    "import sklearn\n",
    "import seaborn as sns\n",
    "import warnings\n",
    "warnings.filterwarnings('ignore')\n",
    "plt.rcParams[\"figure.figsize\"] = [10,5]"
   ]
  },
  {
   "cell_type": "code",
<<<<<<< HEAD
   "execution_count": null,
=======
   "execution_count": 5,
>>>>>>> refs/remotes/origin/master
   "metadata": {
    "scrolled": true
   },
   "outputs": [],
   "source": [
    "# Read in data and split data to be used in the models\n",
    "titanic = pd.read_csv('https://raw.githubusercontent.com/learn-co-students/nyc-mhtn-ds-042219-lectures/master/Module_4/cleaned_titanic.csv', index_col='PassengerId')\n",
    "\n"
   ]
  },
  {
   "cell_type": "code",
<<<<<<< HEAD
   "execution_count": null,
   "metadata": {},
   "outputs": [],
=======
   "execution_count": 6,
   "metadata": {},
   "outputs": [
    {
     "data": {
      "text/html": [
       "<div>\n",
       "<style scoped>\n",
       "    .dataframe tbody tr th:only-of-type {\n",
       "        vertical-align: middle;\n",
       "    }\n",
       "\n",
       "    .dataframe tbody tr th {\n",
       "        vertical-align: top;\n",
       "    }\n",
       "\n",
       "    .dataframe thead th {\n",
       "        text-align: right;\n",
       "    }\n",
       "</style>\n",
       "<table border=\"1\" class=\"dataframe\">\n",
       "  <thead>\n",
       "    <tr style=\"text-align: right;\">\n",
       "      <th></th>\n",
       "      <th>Survived</th>\n",
       "      <th>Pclass</th>\n",
       "      <th>Age</th>\n",
       "      <th>SibSp</th>\n",
       "      <th>Parch</th>\n",
       "      <th>Fare</th>\n",
       "      <th>youngin</th>\n",
       "      <th>male</th>\n",
       "      <th>Q</th>\n",
       "      <th>S</th>\n",
       "    </tr>\n",
       "    <tr>\n",
       "      <th>PassengerId</th>\n",
       "      <th></th>\n",
       "      <th></th>\n",
       "      <th></th>\n",
       "      <th></th>\n",
       "      <th></th>\n",
       "      <th></th>\n",
       "      <th></th>\n",
       "      <th></th>\n",
       "      <th></th>\n",
       "      <th></th>\n",
       "    </tr>\n",
       "  </thead>\n",
       "  <tbody>\n",
       "    <tr>\n",
       "      <th>1</th>\n",
       "      <td>0</td>\n",
       "      <td>3</td>\n",
       "      <td>22.0</td>\n",
       "      <td>1</td>\n",
       "      <td>0</td>\n",
       "      <td>7.2500</td>\n",
       "      <td>0</td>\n",
       "      <td>1</td>\n",
       "      <td>0</td>\n",
       "      <td>1</td>\n",
       "    </tr>\n",
       "    <tr>\n",
       "      <th>2</th>\n",
       "      <td>1</td>\n",
       "      <td>1</td>\n",
       "      <td>38.0</td>\n",
       "      <td>1</td>\n",
       "      <td>0</td>\n",
       "      <td>71.2833</td>\n",
       "      <td>0</td>\n",
       "      <td>0</td>\n",
       "      <td>0</td>\n",
       "      <td>0</td>\n",
       "    </tr>\n",
       "    <tr>\n",
       "      <th>3</th>\n",
       "      <td>1</td>\n",
       "      <td>3</td>\n",
       "      <td>26.0</td>\n",
       "      <td>0</td>\n",
       "      <td>0</td>\n",
       "      <td>7.9250</td>\n",
       "      <td>0</td>\n",
       "      <td>0</td>\n",
       "      <td>0</td>\n",
       "      <td>1</td>\n",
       "    </tr>\n",
       "    <tr>\n",
       "      <th>4</th>\n",
       "      <td>1</td>\n",
       "      <td>1</td>\n",
       "      <td>35.0</td>\n",
       "      <td>1</td>\n",
       "      <td>0</td>\n",
       "      <td>53.1000</td>\n",
       "      <td>0</td>\n",
       "      <td>0</td>\n",
       "      <td>0</td>\n",
       "      <td>1</td>\n",
       "    </tr>\n",
       "    <tr>\n",
       "      <th>5</th>\n",
       "      <td>0</td>\n",
       "      <td>3</td>\n",
       "      <td>35.0</td>\n",
       "      <td>0</td>\n",
       "      <td>0</td>\n",
       "      <td>8.0500</td>\n",
       "      <td>0</td>\n",
       "      <td>1</td>\n",
       "      <td>0</td>\n",
       "      <td>1</td>\n",
       "    </tr>\n",
       "  </tbody>\n",
       "</table>\n",
       "</div>"
      ],
      "text/plain": [
       "             Survived  Pclass   Age  SibSp  Parch     Fare  youngin  male  Q  \\\n",
       "PassengerId                                                                    \n",
       "1                   0       3  22.0      1      0   7.2500        0     1  0   \n",
       "2                   1       1  38.0      1      0  71.2833        0     0  0   \n",
       "3                   1       3  26.0      0      0   7.9250        0     0  0   \n",
       "4                   1       1  35.0      1      0  53.1000        0     0  0   \n",
       "5                   0       3  35.0      0      0   8.0500        0     1  0   \n",
       "\n",
       "             S  \n",
       "PassengerId     \n",
       "1            1  \n",
       "2            0  \n",
       "3            1  \n",
       "4            1  \n",
       "5            1  "
      ]
     },
     "execution_count": 6,
     "metadata": {},
     "output_type": "execute_result"
    }
   ],
>>>>>>> refs/remotes/origin/master
   "source": [
    "titanic.head()"
   ]
  },
  {
   "cell_type": "code",
<<<<<<< HEAD
   "execution_count": null,
   "metadata": {},
   "outputs": [],
=======
   "execution_count": 7,
   "metadata": {},
   "outputs": [
    {
     "data": {
      "text/html": [
       "<div>\n",
       "<style scoped>\n",
       "    .dataframe tbody tr th:only-of-type {\n",
       "        vertical-align: middle;\n",
       "    }\n",
       "\n",
       "    .dataframe tbody tr th {\n",
       "        vertical-align: top;\n",
       "    }\n",
       "\n",
       "    .dataframe thead th {\n",
       "        text-align: right;\n",
       "    }\n",
       "</style>\n",
       "<table border=\"1\" class=\"dataframe\">\n",
       "  <thead>\n",
       "    <tr style=\"text-align: right;\">\n",
       "      <th></th>\n",
       "      <th>Survived</th>\n",
       "      <th>Pclass</th>\n",
       "      <th>Age</th>\n",
       "      <th>SibSp</th>\n",
       "      <th>Parch</th>\n",
       "      <th>Fare</th>\n",
       "      <th>youngin</th>\n",
       "      <th>male</th>\n",
       "      <th>Q</th>\n",
       "      <th>S</th>\n",
       "    </tr>\n",
       "  </thead>\n",
       "  <tbody>\n",
       "    <tr>\n",
       "      <th>count</th>\n",
       "      <td>889.000000</td>\n",
       "      <td>889.000000</td>\n",
       "      <td>889.000000</td>\n",
       "      <td>889.000000</td>\n",
       "      <td>889.000000</td>\n",
       "      <td>889.000000</td>\n",
       "      <td>889.000000</td>\n",
       "      <td>889.000000</td>\n",
       "      <td>889.000000</td>\n",
       "      <td>889.000000</td>\n",
       "    </tr>\n",
       "    <tr>\n",
       "      <th>mean</th>\n",
       "      <td>0.382452</td>\n",
       "      <td>2.311586</td>\n",
       "      <td>29.019314</td>\n",
       "      <td>0.524184</td>\n",
       "      <td>0.382452</td>\n",
       "      <td>32.096681</td>\n",
       "      <td>0.069741</td>\n",
       "      <td>0.649044</td>\n",
       "      <td>0.086614</td>\n",
       "      <td>0.724409</td>\n",
       "    </tr>\n",
       "    <tr>\n",
       "      <th>std</th>\n",
       "      <td>0.486260</td>\n",
       "      <td>0.834700</td>\n",
       "      <td>13.209814</td>\n",
       "      <td>1.103705</td>\n",
       "      <td>0.806761</td>\n",
       "      <td>49.697504</td>\n",
       "      <td>0.254854</td>\n",
       "      <td>0.477538</td>\n",
       "      <td>0.281427</td>\n",
       "      <td>0.447063</td>\n",
       "    </tr>\n",
       "    <tr>\n",
       "      <th>min</th>\n",
       "      <td>0.000000</td>\n",
       "      <td>1.000000</td>\n",
       "      <td>0.420000</td>\n",
       "      <td>0.000000</td>\n",
       "      <td>0.000000</td>\n",
       "      <td>0.000000</td>\n",
       "      <td>0.000000</td>\n",
       "      <td>0.000000</td>\n",
       "      <td>0.000000</td>\n",
       "      <td>0.000000</td>\n",
       "    </tr>\n",
       "    <tr>\n",
       "      <th>25%</th>\n",
       "      <td>0.000000</td>\n",
       "      <td>2.000000</td>\n",
       "      <td>22.000000</td>\n",
       "      <td>0.000000</td>\n",
       "      <td>0.000000</td>\n",
       "      <td>7.895800</td>\n",
       "      <td>0.000000</td>\n",
       "      <td>0.000000</td>\n",
       "      <td>0.000000</td>\n",
       "      <td>0.000000</td>\n",
       "    </tr>\n",
       "    <tr>\n",
       "      <th>50%</th>\n",
       "      <td>0.000000</td>\n",
       "      <td>3.000000</td>\n",
       "      <td>26.000000</td>\n",
       "      <td>0.000000</td>\n",
       "      <td>0.000000</td>\n",
       "      <td>14.454200</td>\n",
       "      <td>0.000000</td>\n",
       "      <td>1.000000</td>\n",
       "      <td>0.000000</td>\n",
       "      <td>1.000000</td>\n",
       "    </tr>\n",
       "    <tr>\n",
       "      <th>75%</th>\n",
       "      <td>1.000000</td>\n",
       "      <td>3.000000</td>\n",
       "      <td>36.500000</td>\n",
       "      <td>1.000000</td>\n",
       "      <td>0.000000</td>\n",
       "      <td>31.000000</td>\n",
       "      <td>0.000000</td>\n",
       "      <td>1.000000</td>\n",
       "      <td>0.000000</td>\n",
       "      <td>1.000000</td>\n",
       "    </tr>\n",
       "    <tr>\n",
       "      <th>max</th>\n",
       "      <td>1.000000</td>\n",
       "      <td>3.000000</td>\n",
       "      <td>80.000000</td>\n",
       "      <td>8.000000</td>\n",
       "      <td>6.000000</td>\n",
       "      <td>512.329200</td>\n",
       "      <td>1.000000</td>\n",
       "      <td>1.000000</td>\n",
       "      <td>1.000000</td>\n",
       "      <td>1.000000</td>\n",
       "    </tr>\n",
       "  </tbody>\n",
       "</table>\n",
       "</div>"
      ],
      "text/plain": [
       "         Survived      Pclass         Age       SibSp       Parch        Fare  \\\n",
       "count  889.000000  889.000000  889.000000  889.000000  889.000000  889.000000   \n",
       "mean     0.382452    2.311586   29.019314    0.524184    0.382452   32.096681   \n",
       "std      0.486260    0.834700   13.209814    1.103705    0.806761   49.697504   \n",
       "min      0.000000    1.000000    0.420000    0.000000    0.000000    0.000000   \n",
       "25%      0.000000    2.000000   22.000000    0.000000    0.000000    7.895800   \n",
       "50%      0.000000    3.000000   26.000000    0.000000    0.000000   14.454200   \n",
       "75%      1.000000    3.000000   36.500000    1.000000    0.000000   31.000000   \n",
       "max      1.000000    3.000000   80.000000    8.000000    6.000000  512.329200   \n",
       "\n",
       "          youngin        male           Q           S  \n",
       "count  889.000000  889.000000  889.000000  889.000000  \n",
       "mean     0.069741    0.649044    0.086614    0.724409  \n",
       "std      0.254854    0.477538    0.281427    0.447063  \n",
       "min      0.000000    0.000000    0.000000    0.000000  \n",
       "25%      0.000000    0.000000    0.000000    0.000000  \n",
       "50%      0.000000    1.000000    0.000000    1.000000  \n",
       "75%      0.000000    1.000000    0.000000    1.000000  \n",
       "max      1.000000    1.000000    1.000000    1.000000  "
      ]
     },
     "execution_count": 7,
     "metadata": {},
     "output_type": "execute_result"
    }
   ],
>>>>>>> refs/remotes/origin/master
   "source": [
    "titanic.describe()"
   ]
  },
  {
   "cell_type": "code",
<<<<<<< HEAD
   "execution_count": null,
   "metadata": {},
   "outputs": [],
=======
   "execution_count": 8,
   "metadata": {},
   "outputs": [
    {
     "name": "stdout",
     "output_type": "stream",
     "text": [
      "Target Variable\n",
      "Survived\n",
      "0    549\n",
      "1    340\n",
      "Name: Survived, dtype: int64\n"
     ]
    },
    {
     "data": {
      "image/png": "iVBORw0KGgoAAAANSUhEUgAAAmEAAAFJCAYAAADT4vqNAAAAOXRFWHRTb2Z0d2FyZQBNYXRwbG90bGliIHZlcnNpb24zLjMuMiwgaHR0cHM6Ly9tYXRwbG90bGliLm9yZy8vihELAAAACXBIWXMAAAsTAAALEwEAmpwYAAAifElEQVR4nO3df2wUdf7H8dd0y7b0F6XXQlAoARVPDhvwENQKCiIFDwqWUkt1T0RRUINFRBAEPER+HFrRnqBUNLGKtaGAKCIqYlDUGvEHiKDSU3KCYE8sdAv9we58/yDuF07KinbnA8vzkRDp7uzMezbp+GRm27Fs27YFAAAAR0WYHgAAAOBMRIQBAAAYQIQBAAAYQIQBAAAYQIQBAAAYQIQBAAAYQIQBZ5DPPvtMHo9HgwcP1qBBg3TLLbfom2++abL1v/jii1q8eHGTrS/Uli9frrS0NH399dfHPH7bbbdp+fLlTbqtoqIiDRkyRJmZmRo0aJDmzZun+vr6Jlv/6NGjtWPHjiZbH4DQizQ9AABn1NfX67bbbtMzzzyjv/zlL5Kkl19+WaNHj9a6devkcrn+8DZGjBjxh9fhNNu2NWHCBC1btkxRUVEh2caaNWv01ltv6aWXXlJ0dLTq6uo0btw4/etf/9Ldd9/dJNsoKipqkvUAcA5nwoAzxKFDh1RdXa2DBw8GHsvMzNS0adPk8/lUXl6uQYMGBZ47+uvCwkLdfPPNGjx4sO6++25dccUV+uKLLwLL5ufna+nSpSosLNTMmTP13nvvafDgwYHnDxw4oIsvvlj79+/XN998Ezgbl5mZqZUrVwa2l5mZqdzcXA0ePFjV1dUaN26chgwZomuvvVb333+//H7/Mft0ou0sXbpUmZmZGjZsmPLy8ho9S3TppZcqOTlZ8+bNO+7zJ5o3NzdXEydO1NChQzVo0CBt2rTpuOuorKyUz+dTbW2tJCkqKkrTpk1Tv379JEmTJ0/WkiVLAssf/XXfvn2Vn5+vgQMH6rXXXmt0f/v27astW7ZowoQJeuaZZwLLLF26VPn5+ZKkl156SYMGDVJmZqZGjRqlb7/9NrC9MWPG6G9/+5vmz5+vjz/+WNnZ2crKylJWVpbWrl173P0C8McQYcAZokWLFpo4caJuueUWXXXVVZo4caLKysp02WWXye12B339rl27tGLFChUUFGjYsGGBy3X79+/XBx98cEwcpKenq6amRlu2bJEkvfrqq7riiisUGxursWPHyuPx6JVXXlFRUZEKCgr06aefSjoSPI888oheeeUVrVu3TjU1NXr55Ze1bNkySdJ//vOfY2ZqbDtxcXGaPXu2nn76aZWVlSknJ6fRQLIsS/PmzdOaNWu0fv36Y547fPjwCefdvHmzRo0apZUrVyorK0uPPvrocbdx7bXXKiEhQZdffrmuu+46zZ07Vz/88IPS0tKCvu+SdN5552nNmjUaOHDgcfe3RYsWgWWHDx+uFStWBL5esWKFcnJy9MEHH+jpp5/Wc889p1WrVmnQoEG644479MtNU2pra7V69WpNnDhRhYWFuummm7R8+XLNnj1bH3744W+aE8DJIcKAM8hNN92kjRs36v7771dKSoqKioo0dOhQVVdXB31t165dFRl55BMMw4YN05o1a1RfX69XX31Vffv2VXx8fGBZy7I0bNiwQAwsX75cOTk5+u6771RXV6f+/ftLklq3bq3+/fvr3XfflSS1adNGZ599tiTpr3/9q3bs2CGPx6PFixfrxhtvVPv27Y+ZqbHtuFwuDRgwQLm5uZo5c6YSEhKUnZ3d6L61atVKDz30kKZMmaLKysrA48HmPeuss3TBBRdIkjp37qz9+/cfd/3x8fF65plntGbNGmVnZ+unn37Srbfeqvnz5wd93yWpe/fuJ9zfo/Xs2VN1dXXasmWLduzYoX379unSSy/Vu+++q2uuuUZJSUmSpKysLO3du1fff/+9pCPv9y8GDhyomTNnasKECdq6dWuTXTIFcCwiDDhDbNq0SU8//bTi4uLUp08f3XvvvVq9erUsy9LGjRtlWZaOvpVsQ0PDMa+PiYkJ/P3ss89W586d9c4772j58uXHDZzs7Gy9/vrr2rZtm6qrq9WjRw/5fD5ZlnXMcrZt6/Dhw7/aRrt27fTmm2/q1ltvldfr1U033aS33377N21Hkh5++GE9+eSTSk1N1eLFi4OGRN++fTVgwABNmjQp8D4Emzc6Ojrw+NHv35AhQwJ/tmzZoqKiIn3yySdq166dhg8frvnz56uoqEhLly791WulE7/3je3v0XNkZ2fr5ZdfVllZmbKzs2VZ1q8u5f7vvhy9jdzcXK1atUrp6el67733lJmZqbq6uhO+fwBOHhEGnCGSkpK0aNEiffzxx4HHKisr5fV61alTJyUlJWn37t366aefZNu2Vq9efcL15eTkqKioSIcOHTrmLMovWrdurbS0NE2fPj0QaR07dlRkZKTeeOMNSdLevXu1du1aXXbZZb96/dKlS3Xffffp8ssv18SJE3X55Zfryy+//E3b2bdvn6644golJiZq5MiRys/PD1zCO5HJkyfrxx9/1AcffHDS8x7t5ZdfDvy58MILVVtbq0ceeURVVVWBZb7++mt17txZktSyZcvAZ+z27t2rjz76qNF1H29//9e1116rt99+W2vXrlVWVpYkqVevXnrttde0b98+SVJZWZkSExN/dXZROhJh27ZtU1ZWlh588EEdOHDgmDOEAJoGPx0JnCE6dOigJ554Qo8++qj27NmjqKgoxcfHa/bs2erYsaOkI//zHTZsmFJSUnTllVeeMFz69u2rf/zjHxo9enSjywwfPlx33XWXFi1aJElq1qyZFi5cqFmzZqmwsFA+n0933HGHLrnkEpWXlx/z2qFDh+qjjz7SNddco+bNm6tNmzbyeDy/aTtJSUkaO3asRo4cqejoaLlcLs2aNSvoexQVFaVHHnlEw4cPP+l5T+T222+XZVnKzc0NnJXq0qWLFixYIEnyeDy65557lJGRobZt2+qSSy454fr+d3//V0pKijp37qzDhw+rdevWko58fm7kyJG68cYb5ff7lZSUpKeeekoREb/+t/g999yj2bNna8GCBbIsS3feeafatm37m/cXwG9j2UefAwcAAIAjuBwJAABgABEGAABgABEGAABgABEGAABgABEGAABgwGn3Kyr8fr98Pn6gEwAAnPqaNXM1+txpF2E+n62qqoPBFwQAADAsJSW+0ee4HAkAAGAAEQYAAGAAEQYAAGAAEQYAAGAAEQYAAGAAEQYAAGAAEQYAAGAAEQYAAGAAEQYAAGAAEQYAAGAAEQYAAGDAaXfvSKdFR0dI4obhgPMs1db6TQ8BACFDhAVlq7j4edNDAGccj+cG0yMAQEhxORIAAMAAIgwAAMAAIgwAAMAAIgwAAMAAIgwAAMAAIgwAAMAAIgwAAMAAIgwAAMAAIgwAAMAAIgwAAMAAIgwAAMAAIgwAAMAAIgwAAMAAIgwAAMAAIgwAAMAAIgwAAMAAIgwAAMAAIgwAAMCAyFCteOjQoYqPj5cktW3bVmPGjNHkyZNlWZbOO+88zZgxQxERESotLVVJSYkiIyM1duxY9enTJ1QjAQAAnDJCEmF1dXWSpOLi4sBjY8aMUX5+vnr27Knp06dr3bp16tq1q4qLi1VWVqa6ujrl5eUpPT1dbrc7FGMBAACcMkISYdu3b9ehQ4c0atQoHT58WHfffbe2bt2qHj16SJJ69+6tjRs3KiIiQt26dZPb7Zbb7VZqaqq2b9+utLS0UIwFAABwyghJhEVHR+vmm2/W8OHD9d1332n06NGybVuWZUmSYmNjVV1dLa/XG7hk+cvjXq/3hOt2uSwlJsaEYuzjqq+vlcvFR+cAp0VEWEpMbG56DAAImZBEWIcOHdS+fXtZlqUOHTooMTFRW7duDTxfU1OjhIQExcXFqaam5pjHj46y4/H5bFVVHQzF2McVHW3J5/M7tj0AR/j9zn6vA0AopKQ03jUhOcWzbNkyzZ07V5K0d+9eeb1epaenq7y8XJK0YcMGde/eXWlpadq0aZPq6upUXV2tiooKderUKRQjAQAAnFJCciYsOztb9913n0aMGCHLsjR79my1bNlS06ZNU0FBgTp27KiMjAy5XC55PB7l5eXJtm2NHz9eUVFRoRgJAADglGLZtm2bHuJkNDT4HL8cWVz8vGPbA3CEx3ODamtPq8MTAPyK45cjAQAAcGJEGAAAgAFEGAAAgAFEGAAAgAFEGAAAgAFEGAAAgAFEGAAAgAFEGAAAgAFEGAAAgAFEGAAAgAFEGAAAgAFEGAAAgAFEGAAAgAFEGAAAgAFEGAAAgAFEGAAAgAFEGAAAgAFEGAAAgAFEGAAAgAFEGAAAgAFEGAAAgAFEGAAAgAFEGAAAgAFEGAAAgAFEGAAAgAFEGAAAgAFEGAAAgAFEGAAAgAFEGAAAgAFEGAAAgAFEGAAAgAFEGAAAgAFEGAAAgAFEGAAAgAFEGAAAgAFEGAAAgAFEGAAAgAFEGAAAgAFEGAAAgAEhi7CffvpJV1xxhSoqKrRz506NGDFCeXl5mjFjhvx+vySptLRUWVlZysnJ0fr160M1CgAAwCknJBHW0NCg6dOnKzo6WpI0Z84c5efna+nSpbJtW+vWrVNlZaWKi4tVUlKiJUuWqKCgQPX19aEYBwAA4JQTkgibN2+ecnNz1apVK0nS1q1b1aNHD0lS79699f7772vz5s3q1q2b3G634uPjlZqaqu3bt4diHAAAgFNOZFOvcPny5UpKSlKvXr20ePFiSZJt27IsS5IUGxur6upqeb1excfHB14XGxsrr9cbdP0ul6XExJimHrtR9fW1crn46BzgtIgIS4mJzU2PAQAh0+QRVlZWJsuy9MEHH2jbtm2aNGmS9u3bF3i+pqZGCQkJiouLU01NzTGPHx1ljfH5bFVVHWzqsRsVHW3J5/M7tj0AR/j9zn6vA0AopKQ03jZNfornhRde0PPPP6/i4mJdcMEFmjdvnnr37q3y8nJJ0oYNG9S9e3elpaVp06ZNqqurU3V1tSoqKtSpU6emHgcAAOCU1ORnwo5n0qRJmjZtmgoKCtSxY0dlZGTI5XLJ4/EoLy9Ptm1r/PjxioqKcmIcAAAA4yzbtm3TQ5yMhgaf45cji4ufd2x7AI7weG5Qbe1pdXgCgF9x9HIkAAAAgiPCAAAADCDCAAAADCDCAAAADCDCAAAADCDCAAAADCDCAAAADCDCAAAADCDCAAAADCDCAAAADCDCAAAADCDCAAAADCDCAAAADCDCAAAADCDCAAAADCDCAAAADCDCAAAADCDCAAAADDipCPvhhx9CNQcAAMAZJTLYAs8995yio6N14MABLV++XL169dJ9993nxGwAAABhK+iZsNWrV2vo0KHasGGDVq9erW3btjkxFwAAQFgLGmGWZamyslLJycmyLEv79+93Yi4AAICwFjTCevbsqRtuuEE33HCDZs+erf79+zsxFwAAQFgL+pmwc845R+vXr5ckdenSRW63O+RDAUC4a57gkmWZngI489i2dOiAz/QYkn5DhJWWliozM1OSCDAAaCKWJa358XXTYwBnnIGtBpgeISBohNXX12vo0KHq0KGDIiKOXL185JFHQj4YAABAOAsaYffcc48TcwAAAJxRgn4wv3Pnztq4caNWrlypqqoqtW7d2om5AAAAwlrQCJsyZYratWun7777TsnJyZo6daoTcwEAAIS1oBFWVVWl7OxsRUZG6qKLLpJt207MBQAAENZ+070jKyoqJEl79uwJfDgfAAAAv1/Qopo6daqmTJmiL7/8UuPGjdPkyZOdmAsAACCsBf3pyPPPP18vvfSSE7MAAACcMYJGWK9evbRv3z61bNlSVVVVcrvdSk5O1owZM5Senu7EjAAAAGEn6OXIiy++WK+88oree+89vfbaa+rXr5+Kior02GOPOTEfAABAWAoaYXv27FHHjh0lSampqfrhhx/Uvn17uVyukA8HAAAQroJejkxJSdHDDz+sbt266dNPP1VycrI2btyoZs2aOTEfAABAWAp6Juyf//ynWrVqpQ0bNqhNmzaaO3euYmJiVFBQ4MR8AAAAYSnomTC3262uXbvqggsukCRt3rxZF198ccgHAwAACGdBI+zOO+/Uzz//rDZt2si2bVmWFTTCfD6f7r//fn377bdyuVyaM2eObNvW5MmTZVmWzjvvPM2YMUMREREqLS1VSUmJIiMjNXbsWPXp06fJdg4AAOBUFTTCfvrpJ5WUlJzUStevXy9JKikpUXl5eSDC8vPz1bNnT02fPl3r1q1T165dVVxcrLKyMtXV1SkvL0/p6elyu92/b28AAABOE0EjrEOHDtq7d69at279m1far18/XXnllZKk3bt3Kzk5We+884569OghSerdu7c2btyoiIgIdevWTW63W263W6mpqdq+fbvS0tJ+394AAACcJoJG2CeffKI+ffqoZcuWsixLkvTee+8FX3FkpCZNmqQ333xTjz/+uNavXx94fWxsrKqrq+X1ehUfHx94TWxsrLxe7wnX63JZSkyMCbr9plJfXyuXi/tlAk6LiLCUmNjc9Bghc9iqVyTHFsBxR44tznXEiQSNsLVr1/7ulc+bN0/33HOPcnJyVFdXF3i8pqZGCQkJiouLU01NzTGPHx1lx+Pz2aqqOvi7ZzpZ0dGWfD6/Y9sDcITf7+z3utNiWrh0mGML4Di/31bVfueOLSkpjXdN0H+GffPNN8rLy9PgwYO1ePHiwOe9TmTlypV66qmnJEnNmzeXZVnq0qWLysvLJUkbNmxQ9+7dlZaWpk2bNqmurk7V1dWqqKhQp06dfut+AQAAnLaCRtisWbM0Z84cJSYmKjs7W4WFhUFX2r9/f3355Ze6/vrrdfPNN2vKlCmaPn26CgsLdd1116mhoUEZGRlKSUmRx+NRXl6ebrzxRo0fP15RUVFNsmMAAACnsqCXIyWpffv2sixLSUlJio2NDbp8TEzMce8t+fzzz//qsZycHOXk5PyWMQAAAMJG0DNhLVq0UElJiQ4dOqTVq1crISHBibkAAADCWtAImz17tr7//nu1bNlSX3zxhR566CEn5gIAAAhrQS9HxsXF6bbbbpNlWXrrrbcCv2YCAAAAv1/QCLv33nuVnp6uTz/9VH6/X2+++aaeeOIJJ2YDAAAIW0EvR+7atUtDhgxRRUWFZs6cGfSXqQIAACC4oBHW0NCg1157Teeee6727dunqqoqB8YCAAAIb0Ej7JZbbtHatWt12223qbi4WPn5+Q6MBQAAEN6Cfiasf//+uuqqqyRJ6enp3FwbAACgCQSNsPnz56tdu3bavXu3tm7dquTkZM2bN8+J2QAAAMJW0MuRmzZtUm5urj799FMtWbJEe/bscWIuAACAsBY0wvx+vzZv3qy2bduqvr5e+/btc2IuAACAsBY0woYMGaIHH3xQo0aN0vz58/X3v//dibkAAADCWtDPhF1//fW6/vrrJUlTp05VQ0NDyIcCAAAId0EjrKSkRM8++6wOHz4s27bVrFkzrV271onZAAAAwlbQy5GlpaUqLi5W7969NWfOHJ1zzjlOzAUAABDWgkZYy5Yt1apVK9XU1Khnz57av3+/E3MBAACEtaARFh8fr7feekuWZamkpISfjgQAAGgCQSNs1qxZOuusszRhwgR99913euCBBxwYCwAAILw1+sH8gwcPavny5YqJidHQoUMVERGhyZMnOzkbAABA2Gr0TNjkyZO1Z88effbZZ1qwYIGDIwEAAIS/Rs+E/fzzz3r88cfl9/s1atQoJ2cCAAAIe42eCbMs68gCERHy+/2ODQQAAHAmaPRMmG3bamhokG3bx/xdktxut2MDAgAAhKNGI2zXrl0aMGCApCNBNmDAANm2LcuytG7dOscGBAAACEeNRtjbb7/t5BwAAABnlKC/JwwAAABNjwgDAAAwIGiEvfHGG8f8FwAAAH9co58Ju+mmmxQbG6uKigr96U9/0nPPPaf+/fs7ORsAAEDYavRM2LPPPqv58+fL5XLpww8/1I4dOzRq1ChNnz7dyfkAAADCUqNnwqZMmaILL7xQcXFxGjNmjD788EM988wz2rVrl5PzAQAAhKVGz4TdfffdSklJ0a5du3T77bdrx44devTRR/XFF184OR8AAEBYajTCkpOT1a9fP1100UV66qmndPHFF+vqq69WVVWVg+MBAACEp0YvR/7isccekyQ9/vjjkqQuXbqEdiIAAIAzAL8nDAAAwAAiDAAAwAAiDAAAwAAiDAAAwAAiDAAAwICgPx15shoaGjRlyhTt2rVL9fX1Gjt2rM4991xNnjxZlmXpvPPO04wZMxQREaHS0lKVlJQoMjJSY8eOVZ8+fZp6HAAAgFNSk0fYqlWrlJiYqPnz5+vnn3/Wtddeqz//+c/Kz89Xz549NX36dK1bt05du3ZVcXGxysrKVFdXp7y8PKWnp8vtdjf1SAAAAKecJo+wAQMGKCMjI/C1y+XS1q1b1aNHD0lS7969tXHjRkVERKhbt25yu91yu91KTU3V9u3blZaW1tQjAQAAnHKaPMJiY2MlSV6vV+PGjVN+fr7mzZsny7ICz1dXV8vr9So+Pv6Y13m93qDrd7ksJSbGNPXYjaqvr5XLxUfnAKdFRFhKTGxueoyQOWzVK5JjC+C4I8cW5zriRJo8wiTphx9+0B133KG8vDwNHjxY8+fPDzxXU1OjhIQExcXFqaam5pjHj46yxvh8tqqqDoZi7OOKjrbk8/kd2x6AI/x+Z7/XnRbTwqXDHFsAx/n9tqr2O3dsSUlpvG2a/J9h//3vfzVq1ChNnDhR2dnZkqTOnTurvLxckrRhwwZ1795daWlp2rRpk+rq6lRdXa2Kigp16tSpqccBAAA4JTX5mbAnn3xSBw4c0MKFC7Vw4UJJ0tSpUzVr1iwVFBSoY8eOysjIkMvlksfjUV5enmzb1vjx4xUVFdXU4wAAAJySLNu2bdNDnIyGBp/jlyOLi593bHsAjvB4blBt7Wl1eDopMS1cWvPj66bHAM44A1sN0MH9Pse25+jlSAAAAARHhAEAABhAhAEAABhAhAEAABhAhAEAABhAhAEAABhAhAEAABhAhAEAABhAhAEAABhAhAEAABhAhAEAABhAhAEAABhAhAEAABhAhAEAABhAhAEAABhAhAEAABhAhAEAABhAhAEAABhAhAEAABhAhAEAABhAhAEAABhAhAEAABhAhAEAABhAhAEAABhAhAEAABhAhAEAABhAhAEAABhAhAEAABhAhAEAABhAhAEAABhAhAEAABhAhAEAABhAhAEAABhAhAEAABhAhAEAABhAhAEAABhAhAEAABhAhAEAABhAhAEAABgQsgj7/PPP5fF4JEk7d+7UiBEjlJeXpxkzZsjv90uSSktLlZWVpZycHK1fvz5UowAAAJxyQhJhRUVFuv/++1VXVydJmjNnjvLz87V06VLZtq1169apsrJSxcXFKikp0ZIlS1RQUKD6+vpQjAMAAHDKCUmEpaamqrCwMPD11q1b1aNHD0lS79699f7772vz5s3q1q2b3G634uPjlZqaqu3bt4diHAAAgFNOSCIsIyNDkZGRga9t25ZlWZKk2NhYVVdXy+v1Kj4+PrBMbGysvF5vKMYBAAA45UQGX+SPi4j4/9arqalRQkKC4uLiVFNTc8zjR0dZY1wuS4mJMSGZ83jq62vlcvHzC4DTIiIsJSY2Nz1GyBy26hXJsQVw3JFji3MdcSKORFjnzp1VXl6unj17asOGDbrkkkuUlpamBQsWqK6uTvX19aqoqFCnTp2Crsvns1VVddCBqY+Ijrbk8/kd2x6AI/x+Z7/XnRbTwqXDHFsAx/n9tqr2O3dsSUlp/ASTIxE2adIkTZs2TQUFBerYsaMyMjLkcrnk8XiUl5cn27Y1fvx4RUVFOTEOAACAcZZt27bpIU5GQ4PP8TNhxcXPO7Y9AEd4PDeotva0OjydlJgWLq358XXTYwBnnIGtBujgfp9j2zvRmTA+kAAAAGAAEQYAAGAAEQYAAGAAEQYAAGAAEQYAAGAAEQYAAGAAEQYAAGAAEQYAAGAAEQYAAGAAEQYAAGAAEQYAAGAAEQYAAGAAEQYAAGAAEQYAAGAAEQYAAGAAEQYAAGAAEQYAAGAAEQYAAGAAEQYAAGAAEQYAAGAAEQYAAGAAEQYAAGAAEQYAAGAAEQYAAGAAEQYAAGAAEQYAAGAAEQYAAGAAEQYAAGAAEQYAAGAAEQYAAGAAEQYAAGAAEQYAAGAAEQYAAGAAEQYAAGAAEQYAAGAAEQYAAGAAEQYAAGAAEQYAAGAAEQYAAGBApOkB/H6/HnjgAX311Vdyu92aNWuW2rdvb3osAACAkDJ+Juytt95SfX29XnrpJU2YMEFz5841PRIAAEDIGY+wTZs2qVevXpKkrl276osvvjA8EQAAQOgZjzCv16u4uLjA1y6XS4cPHzY4EQAAQOgZ/0xYXFycampqAl/7/X5FRjY+VrNmLqWkxDsxWsDtt49xdHsAjoh39lvdcdlts0yPAJyRYlNMT3CE8TNhF110kTZs2CBJ+uyzz9SpUyfDEwEAAISeZdu2bXKAX3468uuvv5Zt25o9e7bOOecckyMBAACEnPEIAwAAOBMZvxwJAABwJiLCAAAADCDCAAAADCDCEHb8fr+mT5+u6667Th6PRzt37jQ9EoAw8vnnn8vj8ZgeA2HA+O8JA5ra0bfC+uyzzzR37lwtWrTI9FgAwkBRUZFWrVql5s2bmx4FYYAzYQg73AoLQKikpqaqsLDQ9BgIE0QYwg63wgIQKhkZGSe8qwtwMogwhJ2TvRUWAAAmEGEIO9wKCwBwOuD0AMLO1VdfrY0bNyo3NzdwKywAAE413LYIAADAAC5HAgAAGECEAQAAGECEAQAAGECEAQAAGECEAQAAGECEATitLV68WCNHjtSoUaN08803/6HbVD300EPavXv37379+PHjVV5e/rtfD+DMwu8JA3Da2rFjh95++229+OKLsixL27Zt06RJk7Rq1arftb6pU6c28YQA0DjOhAE4bSUlJWn37t1atmyZ9u7dqwsuuEDLli2Tx+NRRUWFJOnFF19UYWGhvv/+ew0ePFgej0dFRUUaOHCgfvk1if/4xz/05ptvBl6XlZWl77//XpK0Zs0azZo1S9XV1Ro3bpw8Ho88Ho+++uorSdILL7ygoUOHavTo0dq5c6eZNwLAaYkIA3DaSkpK0qJFi/TJJ5/ouuuu04ABA7R+/fpGl6+srNSSJUs0evRonX/++fr4449VX1+vjz76SH369Aksl52drZUrV0qSVqxYoZycHD355JO65JJLVFxcrAcffFAPPPCAqqur9dxzz6m0tFQLFy5UQ0NDqHcZQBjhciSA09bOnTsVFxenOXPmSJK2bNmiW2+9VcnJyYFljr4pSNu2beV2uyVJOTk5WrFihSorK9W3b99jbvKemZmpESNGaPjw4fJ6verUqZO+/vprffjhh1qzZo0k6cCBA/r3v/+tc889N7DOtLS0kO8zgPDBmTAAp62vvvpKDzzwgOrq6iRJHTp0UHx8vBITE1VZWSlJ+vLLLwPLR0T8/yHv0ksv1bZt21RWVqbs7Oxj1hsXF6cuXbpozpw5ysrKkiR17NhRI0eOVHFxsRYsWKDBgwerXbt22rFjh2pra+Xz+bRt27ZQ7zKAMMKZMACnrf79+6uiokLDhw9XTEyMbNvWvffeq2bNmmnmzJlq06aNWrVqddzXWpaljIwMvf/++2rfvv2vnh8+fLhuueWWwA3gx4wZo6lTp6q0tFRer1d33nmnkpKSdNdddyk3N1dJSUlq3rx5SPcXQHjhBt4AAAAGcDkSAADAACIMAADAACIMAADAACIMAADAACIMAADAACIMAADAACIMAADAACIMAADAgP8D/3Egxi9gX90AAAAASUVORK5CYII=\n",
      "text/plain": [
       "<Figure size 720x360 with 1 Axes>"
      ]
     },
     "metadata": {},
     "output_type": "display_data"
    }
   ],
>>>>>>> refs/remotes/origin/master
   "source": [
    "# Survival Count\n",
    "print('Target Variable')\n",
    "print(titanic.groupby(['Survived']).Survived.count())\n",
    "\n",
    "# Target Variable Countplot\n",
    "sns.set_style('darkgrid')\n",
    "plt.figure(figsize = (10,5))\n",
    "sns.countplot(titanic['Survived'], alpha =.80, palette= ['grey','lightgreen'])\n",
    "plt.title('Survivors vs Non-Survivors')\n",
    "plt.ylabel('# Passengers')\n",
    "plt.show()"
   ]
  },
  {
   "cell_type": "code",
<<<<<<< HEAD
   "execution_count": null,
   "metadata": {},
   "outputs": [],
=======
   "execution_count": 9,
   "metadata": {},
   "outputs": [
    {
     "name": "stdout",
     "output_type": "stream",
     "text": [
      "Continuous Variables\n",
      "      count       mean        std   min      25%      50%   75%       max\n",
      "Age   889.0  29.019314  13.209814  0.42  22.0000  26.0000  36.5   80.0000\n",
      "Fare  889.0  32.096681  49.697504  0.00   7.8958  14.4542  31.0  512.3292\n",
      "--------------------------------------------------------------------------------\n",
      "Discrete Variables\n",
      "Pclass\n",
      "1    214\n",
      "2    184\n",
      "3    491\n",
      "Name: Pclass, dtype: int64\n",
      "SibSp\n",
      "0    606\n",
      "1    209\n",
      "2     28\n",
      "3     16\n",
      "4     18\n",
      "5      5\n",
      "8      7\n",
      "Name: SibSp, dtype: int64\n",
      "Parch\n",
      "0    676\n",
      "1    118\n",
      "2     80\n",
      "3      5\n",
      "4      4\n",
      "5      5\n",
      "6      1\n",
      "Name: Parch, dtype: int64\n"
     ]
    },
    {
     "data": {
      "image/png": "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\n",
      "text/plain": [
       "<Figure size 1440x1152 with 5 Axes>"
      ]
     },
     "metadata": {},
     "output_type": "display_data"
    }
   ],
>>>>>>> refs/remotes/origin/master
   "source": [
    "# Identify numeric features\n",
    "print('Continuous Variables')\n",
    "print(titanic[['Age','Fare']].describe().transpose())\n",
    "print('--'*40)\n",
    "print('Discrete Variables')\n",
    "print(titanic.groupby('Pclass').Pclass.count())\n",
    "print(titanic.groupby('SibSp').SibSp.count())\n",
    "print(titanic.groupby('Parch').Parch.count())\n",
    "\n",
    "# Subplots of Numeric Features\n",
    "sns.set_style('darkgrid')\n",
    "fig = plt.figure(figsize = (20,16))\n",
    "fig.subplots_adjust(hspace = .30)\n",
    "\n",
    "ax1 = fig.add_subplot(321)\n",
    "ax1.hist(titanic['Pclass'], bins = 20, alpha = .50,edgecolor= 'black',color ='teal')\n",
    "ax1.set_xlabel('Pclass', fontsize = 15)\n",
    "ax1.set_ylabel('# Passengers',fontsize = 15)\n",
    "ax1.set_title('Passenger Class',fontsize = 15)\n",
    "\n",
    "ax2 = fig.add_subplot(323)\n",
    "ax2.hist(titanic['Age'], bins = 20, alpha = .50,edgecolor= 'black',color ='teal')\n",
    "ax2.set_xlabel('Age',fontsize = 15)\n",
    "ax2.set_ylabel('# Passengers',fontsize = 15)\n",
    "ax2.set_title('Age of Passengers',fontsize = 15)\n",
    "\n",
    "ax3 = fig.add_subplot(325)\n",
    "ax3.hist(titanic['SibSp'], bins = 20, alpha = .50,edgecolor= 'black',color ='teal')\n",
    "ax3.set_xlabel('SibSp',fontsize = 15)\n",
    "ax3.set_ylabel('# Passengers',fontsize = 15)\n",
    "ax3.set_title('Passengers with Spouses or Siblings',fontsize = 15)\n",
    "\n",
    "ax4 = fig.add_subplot(222)\n",
    "ax4.hist(titanic['Parch'], bins = 20, alpha = .50,edgecolor= 'black',color ='teal')\n",
    "ax4.set_xlabel('Parch',fontsize = 15)\n",
    "ax4.set_ylabel('# Passengers',fontsize = 15)\n",
    "ax4.set_title('Passengers with Children',fontsize = 15)\n",
    "\n",
    "ax5 = fig.add_subplot(224)\n",
    "ax5.hist(titanic['Fare'], bins = 20, alpha = .50,edgecolor= 'black',color ='teal')\n",
    "ax5.set_xlabel('Fare',fontsize = 15)\n",
    "ax5.set_ylabel('# Passengers',fontsize = 15)\n",
    "ax5.set_title('Ticket Fare',fontsize = 15)\n",
    "\n",
    "plt.show()"
   ]
  },
  {
   "cell_type": "code",
<<<<<<< HEAD
   "execution_count": null,
   "metadata": {},
   "outputs": [],
=======
   "execution_count": 10,
   "metadata": {},
   "outputs": [
    {
     "name": "stdout",
     "output_type": "stream",
     "text": [
      "Passenger Class Summary\n",
      "\n",
      "\n",
      "Survived    0    1\n",
      "Pclass            \n",
      "1          80  134\n",
      "2          97   87\n",
      "3         372  119\n"
     ]
    },
    {
     "data": {
      "image/png": "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\n",
      "text/plain": [
       "<Figure size 720x360 with 1 Axes>"
      ]
     },
     "metadata": {},
     "output_type": "display_data"
    }
   ],
>>>>>>> refs/remotes/origin/master
   "source": [
    "\n",
    "# Passenger class summary\n",
    "print('Passenger Class Summary')\n",
    "\n",
    "print('\\n')\n",
    "print(titanic.groupby(['Pclass','Survived']).Pclass.count().unstack())\n",
    "\n",
    "# Passenger class visualization\n",
    "pclass = titanic.groupby(['Pclass','Survived']).Pclass.count().unstack()\n",
    "p1 = pclass.plot(kind = 'bar', stacked = True, \n",
    "                   title = 'Passengers by Class: Survivors vs Non-Survivors', \n",
    "                   color = ['grey','lightgreen'], alpha = .70)\n",
    "p1.set_xlabel('Pclass')\n",
    "p1.set_ylabel('# Passengers')\n",
    "p1.legend(['Did Not Survive','Survived'])\n",
    "plt.show()"
   ]
  },
  {
   "cell_type": "code",
<<<<<<< HEAD
   "execution_count": null,
   "metadata": {},
   "outputs": [],
=======
   "execution_count": 11,
   "metadata": {},
   "outputs": [
    {
     "name": "stdout",
     "output_type": "stream",
     "text": [
      "Passengers with Siblings or Spouse\n",
      "\n",
      "\n",
      "Survived      0      1\n",
      "SibSp                 \n",
      "0         398.0  208.0\n",
      "1          97.0  112.0\n",
      "2          15.0   13.0\n",
      "3          12.0    4.0\n",
      "4          15.0    3.0\n",
      "5           5.0    NaN\n",
      "8           7.0    NaN\n"
     ]
    },
    {
     "data": {
      "image/png": "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\n",
      "text/plain": [
       "<Figure size 720x360 with 1 Axes>"
      ]
     },
     "metadata": {},
     "output_type": "display_data"
    }
   ],
>>>>>>> refs/remotes/origin/master
   "source": [
    "# SibSp Summary\n",
    "print('Passengers with Siblings or Spouse')\n",
    "print('\\n')\n",
    "print(titanic.groupby(['SibSp','Survived']).SibSp.count().unstack())\n",
    "\n",
    "sibsp = titanic.groupby(['SibSp','Survived']).SibSp.count().unstack()\n",
    "p2 = sibsp.plot(kind = 'bar', stacked = True,\n",
    "                   color = ['grey','lightgreen'], alpha = .70)\n",
    "p2.set_title('Passengers with Siblings or Spouse: Survivors vs Non-Survivors')\n",
    "p2.set_xlabel('Sibsp')\n",
    "p2.set_ylabel('# Passengers')\n",
    "p2.legend(['Did Not Survive','Survived'])\n",
    "plt.show()"
   ]
  },
  {
   "cell_type": "code",
<<<<<<< HEAD
   "execution_count": null,
   "metadata": {},
   "outputs": [],
=======
   "execution_count": 12,
   "metadata": {},
   "outputs": [
    {
     "name": "stdout",
     "output_type": "stream",
     "text": [
      "Survived      0      1\n",
      "Parch                 \n",
      "0         445.0  231.0\n",
      "1          53.0   65.0\n",
      "2          40.0   40.0\n",
      "3           2.0    3.0\n",
      "4           4.0    NaN\n",
      "5           4.0    1.0\n",
      "6           1.0    NaN\n"
     ]
    },
    {
     "data": {
      "image/png": "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\n",
      "text/plain": [
       "<Figure size 720x360 with 1 Axes>"
      ]
     },
     "metadata": {},
     "output_type": "display_data"
    }
   ],
>>>>>>> refs/remotes/origin/master
   "source": [
    "print(titanic.groupby(['Parch','Survived']).Parch.count().unstack())\n",
    "\n",
    "parch = titanic.groupby(['Parch','Survived']).Parch.count().unstack()\n",
    "p3 = parch.plot(kind = 'bar', stacked = True,\n",
    "                   color = ['grey','lightgreen'], alpha = .70)\n",
    "p3.set_title('Passengers with Children: Survivors vs Non-Survivors')\n",
    "p3.set_xlabel('Parch')\n",
    "p3.set_ylabel('# Passengers')\n",
    "p3.legend(['Did Not Survive','Survived'])\n",
    "plt.show()"
   ]
  },
  {
   "cell_type": "code",
<<<<<<< HEAD
   "execution_count": null,
   "metadata": {},
   "outputs": [],
=======
   "execution_count": 13,
   "metadata": {},
   "outputs": [
    {
     "name": "stdout",
     "output_type": "stream",
     "text": [
      "Statistical Summary of Age and Fare\n",
      "\n",
      "\n",
      "Did Not Survive\n",
      "      count       mean        std  min      25%   50%   75%    max\n",
      "Age   549.0  29.560109  12.778433  1.0  23.0000  25.0  37.0   74.0\n",
      "Fare  549.0  22.117887  31.388207  0.0   7.8542  10.5  26.0  263.0\n",
      "--------------------------------------------------------------------------------\n",
      "Survived\n",
      "      count       mean        std   min       25%   50%      75%       max\n",
      "Age   340.0  28.146088  13.852728  0.42  21.00000  27.0  36.0000   80.0000\n",
      "Fare  340.0  48.209498  66.748773  0.00  12.44375  26.0  56.9469  512.3292\n"
     ]
    },
    {
     "data": {
      "image/png": "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\n",
      "text/plain": [
       "<Figure size 1152x720 with 3 Axes>"
      ]
     },
     "metadata": {},
     "output_type": "display_data"
    }
   ],
>>>>>>> refs/remotes/origin/master
   "source": [
    "# titanic.hist(bins=10,figsize=(9,7),grid=False)\n",
    "# Statistical summary of continuous variables \n",
    "print('Statistical Summary of Age and Fare')\n",
    "print('\\n')\n",
    "print('Did Not Survive')\n",
    "print(titanic[titanic['Survived']==0][['Age','Fare']].describe().transpose())\n",
    "print('--'*40)\n",
    "print('Survived')\n",
    "print(titanic[titanic['Survived']==1][['Age','Fare']].describe().transpose())\n",
    "# Subplots of Numeric Features\n",
    "sns.set_style('darkgrid')\n",
    "fig = plt.figure(figsize = (16,10))\n",
    "fig.subplots_adjust(hspace = .30)\n",
    "\n",
    "ax1 = fig.add_subplot(221)\n",
    "ax1.hist(titanic[titanic['Survived'] ==0].Age, bins = 25, label ='Did Not Survive', alpha = .50,edgecolor= 'black',color ='grey')\n",
    "ax1.hist(titanic[titanic['Survived']==1].Age, bins = 25, label = 'Survive', alpha = .50, edgecolor = 'black',color = 'lightgreen')\n",
    "ax1.set_title('Passenger Age: Survivors vs Non-Survivors')\n",
    "ax1.set_xlabel('Age')\n",
    "ax1.set_ylabel('# Passengers')\n",
    "ax1.legend(loc = 'upper right')\n",
    "\n",
    "ax2 = fig.add_subplot(223)\n",
    "ax2.hist(titanic[titanic['Survived']==0].Fare, bins = 25, label = 'Did Not Survive', alpha = .50, edgecolor ='black', color = 'grey')\n",
    "ax2.hist(titanic[titanic['Survived']==1].Fare, bins = 25, label = 'Survive', alpha = .50, edgecolor = 'black',color ='lightgreen')\n",
    "ax2.set_title('Ticket Fare: Suvivors vs Non-Survivors')\n",
    "ax2.set_xlabel('Fare')\n",
    "ax2.set_ylabel('# Passenger')\n",
    "ax2.legend(loc = 'upper right')\n",
    "\n",
    "ax3 = fig.add_subplot(122)\n",
    "ax3.scatter(x = titanic[titanic['Survived']==0].Age, y = titanic[titanic['Survived']==0].Fare,\n",
    "                        alpha = .50,edgecolor= 'black',  c = 'grey', s= 75, label = 'Did Not Survive')\n",
    "ax3.scatter(x = titanic[titanic['Survived']==1].Age, y = titanic[titanic['Survived']==1].Fare,\n",
    "                        alpha = .50,edgecolors= 'black',  c = 'lightgreen', s= 75, label = 'Survived')\n",
    "ax3.set_xlabel('Age')\n",
    "ax3.set_ylabel('Fare')\n",
    "ax3.set_title('Age of Passengers vs Fare')\n",
    "ax3.legend()\n",
    "\n",
    "plt.show()"
   ]
  },
  {
   "cell_type": "code",
<<<<<<< HEAD
   "execution_count": null,
=======
   "execution_count": 14,
>>>>>>> refs/remotes/origin/master
   "metadata": {},
   "outputs": [],
   "source": [
    "titanic['youngin'] = titanic['Age']<=9"
   ]
  },
  {
   "cell_type": "code",
<<<<<<< HEAD
   "execution_count": null,
=======
   "execution_count": 15,
>>>>>>> refs/remotes/origin/master
   "metadata": {},
   "outputs": [],
   "source": [
    "# Create matrix of features\n",
    "X = titanic.drop('Survived', axis = 1) # grabs everything else but 'Survived'\n",
    "\n",
    "# Create target variable\n",
    "y = titanic['Survived'] # y is the column we're trying to predict\n",
    "\n",
    "# Create a list of the features being used in the \n",
    "feature_cols = X.columns"
   ]
  },
  {
   "cell_type": "code",
<<<<<<< HEAD
   "execution_count": null,
   "metadata": {},
   "outputs": [],
=======
   "execution_count": 16,
   "metadata": {},
   "outputs": [
    {
     "data": {
      "text/html": [
       "<div>\n",
       "<style scoped>\n",
       "    .dataframe tbody tr th:only-of-type {\n",
       "        vertical-align: middle;\n",
       "    }\n",
       "\n",
       "    .dataframe tbody tr th {\n",
       "        vertical-align: top;\n",
       "    }\n",
       "\n",
       "    .dataframe thead th {\n",
       "        text-align: right;\n",
       "    }\n",
       "</style>\n",
       "<table border=\"1\" class=\"dataframe\">\n",
       "  <thead>\n",
       "    <tr style=\"text-align: right;\">\n",
       "      <th></th>\n",
       "      <th>Pclass</th>\n",
       "      <th>Age</th>\n",
       "      <th>SibSp</th>\n",
       "      <th>Parch</th>\n",
       "      <th>Fare</th>\n",
       "      <th>youngin</th>\n",
       "      <th>male</th>\n",
       "      <th>Q</th>\n",
       "      <th>S</th>\n",
       "    </tr>\n",
       "    <tr>\n",
       "      <th>PassengerId</th>\n",
       "      <th></th>\n",
       "      <th></th>\n",
       "      <th></th>\n",
       "      <th></th>\n",
       "      <th></th>\n",
       "      <th></th>\n",
       "      <th></th>\n",
       "      <th></th>\n",
       "      <th></th>\n",
       "    </tr>\n",
       "  </thead>\n",
       "  <tbody>\n",
       "    <tr>\n",
       "      <th>1</th>\n",
       "      <td>3</td>\n",
       "      <td>22.0</td>\n",
       "      <td>1</td>\n",
       "      <td>0</td>\n",
       "      <td>7.2500</td>\n",
       "      <td>False</td>\n",
       "      <td>1</td>\n",
       "      <td>0</td>\n",
       "      <td>1</td>\n",
       "    </tr>\n",
       "    <tr>\n",
       "      <th>2</th>\n",
       "      <td>1</td>\n",
       "      <td>38.0</td>\n",
       "      <td>1</td>\n",
       "      <td>0</td>\n",
       "      <td>71.2833</td>\n",
       "      <td>False</td>\n",
       "      <td>0</td>\n",
       "      <td>0</td>\n",
       "      <td>0</td>\n",
       "    </tr>\n",
       "    <tr>\n",
       "      <th>3</th>\n",
       "      <td>3</td>\n",
       "      <td>26.0</td>\n",
       "      <td>0</td>\n",
       "      <td>0</td>\n",
       "      <td>7.9250</td>\n",
       "      <td>False</td>\n",
       "      <td>0</td>\n",
       "      <td>0</td>\n",
       "      <td>1</td>\n",
       "    </tr>\n",
       "    <tr>\n",
       "      <th>4</th>\n",
       "      <td>1</td>\n",
       "      <td>35.0</td>\n",
       "      <td>1</td>\n",
       "      <td>0</td>\n",
       "      <td>53.1000</td>\n",
       "      <td>False</td>\n",
       "      <td>0</td>\n",
       "      <td>0</td>\n",
       "      <td>1</td>\n",
       "    </tr>\n",
       "    <tr>\n",
       "      <th>5</th>\n",
       "      <td>3</td>\n",
       "      <td>35.0</td>\n",
       "      <td>0</td>\n",
       "      <td>0</td>\n",
       "      <td>8.0500</td>\n",
       "      <td>False</td>\n",
       "      <td>1</td>\n",
       "      <td>0</td>\n",
       "      <td>1</td>\n",
       "    </tr>\n",
       "  </tbody>\n",
       "</table>\n",
       "</div>"
      ],
      "text/plain": [
       "             Pclass   Age  SibSp  Parch     Fare  youngin  male  Q  S\n",
       "PassengerId                                                          \n",
       "1                 3  22.0      1      0   7.2500    False     1  0  1\n",
       "2                 1  38.0      1      0  71.2833    False     0  0  0\n",
       "3                 3  26.0      0      0   7.9250    False     0  0  1\n",
       "4                 1  35.0      1      0  53.1000    False     0  0  1\n",
       "5                 3  35.0      0      0   8.0500    False     1  0  1"
      ]
     },
     "execution_count": 16,
     "metadata": {},
     "output_type": "execute_result"
    }
   ],
>>>>>>> refs/remotes/origin/master
   "source": [
    "X.head()"
   ]
  },
  {
   "cell_type": "code",
<<<<<<< HEAD
   "execution_count": null,
=======
   "execution_count": 17,
>>>>>>> refs/remotes/origin/master
   "metadata": {},
   "outputs": [],
   "source": [
    "# Use x and y variables to split the training data into train and test set\n",
    "\n",
    "from sklearn.model_selection import train_test_split\n",
    "X_train, X_test, y_train, y_test = train_test_split(X, y, random_state=1)"
   ]
  },
  {
   "cell_type": "code",
<<<<<<< HEAD
   "execution_count": null,
   "metadata": {},
   "outputs": [],
=======
   "execution_count": 18,
   "metadata": {},
   "outputs": [
    {
     "data": {
      "text/plain": [
       "LogisticRegression()"
      ]
     },
     "execution_count": 18,
     "metadata": {},
     "output_type": "execute_result"
    }
   ],
>>>>>>> refs/remotes/origin/master
   "source": [
    "from sklearn.linear_model import LogisticRegression\n",
    "logreg = LogisticRegression()\n",
    "logreg.fit(X_train, y_train)\n"
   ]
  },
  {
   "cell_type": "code",
<<<<<<< HEAD
   "execution_count": null,
=======
   "execution_count": 19,
>>>>>>> refs/remotes/origin/master
   "metadata": {},
   "outputs": [],
   "source": [
    "dictionary = dict(zip(list(X_train.columns), list(logreg.coef_[0])))"
   ]
  },
  {
   "cell_type": "code",
<<<<<<< HEAD
   "execution_count": null,
   "metadata": {
    "scrolled": true
   },
   "outputs": [],
=======
   "execution_count": 20,
   "metadata": {
    "scrolled": true
   },
   "outputs": [
    {
     "data": {
      "text/plain": [
       "{'Pclass': -0.784762804593415,\n",
       " 'Age': -0.010060915551576878,\n",
       " 'SibSp': -0.40639552006082813,\n",
       " 'Parch': -0.18243882222225666,\n",
       " 'Fare': 0.006897068219390712,\n",
       " 'youngin': 1.8367439346090706,\n",
       " 'male': -2.2511965086072325,\n",
       " 'Q': -0.034717049238600695,\n",
       " 'S': -0.4321644145149279}"
      ]
     },
     "execution_count": 20,
     "metadata": {},
     "output_type": "execute_result"
    }
   ],
>>>>>>> refs/remotes/origin/master
   "source": [
    "dictionary"
   ]
  },
  {
   "cell_type": "code",
<<<<<<< HEAD
   "execution_count": null,
=======
   "execution_count": 21,
>>>>>>> refs/remotes/origin/master
   "metadata": {},
   "outputs": [],
   "source": [
    "#Y = B0 + B1X1 + ..."
   ]
  },
  {
   "cell_type": "code",
<<<<<<< HEAD
   "execution_count": null,
=======
   "execution_count": 22,
>>>>>>> refs/remotes/origin/master
   "metadata": {
    "slideshow": {
     "slide_type": "fragment"
    }
   },
   "outputs": [],
   "source": [
    "# make class predictions for the testing set\n",
    "y_pred_class = logreg.predict(X_test)"
   ]
  },
  {
   "cell_type": "markdown",
   "metadata": {
    "slideshow": {
     "slide_type": "subslide"
    }
   },
   "source": [
    "**Classification accuracy:** percentage of correct predictions"
   ]
  },
  {
   "cell_type": "code",
<<<<<<< HEAD
   "execution_count": null,
=======
   "execution_count": 23,
>>>>>>> refs/remotes/origin/master
   "metadata": {
    "slideshow": {
     "slide_type": "fragment"
    }
   },
<<<<<<< HEAD
   "outputs": [],
=======
   "outputs": [
    {
     "name": "stdout",
     "output_type": "stream",
     "text": [
      "0.8251121076233184\n"
     ]
    }
   ],
>>>>>>> refs/remotes/origin/master
   "source": [
    "# calculate accuracy\n",
    "from sklearn import metrics\n",
    "print(metrics.accuracy_score(y_test, y_pred_class))"
   ]
  },
  {
   "cell_type": "markdown",
   "metadata": {
    "slideshow": {
     "slide_type": "subslide"
    }
   },
   "source": [
    "**Null accuracy:** accuracy that could be achieved by always predicting the most frequent class"
   ]
  },
  {
   "cell_type": "code",
<<<<<<< HEAD
   "execution_count": null,
=======
   "execution_count": 24,
>>>>>>> refs/remotes/origin/master
   "metadata": {
    "slideshow": {
     "slide_type": "fragment"
    }
   },
   "outputs": [],
   "source": [
    "# examine the class distribution of the testing set (using a Pandas Series method)\n",
    "\n",
    "#"
   ]
  },
  {
   "cell_type": "code",
<<<<<<< HEAD
   "execution_count": null,
=======
   "execution_count": 25,
>>>>>>> refs/remotes/origin/master
   "metadata": {
    "slideshow": {
     "slide_type": "fragment"
    }
   },
<<<<<<< HEAD
   "outputs": [],
=======
   "outputs": [
    {
     "data": {
      "text/plain": [
       "0.3811659192825112"
      ]
     },
     "execution_count": 25,
     "metadata": {},
     "output_type": "execute_result"
    }
   ],
>>>>>>> refs/remotes/origin/master
   "source": [
    "# calculate the percentage of ones\n",
    "y_test.mean()"
   ]
  },
  {
   "cell_type": "code",
<<<<<<< HEAD
   "execution_count": null,
=======
   "execution_count": 26,
>>>>>>> refs/remotes/origin/master
   "metadata": {
    "slideshow": {
     "slide_type": "fragment"
    }
   },
<<<<<<< HEAD
   "outputs": [],
=======
   "outputs": [
    {
     "data": {
      "text/plain": [
       "0.6188340807174888"
      ]
     },
     "execution_count": 26,
     "metadata": {},
     "output_type": "execute_result"
    }
   ],
>>>>>>> refs/remotes/origin/master
   "source": [
    "# calculate the percentage of zeros\n",
    "1 - y_test.mean()"
   ]
  },
  {
   "cell_type": "code",
<<<<<<< HEAD
   "execution_count": null,
=======
   "execution_count": 27,
>>>>>>> refs/remotes/origin/master
   "metadata": {
    "scrolled": true,
    "slideshow": {
     "slide_type": "fragment"
    }
   },
<<<<<<< HEAD
   "outputs": [],
=======
   "outputs": [
    {
     "data": {
      "text/plain": [
       "0.6188340807174888"
      ]
     },
     "execution_count": 27,
     "metadata": {},
     "output_type": "execute_result"
    }
   ],
>>>>>>> refs/remotes/origin/master
   "source": [
    "# calculate null accuracy (for binary classification problems coded as 0/1)\n",
    "max(y_test.mean(), 1 - y_test.mean())"
   ]
  },
  {
   "cell_type": "markdown",
   "metadata": {
    "slideshow": {
     "slide_type": "subslide"
    }
   },
   "source": [
    "Comparing the **true** and **predicted** response values"
   ]
  },
  {
   "cell_type": "code",
<<<<<<< HEAD
   "execution_count": null,
=======
   "execution_count": 28,
>>>>>>> refs/remotes/origin/master
   "metadata": {
    "scrolled": true,
    "slideshow": {
     "slide_type": "fragment"
    }
   },
<<<<<<< HEAD
   "outputs": [],
=======
   "outputs": [
    {
     "name": "stdout",
     "output_type": "stream",
     "text": [
      "True: [1 1 0 1 0 1 1 0 0 1 0 0 1 1 0 0 0 1 1 0 1 1 0 0 0]\n",
      "Pred: [1 1 0 1 0 1 1 0 0 1 0 1 0 1 0 1 0 1 1 1 0 0 0 0 1]\n"
     ]
    }
   ],
>>>>>>> refs/remotes/origin/master
   "source": [
    "# print the first 25 true and predicted responses\n",
    "print('True:', y_test.values[0:25])\n",
    "print('Pred:', y_pred_class[0:25])"
   ]
  },
  {
   "cell_type": "markdown",
   "metadata": {
    "slideshow": {
     "slide_type": "subslide"
    }
   },
   "source": [
    "**Conclusion:**\n",
    "\n",
    "- Classification accuracy is the **easiest classification metric to understand**\n",
    "- But, it does not tell you the **underlying distribution** of response values\n",
    "- And, it does not tell you what **\"types\" of errors** your classifier is making"
   ]
  },
  {
   "cell_type": "markdown",
   "metadata": {
    "slideshow": {
     "slide_type": "slide"
    }
   },
   "source": [
    "## Confusion matrix\n",
    "\n",
    "Table that describes the performance of a classification model"
   ]
  },
  {
   "cell_type": "markdown",
   "metadata": {},
   "source": [
    "<img src='images/cm_preggers.png' width=700/>\n"
   ]
  },
  {
   "cell_type": "code",
<<<<<<< HEAD
   "execution_count": null,
=======
   "execution_count": 29,
>>>>>>> refs/remotes/origin/master
   "metadata": {
    "slideshow": {
     "slide_type": "fragment"
    }
   },
<<<<<<< HEAD
   "outputs": [],
=======
   "outputs": [
    {
     "name": "stdout",
     "output_type": "stream",
     "text": [
      "[[121  17]\n",
      " [ 22  63]]\n"
     ]
    }
   ],
>>>>>>> refs/remotes/origin/master
   "source": [
    "# IMPORTANT: first argument is true values, second argument is predicted values\n",
    "print(metrics.confusion_matrix(y_test, y_pred_class))"
   ]
  },
  {
   "cell_type": "code",
<<<<<<< HEAD
   "execution_count": null,
=======
   "execution_count": 30,
>>>>>>> refs/remotes/origin/master
   "metadata": {},
   "outputs": [],
   "source": [
    "from sklearn.metrics import confusion_matrix\n",
    "cm = confusion_matrix(y_test,y_pred_class)\n",
    "classes = ['Perished', 'Survived']"
   ]
  },
  {
   "cell_type": "code",
<<<<<<< HEAD
   "execution_count": null,
=======
   "execution_count": 31,
>>>>>>> refs/remotes/origin/master
   "metadata": {},
   "outputs": [],
   "source": [
    "def plot_confusion_matrix(cm, classes,\n",
    "                          normalize=False,\n",
    "                          title='Confusion matrix',\n",
    "                          cmap=plt.cm.Blues):\n",
    "    \"\"\"\n",
    "    This function prints and plots the confusion matrix.\n",
    "    Normalization can be applied by setting `normalize=True`.\n",
    "    \"\"\"\n",
    "    if normalize:\n",
    "        cm = cm.astype('float') / cm.sum(axis=1)[:, np.newaxis]\n",
    "        print(\"Normalized confusion matrix\")\n",
    "    else:\n",
    "        print('Confusion Matrix, without normalization')\n",
    "\n",
    "    print(cm)\n",
    "\n",
    "    plt.imshow(cm, interpolation='nearest', cmap=cmap)\n",
    "    plt.title(title)\n",
    "    plt.colorbar()\n",
    "    tick_marks = np.arange(len(classes))\n",
    "    plt.xticks(tick_marks, classes, rotation=45)\n",
    "    plt.yticks(tick_marks, classes)\n",
    "\n",
    "    fmt = '.2f' if normalize else 'd'\n",
    "    thresh = cm.max() / 2.\n",
    "    for i, j in itertools.product(range(cm.shape[0]), range(cm.shape[1])):\n",
    "        plt.text(j, i, format(cm[i, j], fmt),\n",
    "                 horizontalalignment=\"center\",\n",
    "                 color=\"white\" if cm[i, j] > thresh else \"black\")\n",
    "\n",
    "    plt.tight_layout()\n",
    "    plt.ylabel('True label')\n",
    "    plt.xlabel('Predicted label')"
   ]
  },
  {
   "cell_type": "code",
<<<<<<< HEAD
   "execution_count": null,
   "metadata": {},
   "outputs": [],
=======
   "execution_count": 32,
   "metadata": {},
   "outputs": [
    {
     "name": "stdout",
     "output_type": "stream",
     "text": [
      "Confusion Matrix, without normalization\n",
      "[[121  17]\n",
      " [ 22  63]]\n"
     ]
    },
    {
     "data": {
      "image/png": "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\n",
      "text/plain": [
       "<Figure size 720x360 with 2 Axes>"
      ]
     },
     "metadata": {},
     "output_type": "display_data"
    }
   ],
>>>>>>> refs/remotes/origin/master
   "source": [
    "import itertools\n",
    "plot_confusion_matrix(cm, classes,\n",
    "                          normalize=False,\n",
    "                          title='Confusion matrix',\n",
    "                          cmap=plt.cm.Blues)"
   ]
  },
  {
   "cell_type": "markdown",
   "metadata": {
    "slideshow": {
     "slide_type": "fragment"
    }
   },
   "source": [
    "- Every observation in the testing set is represented in **exactly one box**\n",
    "- It's a 2x2 matrix because there are **2 response classes**\n",
    "- The format shown here is **not** universal"
   ]
  },
  {
   "cell_type": "code",
<<<<<<< HEAD
   "execution_count": null,
=======
   "execution_count": 33,
>>>>>>> refs/remotes/origin/master
   "metadata": {
    "slideshow": {
     "slide_type": "subslide"
    }
   },
<<<<<<< HEAD
   "outputs": [],
=======
   "outputs": [
    {
     "name": "stdout",
     "output_type": "stream",
     "text": [
      "True: [1 1 0 1 0 1 1 0 0 1 0 0 1 1 0 0 0 1 1 0 1 1 0 0 0]\n",
      "Pred: [1 1 0 1 0 1 1 0 0 1 0 1 0 1 0 1 0 1 1 1 0 0 0 0 1]\n"
     ]
    }
   ],
>>>>>>> refs/remotes/origin/master
   "source": [
    "# print the first 25 true and predicted responses\n",
    "print('True:', y_test.values[0:25])\n",
    "print('Pred:', y_pred_class[0:25])"
   ]
  },
  {
   "cell_type": "code",
<<<<<<< HEAD
   "execution_count": null,
=======
   "execution_count": 34,
>>>>>>> refs/remotes/origin/master
   "metadata": {
    "slideshow": {
     "slide_type": "subslide"
    }
   },
   "outputs": [],
   "source": [
    "# save confusion matrix and slice into four pieces\n",
    "confusion = metrics.confusion_matrix(y_test, y_pred_class)\n",
    "TP = confusion[1, 1]\n",
    "TN = confusion[0, 0]\n",
    "FP = confusion[0, 1]\n",
    "FN = confusion[1, 0]"
   ]
  },
  {
   "cell_type": "markdown",
   "metadata": {
    "slideshow": {
     "slide_type": "slide"
    }
   },
   "source": [
    "## Metrics computed from a confusion matrix"
   ]
  },
  {
   "cell_type": "markdown",
   "metadata": {
    "slideshow": {
     "slide_type": "subslide"
    }
   },
   "source": [
    "The simplest metric we can use to evaluate our model is accuracy.\n",
    "\n",
    "**Classification Accuracy:** Overall, how often is the classifier correct?"
   ]
  },
  {
   "cell_type": "markdown",
   "metadata": {},
   "source": [
    "We can calculate the accuracy by dividing the number of correct classifications, by the number of observations in the test set. "
   ]
  },
  {
   "cell_type": "code",
   "execution_count": null,
   "metadata": {},
   "outputs": [],
   "source": [
    "# calculate accuracy - enter code below"
   ]
  },
  {
   "cell_type": "markdown",
   "metadata": {},
   "source": [
    "There is also a metric score in sklearn that does this for you. "
   ]
  },
  {
   "cell_type": "code",
   "execution_count": null,
   "metadata": {
    "slideshow": {
     "slide_type": "fragment"
    }
   },
   "outputs": [],
   "source": [
    "print(metrics.accuracy_score(y_test, y_pred_class))"
   ]
  },
  {
   "cell_type": "markdown",
   "metadata": {},
   "source": [
    "This however is not always the best measure of a model's accuracy"
   ]
  },
  {
   "cell_type": "markdown",
   "metadata": {},
   "source": [
    "***Question:*** Imagine your data looked similar to example below where you only had a few instances of the positive class. Why would accuracy be a bad measure of the model for this data?"
   ]
  },
  {
   "cell_type": "markdown",
   "metadata": {},
   "source": [
    "![alt text](images/imbalanced.png)"
   ]
  },
  {
   "cell_type": "markdown",
   "metadata": {
    "slideshow": {
     "slide_type": "subslide"
    }
   },
   "source": [
    "## Precision\n",
    "When a positive value is predicted, how often is the prediction correct?\n",
    "\n",
    "- How \"precise\" is the classifier when predicting positive instances?\n",
    "\n",
    "***When the boy calls wolf, how often is there actually a wolf?***\n",
    "\n",
    "\n",
    "$$\\text{Precision} = \\frac{TP}{TP+FP}$$"
   ]
  },
  {
   "cell_type": "code",
<<<<<<< HEAD
   "execution_count": null,
   "metadata": {},
   "outputs": [],
   "source": [
    "# calculate precision"
=======
   "execution_count": 35,
   "metadata": {},
   "outputs": [
    {
     "data": {
      "text/plain": [
       "0.7875"
      ]
     },
     "execution_count": 35,
     "metadata": {},
     "output_type": "execute_result"
    }
   ],
   "source": [
    "# calculate precision\n",
    "TP/(TP + FP)"
>>>>>>> refs/remotes/origin/master
   ]
  },
  {
   "cell_type": "code",
<<<<<<< HEAD
   "execution_count": null,
=======
   "execution_count": 36,
>>>>>>> refs/remotes/origin/master
   "metadata": {
    "scrolled": true,
    "slideshow": {
     "slide_type": "fragment"
    }
   },
<<<<<<< HEAD
   "outputs": [],
=======
   "outputs": [
    {
     "name": "stdout",
     "output_type": "stream",
     "text": [
      "0.7875\n"
     ]
    }
   ],
>>>>>>> refs/remotes/origin/master
   "source": [
    "print(metrics.precision_score(y_test, y_pred_class))"
   ]
  },
  {
   "cell_type": "markdown",
   "metadata": {},
   "source": [
    "## Recall (Sensitivity)\n",
    "\n",
    "What proportion of actual positives was identified correctly?\n",
    "\n",
    "***When the wolf comes around, how many times did the boy actually spot him?***\n"
   ]
  },
  {
   "cell_type": "markdown",
   "metadata": {},
   "source": [
    "$$\\text{Recall} = \\frac{TP}{TP+FN}$$"
   ]
  },
  {
   "cell_type": "markdown",
   "metadata": {
    "slideshow": {
     "slide_type": "subslide"
    }
   },
   "source": [
    "When the actual value is positive, how often is the prediction correct?\n",
    "\n",
    "- How \"sensitive\" is the classifier to detecting positive instances?\n",
    "- Also known as \"True Positive Rate\" or \"Recall\"\n",
    "\n"
   ]
  },
  {
   "cell_type": "code",
<<<<<<< HEAD
   "execution_count": null,
   "metadata": {},
   "outputs": [],
   "source": [
    "# calculate recall"
=======
   "execution_count": 37,
   "metadata": {},
   "outputs": [
    {
     "data": {
      "text/plain": [
       "0.7411764705882353"
      ]
     },
     "execution_count": 37,
     "metadata": {},
     "output_type": "execute_result"
    }
   ],
   "source": [
    "# calculate recall\n",
    "TP/(TP+FN)"
>>>>>>> refs/remotes/origin/master
   ]
  },
  {
   "cell_type": "code",
<<<<<<< HEAD
   "execution_count": null,
=======
   "execution_count": 38,
>>>>>>> refs/remotes/origin/master
   "metadata": {
    "slideshow": {
     "slide_type": "fragment"
    }
   },
<<<<<<< HEAD
   "outputs": [],
=======
   "outputs": [
    {
     "name": "stdout",
     "output_type": "stream",
     "text": [
      "0.7411764705882353\n",
      "0.7411764705882353\n"
     ]
    }
   ],
>>>>>>> refs/remotes/origin/master
   "source": [
    "print(TP / float(TP + FN))\n",
    "print(metrics.recall_score(y_test, y_pred_class))"
   ]
  },
  {
   "cell_type": "markdown",
   "metadata": {
    "slideshow": {
     "slide_type": "subslide"
    }
   },
   "source": [
    "**Specificity:** When the actual value is negative, how often is the prediction correct?\n",
    "\n",
    "- How \"specific\" (or \"selective\") is the classifier in predicting positive instances?"
   ]
  },
  {
   "cell_type": "code",
<<<<<<< HEAD
   "execution_count": null,
=======
   "execution_count": 39,
>>>>>>> refs/remotes/origin/master
   "metadata": {
    "slideshow": {
     "slide_type": "fragment"
    }
   },
<<<<<<< HEAD
   "outputs": [],
=======
   "outputs": [
    {
     "name": "stdout",
     "output_type": "stream",
     "text": [
      "0.8768115942028986\n"
     ]
    }
   ],
>>>>>>> refs/remotes/origin/master
   "source": [
    "print(TN / float(TN + FP))"
   ]
  },
  {
   "cell_type": "markdown",
   "metadata": {
    "slideshow": {
     "slide_type": "subslide"
    }
   },
   "source": [
    "**False Positive Rate:** When the actual value is negative, how often is the prediction incorrect?"
   ]
  },
  {
   "cell_type": "code",
<<<<<<< HEAD
   "execution_count": null,
=======
   "execution_count": 40,
>>>>>>> refs/remotes/origin/master
   "metadata": {
    "slideshow": {
     "slide_type": "fragment"
    }
   },
<<<<<<< HEAD
   "outputs": [],
=======
   "outputs": [
    {
     "name": "stdout",
     "output_type": "stream",
     "text": [
      "0.12318840579710146\n"
     ]
    }
   ],
>>>>>>> refs/remotes/origin/master
   "source": [
    "print(FP / float(TN + FP))"
   ]
  },
  {
   "cell_type": "markdown",
   "metadata": {
    "slideshow": {
     "slide_type": "subslide"
    }
   },
   "source": [
    "## F1 score \n",
    "\n",
    "The F1 score is the harmonic average of the precision and recall, where an F1 score reaches its best value at 1 (perfect precision and recall) and worst at 0."
   ]
  },
  {
   "cell_type": "markdown",
   "metadata": {
    "slideshow": {
     "slide_type": "fragment"
    }
   },
   "source": [
    "$$F1-Score = 2\\ \\frac{Precision\\ x\\ Recall}{Precision + Recall}$$\n",
    "\n"
   ]
  },
  {
   "cell_type": "code",
<<<<<<< HEAD
   "execution_count": null,
   "metadata": {},
   "outputs": [],
=======
   "execution_count": 41,
   "metadata": {},
   "outputs": [
    {
     "data": {
      "text/plain": [
       "0.7636363636363637"
      ]
     },
     "execution_count": 41,
     "metadata": {},
     "output_type": "execute_result"
    }
   ],
>>>>>>> refs/remotes/origin/master
   "source": [
    "#calculating the F1 score\n",
    "2*(metrics.precision_score(y_test, y_pred_class)*metrics.recall_score(y_test, y_pred_class))/(metrics.precision_score(y_test, y_pred_class)+metrics.recall_score(y_test, y_pred_class))"
   ]
  },
  {
   "cell_type": "markdown",
   "metadata": {},
   "source": [
    "![alt text](images/metricstable.png)"
   ]
  },
  {
   "cell_type": "markdown",
   "metadata": {},
   "source": [
    "## General Guidance\n",
    "Yes, **accuracy** is a great measure but only when you have symmetric datasets (false negatives & false positives counts are close), also, false negatives & false positives have similar costs.\n",
    "If the cost of false positives and false negatives are different then F1 is your savior. F1 is best if you have an uneven class distribution.\n",
    "\n",
    "**Precision** is how sure you are of your true positives whilst recall is how sure you are that you are not missing any positives.\n",
    "\n",
    "Choose **Recall** if the idea of false positives is far better than false negatives, in other words, if the occurrence of false negatives is unaccepted/intolerable, that you’d rather get some extra false positives(false alarms) over saving some false negatives, like in our diabetes example.\n",
    "You’d rather get some healthy people labeled diabetic over leaving a diabetic person labeled healthy.\n",
    "\n",
    "Choose **precision** if you want to be more confident of your true positives. for example, Spam emails. You’d rather have some spam emails in your inbox rather than some regular emails in your spam box. So, the email company wants to be extra sure that email Y is spam before they put it in the spam box and you never get to see it.\n",
    "\n",
    "Choose **Specificity** if you want to cover all true negatives, meaning you don’t want any false alarms, you don’t want any false positives. for example, you’re running a drug test in which all people who test positive will immediately go to jail, you don’t want anyone drug-free going to jail. False positives here are intolerable."
   ]
  },
  {
   "cell_type": "markdown",
   "metadata": {
    "slideshow": {
     "slide_type": "subslide"
    }
   },
   "source": [
    "**Conclusion:**\n",
    "\n",
    "- Confusion matrix gives you a **more complete picture** of how your classifier is performing\n",
    "- Also allows you to compute various **classification metrics**, and these metrics can guide your model selection\n",
    "\n",
    "**Which metrics should you focus on?**\n",
    "\n",
    "- Choice of metric depends on your **business objective**\n",
    "- **Spam filter** (positive class is \"spam\"): Optimize for **precision or specificity** because false negatives (spam goes to the inbox) are more acceptable than false positives (non-spam is caught by the spam filter)\n",
    "- **Fraudulent transaction detector** (positive class is \"fraud\"): Optimize for **sensitivity** because false positives (normal transactions that are flagged as possible fraud) are more acceptable than false negatives (fraudulent transactions that are not detected)"
   ]
  },
  {
   "cell_type": "markdown",
   "metadata": {
    "slideshow": {
     "slide_type": "slide"
    }
   },
   "source": [
    "## Adjusting the classification threshold"
   ]
  },
  {
   "cell_type": "code",
   "execution_count": null,
   "metadata": {},
   "outputs": [],
   "source": [
    "THRESHOLD = 0.5\n",
    "preds = np.where(logreg.predict_proba(X_test)[:,1] > THRESHOLD, 1, 0)\n",
    "\n",
    "pd.DataFrame(data=[metrics.accuracy_score(y_test, preds), metrics.recall_score(y_test, preds),\n",
    "                   metrics.precision_score(y_test, preds), metrics.f1_score(y_test, preds)], \n",
    "             index=[\"accuracy\", \"recall\", \"precision\", \"F1\"])"
   ]
  },
  {
   "cell_type": "code",
   "execution_count": null,
   "metadata": {
    "scrolled": true
   },
   "outputs": [],
   "source": [
    "THRESHOLD = 0.75\n",
    "preds = np.where(logreg.predict_proba(X_test)[:,1] > THRESHOLD, 1, 0)\n",
    "\n",
    "pd.DataFrame(data=[metrics.accuracy_score(y_test, preds), metrics.recall_score(y_test, preds),\n",
    "                   metrics.precision_score(y_test, preds), metrics.f1_score(y_test, preds)], \n",
    "             index=[\"accuracy\", \"recall\", \"precision\", \"F1\"])"
   ]
  },
  {
   "cell_type": "markdown",
   "metadata": {},
   "source": [
    "### Precision and Recall: A Tug of War\n",
    "To fully evaluate the effectiveness of a model, you must examine both precision and recall. Unfortunately, precision and recall are often in tension. That is, improving precision typically reduces recall and vice versa. Explore this notion by looking at the following figure."
   ]
  },
  {
   "cell_type": "markdown",
   "metadata": {},
   "source": [
    "<img src='images/PrecisionVsRecallBase.svg' width=900/>"
   ]
  },
  {
   "cell_type": "markdown",
   "metadata": {},
   "source": [
    "Those to the right of the classification threshold are classified as \"spam\", while those to the left are classified as \"not spam.\""
   ]
  },
  {
   "cell_type": "markdown",
   "metadata": {},
   "source": [
    "![alt text](images/Exam_pass_logistic_curve.jpeg)"
   ]
  },
  {
   "cell_type": "code",
   "execution_count": null,
   "metadata": {
    "slideshow": {
     "slide_type": "fragment"
    }
   },
   "outputs": [],
   "source": [
    "# print the first 10 predicted responses\n",
    "logreg.predict(X_test)[0:10]"
   ]
  },
  {
   "cell_type": "code",
   "execution_count": null,
   "metadata": {
    "slideshow": {
     "slide_type": "fragment"
    }
   },
   "outputs": [],
   "source": [
    "# print the first 10 predicted probabilities of class membership\n",
    "logreg.predict_proba(X_test)[0:10, :]"
   ]
  },
  {
   "cell_type": "code",
   "execution_count": null,
   "metadata": {
    "slideshow": {
     "slide_type": "fragment"
    }
   },
   "outputs": [],
   "source": [
    "# print the first 10 predicted probabilities for class 1\n",
    "logreg.predict_proba(X_test)[0:10, 1]"
   ]
  },
  {
   "cell_type": "code",
   "execution_count": null,
   "metadata": {
    "slideshow": {
     "slide_type": "fragment"
    }
   },
   "outputs": [],
   "source": [
    "# store the predicted probabilities for class 1\n",
    "y_pred_prob = logreg.predict_proba(X_test)[:, 1]"
   ]
  },
  {
   "cell_type": "code",
   "execution_count": null,
   "metadata": {},
   "outputs": [],
   "source": [
    "# allow plots to appear in the notebook\n",
    "%matplotlib inline\n",
    "import matplotlib.pyplot as plt"
   ]
  },
  {
   "cell_type": "code",
   "execution_count": null,
   "metadata": {},
   "outputs": [],
   "source": [
    "# histogram of predicted probabilities\n",
    "plt.hist(y_pred_prob, bins=8)\n",
    "plt.xlim(0, 1)\n",
    "plt.title('Histogram of predicted probabilities')\n",
    "plt.xlabel('Predicted probability of diabetes')\n",
    "plt.ylabel('Frequency')"
   ]
  },
  {
   "cell_type": "markdown",
   "metadata": {
    "slideshow": {
     "slide_type": "subslide"
    }
   },
   "source": [
    "**Decrease the threshold** for predicting diabetes in order to **increase the sensitivity** of the classifier"
   ]
  },
  {
   "cell_type": "code",
   "execution_count": null,
   "metadata": {},
   "outputs": [],
   "source": [
    "# predict diabetes if the predicted probability is greater than 0.3\n",
    "from sklearn.preprocessing import binarize\n",
    "y_pred_class = binarize([y_pred_prob], 0.3)[0]"
   ]
  },
  {
   "cell_type": "code",
   "execution_count": null,
   "metadata": {},
   "outputs": [],
   "source": [
    "# print the first 10 predicted probabilities\n",
    "y_pred_prob[0:10]"
   ]
  },
  {
   "cell_type": "code",
   "execution_count": null,
   "metadata": {},
   "outputs": [],
   "source": [
    "# print the first 10 predicted classes with the lower threshold\n",
    "y_pred_class[0:10]"
   ]
  },
  {
   "cell_type": "code",
   "execution_count": null,
   "metadata": {},
   "outputs": [],
   "source": [
    "# previous confusion matrix (default threshold of 0.5)\n",
    "print(confusion)"
   ]
  },
  {
   "cell_type": "code",
   "execution_count": null,
   "metadata": {},
   "outputs": [],
   "source": [
    "# new confusion matrix (threshold of 0.3)\n",
    "print(metrics.confusion_matrix(y_test, y_pred_class))"
   ]
  },
  {
   "cell_type": "markdown",
   "metadata": {},
   "source": [
    "**Conclusion:**\n",
    "\n",
    "- **Threshold of 0.5** is used by default (for binary problems) to convert predicted probabilities into class predictions\n",
    "- Threshold can be **adjusted** to increase sensitivity or specificity\n",
    "- Sensitivity and specificity have an **inverse relationship**"
   ]
  },
  {
   "cell_type": "markdown",
   "metadata": {
    "slideshow": {
     "slide_type": "slide"
    }
   },
   "source": [
    "## ROC Curves and Area Under the Curve (AUC)\n",
    "\n",
    "**Question:** Wouldn't it be nice if we could see how sensitivity and specificity are affected by various thresholds, without actually changing the threshold?\n",
    "\n",
    "**Answer:** Plot the ROC curve!"
   ]
  },
  {
   "cell_type": "markdown",
   "metadata": {},
   "source": [
    "## ROC curve\n",
    "An ROC curve (receiver operating characteristic curve) is a graph showing the performance of a classification model at all classification thresholds. This curve plots two parameters:\n",
    "\n",
    "- True Positive Rate\n",
    "- False Positive Rate"
   ]
  },
  {
   "cell_type": "markdown",
   "metadata": {},
   "source": [
    "**True Positive Rate (TPR)** is a synonym for recall and is therefore defined as follows:\n",
    "\n",
    "$$TPR = \\frac{TP} {TP + FN}$$\n",
    "\n",
    "**False Positive Rate (FPR)** is defined as follows:\n",
    "\n",
    "\n",
    "$$FPR = \\frac{FP} {FP + TN}$$\n"
   ]
  },
  {
   "cell_type": "markdown",
   "metadata": {
    "slideshow": {
     "slide_type": "subslide"
    }
   },
   "source": [
    "![alt text](images/perfectImbalance.png)"
   ]
  },
  {
   "cell_type": "markdown",
   "metadata": {
    "slideshow": {
     "slide_type": "fragment"
    }
   },
   "source": [
    "![alt text](images/perfectbalanceAUC.png)"
   ]
  },
  {
   "cell_type": "markdown",
   "metadata": {
    "slideshow": {
     "slide_type": "subslide"
    }
   },
   "source": [
    "![alt text](images/overlapimbalance.png)"
   ]
  },
  {
   "cell_type": "markdown",
   "metadata": {
    "slideshow": {
     "slide_type": "fragment"
    }
   },
   "source": [
    "![alt text](images/imbalancedROC.png)"
   ]
  },
  {
   "cell_type": "markdown",
   "metadata": {},
   "source": [
    "## AUC: Area Under the ROC Curve\n",
    "**AUC** stands for \"Area under the ROC Curve.\" That is, AUC measures the entire two-dimensional area underneath the entire ROC curve (think integral calculus) from (0,0) to (1,1)."
   ]
  },
  {
   "cell_type": "markdown",
   "metadata": {
    "slideshow": {
     "slide_type": "subslide"
    }
   },
   "source": [
    "![alt text](images/perfectimbalanced.png)"
   ]
  },
  {
   "cell_type": "markdown",
   "metadata": {},
   "source": [
    "AUC provides an aggregate measure of performance across all possible classification thresholds. One way of interpreting AUC is as the probability that the model ranks a random positive example more highly than a random negative example. For example, given the following examples, which are arranged from left to right in ascending order of logistic regression predictions:\n",
    "\n",
    "<img src='images/PrecisionVsRecallBase.svg' width=1100/>"
   ]
  },
  {
   "cell_type": "code",
   "execution_count": null,
   "metadata": {
    "slideshow": {
     "slide_type": "subslide"
    }
   },
   "outputs": [],
   "source": [
    "# IMPORTANT: first argument is true values, second argument is predicted probabilities\n",
    "fpr, tpr, thresholds = metrics.roc_curve(y_test, y_pred_prob)\n",
    "plt.plot(fpr, tpr)\n",
    "plt.xlim([0.0, 1.0])\n",
    "plt.ylim([0.0, 1.0])\n",
    "plt.title('ROC curve for diabetes classifier')\n",
    "plt.xlabel('False Positive Rate (1 - Specificity)')\n",
    "plt.ylabel('True Positive Rate (Sensitivity)')\n",
    "plt.grid(True)"
   ]
  },
  {
   "cell_type": "code",
   "execution_count": null,
   "metadata": {},
   "outputs": [],
   "source": [
    "fpr, tpr, thresholds"
   ]
  },
  {
   "cell_type": "markdown",
   "metadata": {
    "slideshow": {
     "slide_type": "fragment"
    }
   },
   "source": [
    "- ROC curve can help you to **choose a threshold** that balances sensitivity and specificity in a way that makes sense for your particular context\n",
    "- You can't actually **see the thresholds** used to generate the curve on the ROC curve itself"
   ]
  },
  {
   "cell_type": "code",
   "execution_count": null,
   "metadata": {
    "slideshow": {
     "slide_type": "subslide"
    }
   },
   "outputs": [],
   "source": [
    "# define a function that accepts a threshold and prints sensitivity and specificity\n",
    "def evaluate_threshold(threshold):\n",
    "    print('Sensitivity:', tpr[thresholds > threshold][-1])\n",
    "    print('Specificity:', 1 - fpr[thresholds > threshold][-1])"
   ]
  },
  {
   "cell_type": "code",
   "execution_count": null,
   "metadata": {
    "slideshow": {
     "slide_type": "fragment"
    }
   },
   "outputs": [],
   "source": [
    "evaluate_threshold(0.5)"
   ]
  },
  {
   "cell_type": "code",
   "execution_count": null,
   "metadata": {
    "slideshow": {
     "slide_type": "fragment"
    }
   },
   "outputs": [],
   "source": [
    "evaluate_threshold(0.3)"
   ]
  },
  {
   "cell_type": "markdown",
   "metadata": {
    "slideshow": {
     "slide_type": "subslide"
    }
   },
   "source": [
    "AUC is the **percentage** of the ROC plot that is **underneath the curve**:"
   ]
  },
  {
   "cell_type": "code",
   "execution_count": null,
   "metadata": {
    "slideshow": {
     "slide_type": "fragment"
    }
   },
   "outputs": [],
   "source": [
    "# IMPORTANT: first argument is true values, second argument is predicted probabilities\n",
    "print(metrics.roc_auc_score(y_test, y_pred_prob))"
   ]
  },
  {
   "cell_type": "markdown",
   "metadata": {
    "slideshow": {
     "slide_type": "fragment"
    }
   },
   "source": [
    "- AUC is useful as a **single number summary** of classifier performance.\n",
    "- If you randomly chose one positive and one negative observation, AUC represents the likelihood that your classifier will assign a **higher predicted probability** to the positive observation.\n",
    "- AUC is useful even when there is **high class imbalance** (unlike classification accuracy)."
   ]
  },
  {
   "cell_type": "code",
   "execution_count": null,
   "metadata": {
    "slideshow": {
     "slide_type": "fragment"
    }
   },
   "outputs": [],
   "source": [
    "# calculate cross-validated AUC\n",
    "from sklearn.model_selection import cross_val_score\n",
    "cross_val_score(logreg, X, y, cv=10, scoring='roc_auc').mean()"
   ]
  },
  {
   "cell_type": "markdown",
   "metadata": {},
   "source": [
    "AUC represents the probability that a random positive (green) example is positioned to the right of a random negative (red) example.\n",
    "\n",
    "AUC ranges in value from 0 to 1. A model whose predictions are 100% wrong has an AUC of 0.0; one whose predictions are 100% correct has an AUC of 1.0.\n",
    "\n",
    "AUC is desirable for the following two reasons:\n",
    "\n",
    "- AUC is **scale-invariant**. It measures how well predictions are ranked, rather than their absolute values.\n",
    "- AUC is **classification-threshold-invariant**. It measures the quality of the model's predictions irrespective of what classification threshold is chosen.\n",
    "\n",
    "\n",
    "\n"
   ]
  },
  {
   "cell_type": "markdown",
   "metadata": {},
   "source": [
    "\n",
    "### Two Caveats\n",
    "\n",
    "Scale invariance is not always desirable. For example, sometimes we really do need well calibrated probability outputs, and AUC won’t tell us about that.\n",
    "\n",
    "Classification-threshold invariance is not always desirable. In cases where there are wide disparities in the cost of false negatives vs. false positives, it may be critical to minimize one type of classification error. For example, when doing email spam detection, you likely want to prioritize minimizing false positives (even if that results in a significant increase of false negatives). AUC isn't a useful metric for this type of optimization."
   ]
  },
  {
   "cell_type": "markdown",
   "metadata": {
    "slideshow": {
     "slide_type": "slide"
    }
   },
   "source": [
    "**Confusion matrix advantages:**\n",
    "\n",
    "- Allows you to calculate a **variety of metrics**\n",
    "- Useful for **multi-class problems** (more than two response classes)\n",
    "\n",
    "**ROC/AUC advantages:**\n",
    "\n",
    "- Does not require you to **set a classification threshold**\n",
    "- Still useful when there is **high class imbalance**"
   ]
  },
  {
   "cell_type": "markdown",
   "metadata": {
    "slideshow": {
     "slide_type": "slide"
    }
   },
   "source": [
    "# Handling Class Imbalance"
   ]
  },
  {
   "cell_type": "markdown",
   "metadata": {
    "slideshow": {
     "slide_type": "fragment"
    }
   },
   "source": [
    "![alt text](images/imbalanced.png)"
   ]
  },
  {
   "cell_type": "markdown",
   "metadata": {
    "slideshow": {
     "slide_type": "subslide"
    }
   },
   "source": [
    "### Problems created by class imbalance\n",
    "The conventional model evaluation methods do not accurately measure model performance when faced with imbalanced datasets.\n",
    "\n",
    "Standard classifier algorithms like Decision Tree and Logistic Regression have a bias towards classes which have number of instances. They tend to only predict the majority class data. The features of the minority class are treated as noise and are often ignored. Thus, there is a high probability of misclassification of the minority class as compared to the majority class.\n",
    "\n"
   ]
  },
  {
   "cell_type": "markdown",
   "metadata": {
    "slideshow": {
     "slide_type": "subslide"
    }
   },
   "source": [
    "## Resampling\n",
    "A common technique for dealing with highly unbalanced datasets is called resampling. It consists of removing samples from the majority class (under-sampling) and / or adding more examples from the minority class (over-sampling)."
   ]
  },
  {
   "cell_type": "markdown",
   "metadata": {
    "slideshow": {
     "slide_type": "fragment"
    }
   },
   "source": [
    "![alt text](images/resampling.png)"
   ]
  },
  {
   "cell_type": "markdown",
   "metadata": {
    "slideshow": {
     "slide_type": "subslide"
    }
   },
   "source": [
    "## Under-sampling: Tomek links\n",
    "\n",
    "Tomek links are pairs of very close instances, but of opposite classes. Removing the instances of the majority class of each pair increases the space between the two classes, facilitating the classification process."
   ]
  },
  {
   "cell_type": "markdown",
   "metadata": {
    "slideshow": {
     "slide_type": "fragment"
    }
   },
   "source": [
    "![alt text](images/tomek.png)"
   ]
  },
  {
   "cell_type": "markdown",
   "metadata": {
    "slideshow": {
     "slide_type": "subslide"
    }
   },
   "source": [
    "# Over-sampling: SMOTE\n",
    "\n",
    "SMOTE (Synthetic Minority Oversampling Technique) consists of synthesizing elements for the minority class, based on those that already exist. It works randomly picking a point from the minority class and computing the k-nearest neighbors for this point. The synthetic points are added between the chosen point and its neighbors."
   ]
  },
  {
   "cell_type": "markdown",
   "metadata": {
    "slideshow": {
     "slide_type": "fragment"
    }
   },
   "source": [
    "![alt text](images/smote.png)"
   ]
  },
  {
   "cell_type": "markdown",
   "metadata": {
    "slideshow": {
     "slide_type": "slide"
    }
   },
   "source": [
    "## Confusion Matrix Resources\n",
    "\n",
    "- Blog post: [Simple guide to confusion matrix terminology](http://www.dataschool.io/simple-guide-to-confusion-matrix-terminology/) by me\n",
    "- Videos: [Intuitive sensitivity and specificity](https://www.youtube.com/watch?v=U4_3fditnWg) (9 minutes) and [The tradeoff between sensitivity and specificity](https://www.youtube.com/watch?v=vtYDyGGeQyo) (13 minutes) by Rahul Patwari\n",
    "- Notebook: [How to calculate \"expected value\"](https://github.com/podopie/DAT18NYC/blob/master/classes/13-expected_value_cost_benefit_analysis.ipynb) from a confusion matrix by treating it as a cost-benefit matrix (by Ed Podojil)\n",
    "- Graphic: How [classification threshold](https://media.amazonwebservices.com/blog/2015/ml_adjust_model_1.png) affects different evaluation metrics (from a [blog post](https://aws.amazon.com/blogs/aws/amazon-machine-learning-make-data-driven-decisions-at-scale/) about Amazon Machine Learning)\n",
    "\n",
    "\n",
    "## ROC and AUC Resources\n",
    "\n",
    "- Video: [ROC Curves and Area Under the Curve](https://www.youtube.com/watch?v=OAl6eAyP-yo) (14 minutes) by Kevin Markham, including [transcript and screenshots](http://www.dataschool.io/roc-curves-and-auc-explained/) and a [visualization](http://www.navan.name/roc/)\n",
    "- Video: [ROC Curves](https://www.youtube.com/watch?v=21Igj5Pr6u4) (12 minutes) by Rahul Patwari\n",
    "- Paper: [An introduction to ROC analysis](http://people.inf.elte.hu/kiss/13dwhdm/roc.pdf) by Tom Fawcett\n",
    "- Usage examples: [Comparing different feature sets](http://research.microsoft.com/pubs/205472/aisec10-leontjeva.pdf) for detecting fraudulent Skype users, and [comparing different classifiers](http://www.cse.ust.hk/nevinZhangGroup/readings/yi/Bradley_PR97.pdf) on a number of popular datasets\n",
    "\n",
    "## Class Imbalance Resources\n",
    "\n",
    "- Comparing Resampling Methods: [Blog](https://www.analyticsvidhya.com/blog/2017/03/imbalanced-classification-problem/)\n",
    "- Resampling with SKlearn: [Python Code Example](https://www.kaggle.com/rafjaa/resampling-strategies-for-imbalanced-datasets)\n",
    "\n",
    "## Other Resources\n",
    "\n",
    "- scikit-learn documentation: [Model evaluation](http://scikit-learn.org/stable/modules/model_evaluation.html)\n",
    "- Guide: [Comparing model evaluation procedures and metrics](https://github.com/justmarkham/DAT8/blob/master/other/model_evaluation_comparison.md)\n",
    "- Video: [Counterfactual evaluation of machine learning models](https://www.youtube.com/watch?v=QWCSxAKR-h0) (45 minutes) about how Stripe evaluates its fraud detection model, including [slides](http://www.slideshare.net/MichaelManapat/counterfactual-evaluation-of-machine-learning-models)"
   ]
  }
 ],
 "metadata": {
  "kernelspec": {
   "display_name": "Python 3",
   "language": "python",
   "name": "python3"
  },
  "language_info": {
   "codemirror_mode": {
    "name": "ipython",
    "version": 3
   },
   "file_extension": ".py",
   "mimetype": "text/x-python",
   "name": "python",
   "nbconvert_exporter": "python",
   "pygments_lexer": "ipython3",
<<<<<<< HEAD
   "version": "3.7.3"
=======
   "version": "3.8.3"
  },
  "toc": {
   "base_numbering": 1,
   "nav_menu": {},
   "number_sections": true,
   "sideBar": true,
   "skip_h1_title": false,
   "title_cell": "Table of Contents",
   "title_sidebar": "Contents",
   "toc_cell": false,
   "toc_position": {},
   "toc_section_display": true,
   "toc_window_display": false
  },
  "varInspector": {
   "cols": {
    "lenName": 16,
    "lenType": 16,
    "lenVar": 40
   },
   "kernels_config": {
    "python": {
     "delete_cmd_postfix": "",
     "delete_cmd_prefix": "del ",
     "library": "var_list.py",
     "varRefreshCmd": "print(var_dic_list())"
    },
    "r": {
     "delete_cmd_postfix": ") ",
     "delete_cmd_prefix": "rm(",
     "library": "var_list.r",
     "varRefreshCmd": "cat(var_dic_list()) "
    }
   },
   "types_to_exclude": [
    "module",
    "function",
    "builtin_function_or_method",
    "instance",
    "_Feature"
   ],
   "window_display": false
>>>>>>> refs/remotes/origin/master
  }
 },
 "nbformat": 4,
 "nbformat_minor": 1
}
