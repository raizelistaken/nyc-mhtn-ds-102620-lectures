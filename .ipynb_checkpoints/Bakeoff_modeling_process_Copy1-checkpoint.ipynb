{
 "cells": [
  {
   "cell_type": "markdown",
   "metadata": {},
   "source": [
    "# Kings County Housing Prices Bakeoff\n",
    "\n",
    "Below are a list of steps that you should take while trying to complete your bake-off entry."
   ]
  },
  {
   "cell_type": "markdown",
   "metadata": {},
   "source": [
    "## Step 1: Read in Data"
   ]
  },
  {
   "cell_type": "code",
   "execution_count": null,
   "metadata": {},
   "outputs": [],
   "source": [
    "import pandas as pd\n",
    "import numpy as np\n",
    "import scipy.stats as stats\n",
    "import pandas as pd\n",
    "import math\n",
    "import matplotlib.pyplot as plt\n",
    "import seaborn as sns\n",
    "from sklearn.preprocessing import StandardScaler\n",
    "from statsmodels.formula.api import ols\n",
    "from statsmodels.stats.outliers_influence import variance_inflation_factor\n",
    "import statsmodels.api as sm\n",
    "%matplotlib inline\n",
    "\n",
    "pd.set_option('display.max_columns', 100)"
   ]
  },
  {
   "cell_type": "code",
   "execution_count": null,
   "metadata": {},
   "outputs": [],
   "source": [
    "df = pd.read_csv('kc_house_data_train.csv')"
   ]
  },
  {
   "cell_type": "code",
   "execution_count": null,
   "metadata": {
    "scrolled": true
   },
   "outputs": [],
   "source": [
    "df.shape"
   ]
  },
  {
   "cell_type": "code",
   "execution_count": null,
   "metadata": {},
   "outputs": [],
   "source": [
    "# df.describe()"
   ]
  },
  {
   "cell_type": "code",
   "execution_count": null,
   "metadata": {
    "scrolled": true
   },
   "outputs": [],
   "source": [
    "# df.info()"
   ]
  },
  {
   "cell_type": "code",
   "execution_count": null,
   "metadata": {},
   "outputs": [],
   "source": [
    "df.columns"
   ]
  },
  {
   "cell_type": "markdown",
   "metadata": {},
   "source": [
    "## Step 2: Exploratory Data Analysis \n",
    "    \n",
    "Become familiar with the data.  Look to see if there are any extreme values.  \n",
    "\n",
    "Additionally create data visualizations to determine if there are any relationships between your features and your target variables.  "
   ]
  },
  {
   "cell_type": "code",
   "execution_count": null,
   "metadata": {},
   "outputs": [],
   "source": [
    "fig, ax = plt.subplots(figsize=(20,10)) # figsize to make larger\n",
    "sns.heatmap(df.corr(), cmap='bwr', center=0, annot=True)\n",
    "# OPTIONAL: fix for matplotlib bug that cuts off top/bottom of seaborn viz\n",
    "b, t = plt.ylim() # discover the values for bottom and top\n",
    "b += 0.5 # Add 0.5 to the bottom\n",
    "t -= 0.5 # Subtract 0.5 from the top\n",
    "plt.ylim(b, t) # update the ylim(bottom, top) values\n",
    "plt.show() "
   ]
  },
  {
   "cell_type": "code",
   "execution_count": null,
   "metadata": {
    "scrolled": true
   },
   "outputs": [],
   "source": [
    "df.loc[(df['price'] > 5000000)]"
   ]
  },
  {
   "cell_type": "code",
   "execution_count": null,
   "metadata": {},
   "outputs": [],
   "source": [
    "above_5std = df.price.mean()+(5*df.price.std())"
   ]
  },
  {
   "cell_type": "code",
   "execution_count": null,
   "metadata": {
    "scrolled": false
   },
   "outputs": [],
   "source": [
    "df[(df['price'])<= above_5std]"
   ]
  },
  {
   "cell_type": "code",
   "execution_count": null,
   "metadata": {
    "scrolled": true
   },
   "outputs": [],
   "source": [
    "import matplotlib.pyplot as plt\n",
    "%matplotlib inline\n",
    "\n",
    "fig , axes = plt.subplots(8,2, figsize = (22,70))\n",
    "\n",
    "axes[0][0].set_title('bathrooms', fontsize = 22)\n",
    "axes[0][1].set_title('bedrooms', fontsize = 22)\n",
    "axes[1][0].set_title('condition', fontsize = 22)\n",
    "axes[1][1].set_title('floors', fontsize = 22)\n",
    "axes[2][0].set_title('grade', fontsize = 22)\n",
    "axes[2][1].set_title('sqft_above', fontsize = 22)\n",
    "axes[3][0].set_title('sqft_basement', fontsize = 22)\n",
    "axes[3][1].set_title('sqft_living', fontsize = 22)\n",
    "axes[4][0].set_title('sqft_lot', fontsize = 22)\n",
    "axes[4][1].set_title('sqft_living15', fontsize = 22)\n",
    "axes[5][0].set_title('sqft_lot15', fontsize = 22)\n",
    "axes[5][1].set_title('view', fontsize = 22)\n",
    "axes[6][0].set_title('waterfront', fontsize = 22)\n",
    "axes[6][1].set_title('yr_built', fontsize = 22)\n",
    "axes[7][0].set_title('yr_renovated', fontsize = 22)\n",
    "axes[7][1].set_title('zipcode', fontsize = 22)\n",
    "\n",
    "axes[0][0].boxplot(df['bathrooms'])\n",
    "axes[0][1].boxplot(df['bedrooms'])\n",
    "axes[1][0].boxplot(df['condition'])\n",
    "axes[1][1].boxplot(df['floors'])\n",
    "axes[2][0].boxplot(df['grade'])\n",
    "axes[2][1].boxplot(df['sqft_above'])\n",
    "axes[3][0].boxplot(df['sqft_basement'])\n",
    "axes[3][1].boxplot(df['sqft_living'])\n",
    "axes[4][0].boxplot(df['sqft_lot'])\n",
    "axes[4][1].boxplot(df['sqft_living15'])\n",
    "axes[5][0].boxplot(df['sqft_lot15'])\n",
    "axes[5][1].boxplot(df['view'])\n",
    "axes[6][0].boxplot(df['waterfront'])\n",
    "axes[6][1].boxplot(df['yr_built'])\n",
    "axes[7][0].boxplot(df['yr_renovated'])\n",
    "axes[7][1].boxplot(df['zipcode'])\n",
    "\n",
    "# axes[0][0].set_ytick()\n",
    "axes[0][0].set_yticklabels(df['bathrooms'], fontsize = 17)\n",
    "axes[0][1].set_yticklabels(df['bedrooms'], fontsize = 17)\n",
    "axes[1][0].set_yticklabels(df['condition'], fontsize = 17)\n",
    "axes[1][1].set_yticklabels(df['floors'], fontsize = 17)\n",
    "axes[2][0].set_yticklabels(df['grade'], fontsize = 17)\n",
    "axes[2][1].set_yticklabels(df['sqft_above'], fontsize = 17)\n",
    "axes[3][0].set_yticklabels(df['sqft_basement'], fontsize = 17)\n",
    "axes[3][1].set_yticklabels(df['sqft_living'], fontsize = 17)\n",
    "axes[4][0].set_yticklabels(df['sqft_lot'], fontsize = 17)\n",
    "axes[4][1].set_yticklabels(df['sqft_living15'], fontsize = 17)\n",
    "axes[5][0].set_yticklabels(df['sqft_lot15'], fontsize = 17)\n",
    "axes[5][1].set_yticklabels(df['view'], fontsize = 17)\n",
    "axes[6][0].set_yticklabels(df['waterfront'], fontsize = 17)\n",
    "axes[6][1].set_yticklabels(df['yr_built'], fontsize = 17)\n",
    "axes[7][0].set_yticklabels(df['yr_renovated'], fontsize = 17)\n",
    "axes[7][1].set_yticklabels(df['zipcode'], fontsize = 17)\n",
    "                      \n",
    "plt.subplots_adjust(hspace = .2)"
   ]
  },
  {
   "cell_type": "code",
   "execution_count": null,
   "metadata": {},
   "outputs": [],
   "source": [
    "#save to seperate csv"
   ]
  },
  {
   "cell_type": "code",
   "execution_count": null,
   "metadata": {
    "scrolled": false
   },
   "outputs": [],
   "source": [
    "fig , axes = plt.subplots(8,2, figsize = (22,80))\n",
    "\n",
    "axes[0][0].scatter(df['price'], df['bathrooms'])\n",
    "axes[0][1].scatter(df['price'], df['bedrooms'])\n",
    "axes[1][0].scatter(df['price'], df['condition'])\n",
    "axes[1][1].scatter(df['price'], df['floors'])\n",
    "axes[2][0].scatter(df['price'], df['grade'])\n",
    "axes[2][1].scatter(df['price'], df['sqft_above'])\n",
    "axes[3][0].scatter(df['price'], df['sqft_basement'])\n",
    "axes[3][1].scatter(df['price'], df['sqft_living'])\n",
    "axes[4][0].scatter(df['price'], df['sqft_lot'])\n",
    "axes[4][1].scatter(df['price'], df['sqft_living15'])\n",
    "axes[5][0].scatter(df['price'], df['sqft_lot15'])\n",
    "axes[5][1].scatter(df['price'], df['view'])\n",
    "axes[6][0].scatter(df['price'], df['waterfront'])\n",
    "axes[6][1].scatter(df['price'], df['yr_built'])\n",
    "axes[7][0].scatter(df['price'], df['yr_renovated'])\n",
    "axes[7][1].scatter(df['price'], df['zipcode'])\n",
    "                      \n",
    "plt.subplots_adjust(hspace = .2)\n",
    "\n",
    "axes[0][0].set_title('bathrooms', fontsize = 22)\n",
    "axes[0][1].set_title('bedrooms', fontsize = 22)\n",
    "axes[1][0].set_title('condition', fontsize = 22)\n",
    "axes[1][1].set_title('floors', fontsize = 22)\n",
    "axes[2][0].set_title('grade', fontsize = 22)\n",
    "axes[2][1].set_title('sqft_above', fontsize = 22)\n",
    "axes[3][0].set_title('sqft_basement', fontsize = 22)\n",
    "axes[3][1].set_title('sqft_living', fontsize = 22)\n",
    "axes[4][0].set_title('sqft_lot', fontsize = 22)\n",
    "axes[4][1].set_title('sqft_living15', fontsize = 22)\n",
    "axes[5][0].set_title('sqft_lot15', fontsize = 22)\n",
    "axes[5][1].set_title('view', fontsize = 22)\n",
    "axes[6][0].set_title('waterfront', fontsize = 22)\n",
    "axes[6][1].set_title('yr_built', fontsize = 22)\n",
    "axes[7][0].set_title('yr_renovated', fontsize = 22)\n",
    "axes[7][1].set_title('zipcode', fontsize = 22)\n",
    "\n",
    "axes[0][0].set_xlabel('Price', fontsize = 16)\n",
    "axes[0][1].set_xlabel('Price', fontsize = 16)\n",
    "axes[1][0].set_xlabel('Price', fontsize = 16)\n",
    "axes[1][1].set_xlabel('Price', fontsize = 16)\n",
    "axes[2][0].set_xlabel('Price', fontsize = 16)\n",
    "axes[2][1].set_xlabel('Price', fontsize = 16)\n",
    "axes[3][0].set_xlabel('Price', fontsize = 16)\n",
    "axes[3][1].set_xlabel('Price', fontsize = 16)\n",
    "axes[4][0].set_xlabel('Price', fontsize = 16)\n",
    "axes[4][1].set_xlabel('Price', fontsize = 16)\n",
    "axes[5][0].set_xlabel('Price', fontsize = 16)\n",
    "axes[5][1].set_xlabel('Price', fontsize = 16)\n",
    "axes[6][0].set_xlabel('Price', fontsize = 16)\n",
    "axes[6][1].set_xlabel('Price', fontsize = 16)\n",
    "axes[7][0].set_xlabel('Price', fontsize = 16)\n",
    "axes[7][1].set_xlabel('Price', fontsize = 16)\n",
    "\n",
    "axes[0][0].set_ylabel('bathrooms', fontsize = 16)\n",
    "axes[0][1].set_ylabel('bedrooms', fontsize = 16)\n",
    "axes[1][0].set_ylabel('condition', fontsize = 16)\n",
    "axes[1][1].set_ylabel('floors', fontsize = 16)\n",
    "axes[2][0].set_ylabel('grade', fontsize = 16)\n",
    "axes[2][1].set_ylabel('sqft_above', fontsize = 16)\n",
    "axes[3][0].set_ylabel('sqft_basement', fontsize = 16)\n",
    "axes[3][1].set_ylabel('sqft_living', fontsize = 16)\n",
    "axes[4][0].set_ylabel('sqft_lot', fontsize = 16)\n",
    "axes[4][1].set_ylabel('sqft_living15', fontsize = 16)\n",
    "axes[5][0].set_ylabel('v_lot15', fontsize = 16)\n",
    "axes[5][1].set_ylabel('view', fontsize = 16)\n",
    "axes[6][0].set_ylabel('waterfront', fontsize = 16)\n",
    "axes[6][1].set_ylabel('yr_built', fontsize = 16)\n",
    "axes[7][0].set_ylabel('yr_renovated', fontsize = 16)\n",
    "axes[7][1].set_ylabel('zipcode', fontsize = 16)"
   ]
  },
  {
   "cell_type": "code",
   "execution_count": null,
   "metadata": {
    "scrolled": true
   },
   "outputs": [],
   "source": [
    "df['bedrooms'] = df['bedrooms'].replace([0,33,11],[df['bedrooms'].median(),3, 4])\n",
    "df['bedrooms']"
   ]
  },
  {
   "cell_type": "markdown",
   "metadata": {},
   "source": [
    "## Step 3: Clean up any issues (extreme values, etc.) with the data.  \n",
    "\n",
    "Remember that you can't just delete rows with extreme values. Similar observations might be present in the holdout data set, and you can't just delete those rows and not have a prediction for it. "
   ]
  },
  {
   "cell_type": "code",
   "execution_count": null,
   "metadata": {},
   "outputs": [],
   "source": [
    "above_5std = df.price.mean()+(5*df.price.std())"
   ]
  },
  {
   "cell_type": "code",
   "execution_count": null,
   "metadata": {},
   "outputs": [],
   "source": [
    "# df['price'] = df[(df['price'])<= above_5std]\n",
    "# df['price']"
   ]
  },
  {
   "cell_type": "markdown",
   "metadata": {},
   "source": [
    "## Step 4: Generate new features that you think could be important.\n",
    "\n",
    "After doing this, you will want to go back to steps 2 and 3 to investigate these new features."
   ]
  },
  {
   "cell_type": "code",
   "execution_count": null,
   "metadata": {},
   "outputs": [],
   "source": [
    "df.columns"
   ]
  },
  {
   "cell_type": "code",
   "execution_count": null,
   "metadata": {},
   "outputs": [],
   "source": [
    "model = ols(formula='price~sqft_living+sqft_lot+view+waterfront+condition+grade+yr_renovated+yr_built+sqft_basement+sqft_above', data=df).fit()"
   ]
  },
  {
   "cell_type": "code",
   "execution_count": null,
   "metadata": {},
   "outputs": [],
   "source": [
    "model.summary()"
   ]
  },
  {
   "cell_type": "markdown",
   "metadata": {},
   "source": [
    "### 4.1) Identify a categorical variable in the data set and create dummy columns."
   ]
  },
  {
   "cell_type": "code",
   "execution_count": null,
   "metadata": {},
   "outputs": [],
   "source": [
    "pd.get_dummies(df['condition'])\n",
    "pd.get_dummies(df['grade'])\n",
    "pd.get_dummies(df['waterfront'])\n",
    "pd.get_dummies(df['view'])\n",
    "df_dummy = pd.get_dummies(df, columns=['condition'], drop_first=True)"
   ]
  },
  {
   "cell_type": "markdown",
   "metadata": {},
   "source": [
    "### 4.2) There is a column that gives the date for when the house was sold, how could this be useful in your model? How might you transform the current column to a more useful feature?"
   ]
  },
  {
   "cell_type": "code",
   "execution_count": null,
   "metadata": {},
   "outputs": [],
   "source": [
    "#your code here\n",
    "df['date'] = pd.to_datetime(df['date'])"
   ]
  },
  {
   "cell_type": "markdown",
   "metadata": {},
   "source": [
    "### 4.3) There are columns for when the house was built and when it was renovated.  How could you use these columns to create a new column?"
   ]
  },
  {
   "cell_type": "code",
   "execution_count": null,
   "metadata": {},
   "outputs": [],
   "source": [
    "#your code here "
   ]
  },
  {
   "cell_type": "markdown",
   "metadata": {},
   "source": [
    "### <ins>Non-linear transformations</ins>\n",
    "\n",
    "### 4.4) Create a polynomial feature for two of your continuous variables."
   ]
  },
  {
   "cell_type": "code",
   "execution_count": null,
   "metadata": {},
   "outputs": [],
   "source": [
    "# your code here"
   ]
  },
  {
   "cell_type": "markdown",
   "metadata": {},
   "source": [
    "### 4.5) Create an interaction feature between a binary variable (dummy variable) and a continuous variable."
   ]
  },
  {
   "cell_type": "code",
   "execution_count": null,
   "metadata": {},
   "outputs": [],
   "source": [
    "# your code here"
   ]
  },
  {
   "cell_type": "markdown",
   "metadata": {},
   "source": [
    "## Step 5: Train-Test Split\n",
    "\n",
    "If you plan on doing any scaling of your data, make sure it is done at the appropriate time. "
   ]
  },
  {
   "cell_type": "markdown",
   "metadata": {},
   "source": [
    "### 5.1) Perform a train-test split of the data."
   ]
  },
  {
   "cell_type": "code",
   "execution_count": 1,
   "metadata": {},
   "outputs": [],
   "source": [
    "#your code here "
   ]
  },
  {
   "cell_type": "markdown",
   "metadata": {},
   "source": [
    "### 5.2) Fit your scaler to training the data."
   ]
  },
  {
   "cell_type": "code",
   "execution_count": 2,
   "metadata": {},
   "outputs": [],
   "source": [
    "#your code here "
   ]
  },
  {
   "cell_type": "markdown",
   "metadata": {},
   "source": [
    "### 5.3) Transform the testing set with the scaler."
   ]
  },
  {
   "cell_type": "code",
   "execution_count": 3,
   "metadata": {},
   "outputs": [],
   "source": [
    "#your code here "
   ]
  },
  {
   "cell_type": "markdown",
   "metadata": {},
   "source": [
    "### 5.4) Fit the model to the training data."
   ]
  },
  {
   "cell_type": "code",
   "execution_count": 4,
   "metadata": {},
   "outputs": [],
   "source": [
    "#your code here "
   ]
  },
  {
   "cell_type": "markdown",
   "metadata": {},
   "source": [
    "### 5.5) Use the model to predict on the training set and the test set."
   ]
  },
  {
   "cell_type": "code",
   "execution_count": 5,
   "metadata": {},
   "outputs": [],
   "source": [
    "#your code here "
   ]
  },
  {
   "cell_type": "markdown",
   "metadata": {},
   "source": [
    "### 5.6) Evaluate the training and test predictions using RMSE."
   ]
  },
  {
   "cell_type": "code",
   "execution_count": 6,
   "metadata": {},
   "outputs": [],
   "source": [
    "#your code here "
   ]
  },
  {
   "cell_type": "markdown",
   "metadata": {},
   "source": [
    "### 5.7) Determine if your model is overfit."
   ]
  },
  {
   "cell_type": "code",
   "execution_count": null,
   "metadata": {},
   "outputs": [],
   "source": [
    "#your code here "
   ]
  },
  {
   "cell_type": "markdown",
   "metadata": {},
   "source": [
    "## Step 6: Utilize some different feature selection techniques before or in conjuction with fitting your models."
   ]
  },
  {
   "cell_type": "markdown",
   "metadata": {},
   "source": [
    "### 6.1) Utilize a filter method to identify some features to remove from the model.  "
   ]
  },
  {
   "cell_type": "code",
   "execution_count": 7,
   "metadata": {},
   "outputs": [],
   "source": [
    "# your code here"
   ]
  },
  {
   "cell_type": "markdown",
   "metadata": {},
   "source": [
    "### 6.2) After removing the features, re-run Step 5 and see if your new model performs better than the old model."
   ]
  },
  {
   "cell_type": "code",
   "execution_count": 8,
   "metadata": {},
   "outputs": [],
   "source": [
    "# your code here"
   ]
  },
  {
   "cell_type": "markdown",
   "metadata": {},
   "source": [
    "## Step 7: Evaluate your different models in order to determine the best model overall."
   ]
  },
  {
   "cell_type": "markdown",
   "metadata": {},
   "source": [
    "## Step 8:  Refit your best model to the entire dataset."
   ]
  },
  {
   "cell_type": "markdown",
   "metadata": {},
   "source": [
    "## Step 9: Save your final model using pickle.\n",
    "\n",
    "https://machinelearningmastery.com/save-load-machine-learning-models-python-scikit-learn/"
   ]
  },
  {
   "cell_type": "code",
   "execution_count": null,
   "metadata": {},
   "outputs": [],
   "source": []
  },
  {
   "cell_type": "code",
   "execution_count": null,
   "metadata": {},
   "outputs": [],
   "source": []
  }
 ],
 "metadata": {
  "kernelspec": {
   "display_name": "Python 3",
   "language": "python",
   "name": "python3"
  },
  "language_info": {
   "codemirror_mode": {
    "name": "ipython",
    "version": 3
   },
   "file_extension": ".py",
   "mimetype": "text/x-python",
   "name": "python",
   "nbconvert_exporter": "python",
   "pygments_lexer": "ipython3",
   "version": "3.8.3"
  },
  "toc": {
   "base_numbering": 1,
   "nav_menu": {},
   "number_sections": true,
   "sideBar": true,
   "skip_h1_title": false,
   "title_cell": "Table of Contents",
   "title_sidebar": "Contents",
   "toc_cell": false,
   "toc_position": {},
   "toc_section_display": true,
   "toc_window_display": false
  },
  "varInspector": {
   "cols": {
    "lenName": 16,
    "lenType": 16,
    "lenVar": 40
   },
   "kernels_config": {
    "python": {
     "delete_cmd_postfix": "",
     "delete_cmd_prefix": "del ",
     "library": "var_list.py",
     "varRefreshCmd": "print(var_dic_list())"
    },
    "r": {
     "delete_cmd_postfix": ") ",
     "delete_cmd_prefix": "rm(",
     "library": "var_list.r",
     "varRefreshCmd": "cat(var_dic_list()) "
    }
   },
   "types_to_exclude": [
    "module",
    "function",
    "builtin_function_or_method",
    "instance",
    "_Feature"
   ],
   "window_display": false
  }
 },
 "nbformat": 4,
 "nbformat_minor": 2
}
