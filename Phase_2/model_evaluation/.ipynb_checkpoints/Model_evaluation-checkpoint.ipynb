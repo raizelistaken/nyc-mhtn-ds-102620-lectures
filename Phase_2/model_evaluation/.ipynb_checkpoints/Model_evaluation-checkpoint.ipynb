{
 "cells": [
  {
   "cell_type": "code",
   "execution_count": 28,
   "metadata": {
    "slideshow": {
     "slide_type": "subslide"
    }
   },
   "outputs": [],
   "source": [
    "import matplotlib.pyplot as plt\n",
    "from math import exp\n",
    "from scipy import stats\n",
    "import seaborn as sns\n",
    "import pandas as pd\n",
    "from sklearn.model_selection import train_test_split\n",
    "from sklearn.linear_model import LinearRegression\n",
    "from sklearn import metrics\n",
    "import numpy as np\n",
    "import warnings\n",
    "warnings.filterwarnings(\"ignore\")\n",
    "pd.set_option('display.max_columns', 300)"
   ]
  },
  {
   "cell_type": "markdown",
   "metadata": {},
   "source": [
    "### Read in cleaned movie data set\n"
   ]
  },
  {
   "cell_type": "code",
   "execution_count": 32,
   "metadata": {},
   "outputs": [],
   "source": [
    "movie_df = pd.read_csv('resources/movie_dataset_us.csv', index_col=0)"
   ]
  },
  {
   "cell_type": "markdown",
   "metadata": {},
   "source": [
    "### Take a look at the data"
   ]
  },
  {
   "cell_type": "code",
   "execution_count": 33,
   "metadata": {
    "slideshow": {
     "slide_type": "subslide"
    }
   },
   "outputs": [
    {
     "data": {
      "text/html": [
       "<div>\n",
       "<style scoped>\n",
       "    .dataframe tbody tr th:only-of-type {\n",
       "        vertical-align: middle;\n",
       "    }\n",
       "\n",
       "    .dataframe tbody tr th {\n",
       "        vertical-align: top;\n",
       "    }\n",
       "\n",
       "    .dataframe thead th {\n",
       "        text-align: right;\n",
       "    }\n",
       "</style>\n",
       "<table border=\"1\" class=\"dataframe\">\n",
       "  <thead>\n",
       "    <tr style=\"text-align: right;\">\n",
       "      <th></th>\n",
       "      <th>num_critic_for_reviews</th>\n",
       "      <th>duration</th>\n",
       "      <th>director_facebook_likes</th>\n",
       "      <th>actor_3_facebook_likes</th>\n",
       "      <th>actor_2_name</th>\n",
       "      <th>actor_1_facebook_likes</th>\n",
       "      <th>gross</th>\n",
       "      <th>actor_1_name</th>\n",
       "      <th>movie_title</th>\n",
       "      <th>num_voted_users</th>\n",
       "      <th>cast_total_facebook_likes</th>\n",
       "      <th>actor_3_name</th>\n",
       "      <th>facenumber_in_poster</th>\n",
       "      <th>num_user_for_reviews</th>\n",
       "      <th>language</th>\n",
       "      <th>country</th>\n",
       "      <th>content_rating</th>\n",
       "      <th>budget</th>\n",
       "      <th>title_year</th>\n",
       "      <th>actor_2_facebook_likes</th>\n",
       "      <th>imdb_score</th>\n",
       "      <th>movie_facebook_likes</th>\n",
       "      <th>rating</th>\n",
       "      <th>G</th>\n",
       "      <th>Other</th>\n",
       "      <th>PG</th>\n",
       "      <th>PG-13</th>\n",
       "      <th>R</th>\n",
       "      <th>yr_old</th>\n",
       "    </tr>\n",
       "  </thead>\n",
       "  <tbody>\n",
       "    <tr>\n",
       "      <th>3</th>\n",
       "      <td>813.0</td>\n",
       "      <td>164.0</td>\n",
       "      <td>22000.0</td>\n",
       "      <td>23000.0</td>\n",
       "      <td>Christian Bale</td>\n",
       "      <td>27000.0</td>\n",
       "      <td>448130642.0</td>\n",
       "      <td>Tom Hardy</td>\n",
       "      <td>The Dark Knight Rises</td>\n",
       "      <td>1144337</td>\n",
       "      <td>106759</td>\n",
       "      <td>Joseph Gordon-Levitt</td>\n",
       "      <td>0.0</td>\n",
       "      <td>2701.0</td>\n",
       "      <td>English</td>\n",
       "      <td>USA</td>\n",
       "      <td>PG-13</td>\n",
       "      <td>250000000.0</td>\n",
       "      <td>2012.0</td>\n",
       "      <td>23000.0</td>\n",
       "      <td>8.5</td>\n",
       "      <td>164000</td>\n",
       "      <td>PG-13</td>\n",
       "      <td>0</td>\n",
       "      <td>0</td>\n",
       "      <td>0</td>\n",
       "      <td>1</td>\n",
       "      <td>0</td>\n",
       "      <td>4.0</td>\n",
       "    </tr>\n",
       "    <tr>\n",
       "      <th>5</th>\n",
       "      <td>462.0</td>\n",
       "      <td>132.0</td>\n",
       "      <td>475.0</td>\n",
       "      <td>530.0</td>\n",
       "      <td>Samantha Morton</td>\n",
       "      <td>640.0</td>\n",
       "      <td>73058679.0</td>\n",
       "      <td>Daryl Sabara</td>\n",
       "      <td>John Carter</td>\n",
       "      <td>212204</td>\n",
       "      <td>1873</td>\n",
       "      <td>Polly Walker</td>\n",
       "      <td>1.0</td>\n",
       "      <td>738.0</td>\n",
       "      <td>English</td>\n",
       "      <td>USA</td>\n",
       "      <td>PG-13</td>\n",
       "      <td>263700000.0</td>\n",
       "      <td>2012.0</td>\n",
       "      <td>632.0</td>\n",
       "      <td>6.6</td>\n",
       "      <td>24000</td>\n",
       "      <td>PG-13</td>\n",
       "      <td>0</td>\n",
       "      <td>0</td>\n",
       "      <td>0</td>\n",
       "      <td>1</td>\n",
       "      <td>0</td>\n",
       "      <td>4.0</td>\n",
       "    </tr>\n",
       "    <tr>\n",
       "      <th>6</th>\n",
       "      <td>392.0</td>\n",
       "      <td>156.0</td>\n",
       "      <td>0.0</td>\n",
       "      <td>4000.0</td>\n",
       "      <td>James Franco</td>\n",
       "      <td>24000.0</td>\n",
       "      <td>336530303.0</td>\n",
       "      <td>J.K. Simmons</td>\n",
       "      <td>Spider-Man 3</td>\n",
       "      <td>383056</td>\n",
       "      <td>46055</td>\n",
       "      <td>Kirsten Dunst</td>\n",
       "      <td>0.0</td>\n",
       "      <td>1902.0</td>\n",
       "      <td>English</td>\n",
       "      <td>USA</td>\n",
       "      <td>PG-13</td>\n",
       "      <td>258000000.0</td>\n",
       "      <td>2007.0</td>\n",
       "      <td>11000.0</td>\n",
       "      <td>6.2</td>\n",
       "      <td>0</td>\n",
       "      <td>PG-13</td>\n",
       "      <td>0</td>\n",
       "      <td>0</td>\n",
       "      <td>0</td>\n",
       "      <td>1</td>\n",
       "      <td>0</td>\n",
       "      <td>9.0</td>\n",
       "    </tr>\n",
       "    <tr>\n",
       "      <th>7</th>\n",
       "      <td>324.0</td>\n",
       "      <td>100.0</td>\n",
       "      <td>15.0</td>\n",
       "      <td>284.0</td>\n",
       "      <td>Donna Murphy</td>\n",
       "      <td>799.0</td>\n",
       "      <td>200807262.0</td>\n",
       "      <td>Brad Garrett</td>\n",
       "      <td>Tangled</td>\n",
       "      <td>294810</td>\n",
       "      <td>2036</td>\n",
       "      <td>M.C. Gainey</td>\n",
       "      <td>1.0</td>\n",
       "      <td>387.0</td>\n",
       "      <td>English</td>\n",
       "      <td>USA</td>\n",
       "      <td>PG</td>\n",
       "      <td>260000000.0</td>\n",
       "      <td>2010.0</td>\n",
       "      <td>553.0</td>\n",
       "      <td>7.8</td>\n",
       "      <td>29000</td>\n",
       "      <td>PG</td>\n",
       "      <td>0</td>\n",
       "      <td>0</td>\n",
       "      <td>1</td>\n",
       "      <td>0</td>\n",
       "      <td>0</td>\n",
       "      <td>6.0</td>\n",
       "    </tr>\n",
       "    <tr>\n",
       "      <th>8</th>\n",
       "      <td>635.0</td>\n",
       "      <td>141.0</td>\n",
       "      <td>0.0</td>\n",
       "      <td>19000.0</td>\n",
       "      <td>Robert Downey Jr.</td>\n",
       "      <td>26000.0</td>\n",
       "      <td>458991599.0</td>\n",
       "      <td>Chris Hemsworth</td>\n",
       "      <td>Avengers: Age of Ultron</td>\n",
       "      <td>462669</td>\n",
       "      <td>92000</td>\n",
       "      <td>Scarlett Johansson</td>\n",
       "      <td>4.0</td>\n",
       "      <td>1117.0</td>\n",
       "      <td>English</td>\n",
       "      <td>USA</td>\n",
       "      <td>PG-13</td>\n",
       "      <td>250000000.0</td>\n",
       "      <td>2015.0</td>\n",
       "      <td>21000.0</td>\n",
       "      <td>7.5</td>\n",
       "      <td>118000</td>\n",
       "      <td>PG-13</td>\n",
       "      <td>0</td>\n",
       "      <td>0</td>\n",
       "      <td>0</td>\n",
       "      <td>1</td>\n",
       "      <td>0</td>\n",
       "      <td>1.0</td>\n",
       "    </tr>\n",
       "  </tbody>\n",
       "</table>\n",
       "</div>"
      ],
      "text/plain": [
       "   num_critic_for_reviews  duration  director_facebook_likes  \\\n",
       "3                   813.0     164.0                  22000.0   \n",
       "5                   462.0     132.0                    475.0   \n",
       "6                   392.0     156.0                      0.0   \n",
       "7                   324.0     100.0                     15.0   \n",
       "8                   635.0     141.0                      0.0   \n",
       "\n",
       "   actor_3_facebook_likes       actor_2_name  actor_1_facebook_likes  \\\n",
       "3                 23000.0     Christian Bale                 27000.0   \n",
       "5                   530.0    Samantha Morton                   640.0   \n",
       "6                  4000.0       James Franco                 24000.0   \n",
       "7                   284.0       Donna Murphy                   799.0   \n",
       "8                 19000.0  Robert Downey Jr.                 26000.0   \n",
       "\n",
       "         gross     actor_1_name               movie_title  num_voted_users  \\\n",
       "3  448130642.0        Tom Hardy    The Dark Knight Rises           1144337   \n",
       "5   73058679.0     Daryl Sabara              John Carter            212204   \n",
       "6  336530303.0     J.K. Simmons             Spider-Man 3            383056   \n",
       "7  200807262.0     Brad Garrett                  Tangled            294810   \n",
       "8  458991599.0  Chris Hemsworth  Avengers: Age of Ultron            462669   \n",
       "\n",
       "   cast_total_facebook_likes          actor_3_name  facenumber_in_poster  \\\n",
       "3                     106759  Joseph Gordon-Levitt                   0.0   \n",
       "5                       1873          Polly Walker                   1.0   \n",
       "6                      46055         Kirsten Dunst                   0.0   \n",
       "7                       2036           M.C. Gainey                   1.0   \n",
       "8                      92000    Scarlett Johansson                   4.0   \n",
       "\n",
       "   num_user_for_reviews language country content_rating       budget  \\\n",
       "3                2701.0  English     USA          PG-13  250000000.0   \n",
       "5                 738.0  English     USA          PG-13  263700000.0   \n",
       "6                1902.0  English     USA          PG-13  258000000.0   \n",
       "7                 387.0  English     USA             PG  260000000.0   \n",
       "8                1117.0  English     USA          PG-13  250000000.0   \n",
       "\n",
       "   title_year  actor_2_facebook_likes  imdb_score  movie_facebook_likes  \\\n",
       "3      2012.0                 23000.0         8.5                164000   \n",
       "5      2012.0                   632.0         6.6                 24000   \n",
       "6      2007.0                 11000.0         6.2                     0   \n",
       "7      2010.0                   553.0         7.8                 29000   \n",
       "8      2015.0                 21000.0         7.5                118000   \n",
       "\n",
       "  rating  G  Other  PG  PG-13  R  yr_old  \n",
       "3  PG-13  0      0   0      1  0     4.0  \n",
       "5  PG-13  0      0   0      1  0     4.0  \n",
       "6  PG-13  0      0   0      1  0     9.0  \n",
       "7     PG  0      0   1      0  0     6.0  \n",
       "8  PG-13  0      0   0      1  0     1.0  "
      ]
     },
     "execution_count": 33,
     "metadata": {},
     "output_type": "execute_result"
    }
   ],
   "source": [
    "movie_df.head()"
   ]
  },
  {
   "cell_type": "code",
   "execution_count": 34,
   "metadata": {},
   "outputs": [
    {
     "data": {
      "text/html": [
       "<div>\n",
       "<style scoped>\n",
       "    .dataframe tbody tr th:only-of-type {\n",
       "        vertical-align: middle;\n",
       "    }\n",
       "\n",
       "    .dataframe tbody tr th {\n",
       "        vertical-align: top;\n",
       "    }\n",
       "\n",
       "    .dataframe thead th {\n",
       "        text-align: right;\n",
       "    }\n",
       "</style>\n",
       "<table border=\"1\" class=\"dataframe\">\n",
       "  <thead>\n",
       "    <tr style=\"text-align: right;\">\n",
       "      <th></th>\n",
       "      <th>num_critic_for_reviews</th>\n",
       "      <th>duration</th>\n",
       "      <th>director_facebook_likes</th>\n",
       "      <th>actor_3_facebook_likes</th>\n",
       "      <th>actor_1_facebook_likes</th>\n",
       "      <th>gross</th>\n",
       "      <th>num_voted_users</th>\n",
       "      <th>cast_total_facebook_likes</th>\n",
       "      <th>facenumber_in_poster</th>\n",
       "      <th>num_user_for_reviews</th>\n",
       "      <th>budget</th>\n",
       "      <th>title_year</th>\n",
       "      <th>actor_2_facebook_likes</th>\n",
       "      <th>imdb_score</th>\n",
       "      <th>movie_facebook_likes</th>\n",
       "      <th>G</th>\n",
       "      <th>Other</th>\n",
       "      <th>PG</th>\n",
       "      <th>PG-13</th>\n",
       "      <th>R</th>\n",
       "      <th>yr_old</th>\n",
       "    </tr>\n",
       "  </thead>\n",
       "  <tbody>\n",
       "    <tr>\n",
       "      <th>count</th>\n",
       "      <td>2331.000000</td>\n",
       "      <td>2330.000000</td>\n",
       "      <td>2331.000000</td>\n",
       "      <td>2329.000000</td>\n",
       "      <td>2331.000000</td>\n",
       "      <td>2.331000e+03</td>\n",
       "      <td>2.331000e+03</td>\n",
       "      <td>2331.000000</td>\n",
       "      <td>2325.000000</td>\n",
       "      <td>2331.000000</td>\n",
       "      <td>2.331000e+03</td>\n",
       "      <td>2331.000000</td>\n",
       "      <td>2330.000000</td>\n",
       "      <td>2331.000000</td>\n",
       "      <td>2331.000000</td>\n",
       "      <td>2331.000000</td>\n",
       "      <td>2331.000000</td>\n",
       "      <td>2331.000000</td>\n",
       "      <td>2331.000000</td>\n",
       "      <td>2331.000000</td>\n",
       "      <td>2331.000000</td>\n",
       "    </tr>\n",
       "    <tr>\n",
       "      <th>mean</th>\n",
       "      <td>189.291291</td>\n",
       "      <td>108.774678</td>\n",
       "      <td>807.211497</td>\n",
       "      <td>924.106913</td>\n",
       "      <td>8606.373659</td>\n",
       "      <td>6.102801e+07</td>\n",
       "      <td>1.118510e+05</td>\n",
       "      <td>13083.356070</td>\n",
       "      <td>1.491613</td>\n",
       "      <td>364.394680</td>\n",
       "      <td>4.777481e+07</td>\n",
       "      <td>2006.498927</td>\n",
       "      <td>2393.306009</td>\n",
       "      <td>6.313814</td>\n",
       "      <td>11110.499356</td>\n",
       "      <td>0.023595</td>\n",
       "      <td>0.001716</td>\n",
       "      <td>0.156585</td>\n",
       "      <td>0.421278</td>\n",
       "      <td>0.396825</td>\n",
       "      <td>9.501073</td>\n",
       "    </tr>\n",
       "    <tr>\n",
       "      <th>std</th>\n",
       "      <td>125.561751</td>\n",
       "      <td>19.585778</td>\n",
       "      <td>3159.106858</td>\n",
       "      <td>2137.893524</td>\n",
       "      <td>11841.083376</td>\n",
       "      <td>6.886835e+07</td>\n",
       "      <td>1.455573e+05</td>\n",
       "      <td>16971.106078</td>\n",
       "      <td>2.268649</td>\n",
       "      <td>411.241536</td>\n",
       "      <td>4.516566e+07</td>\n",
       "      <td>5.395943</td>\n",
       "      <td>5146.078168</td>\n",
       "      <td>1.048771</td>\n",
       "      <td>23796.059119</td>\n",
       "      <td>0.151816</td>\n",
       "      <td>0.041398</td>\n",
       "      <td>0.363487</td>\n",
       "      <td>0.493870</td>\n",
       "      <td>0.489344</td>\n",
       "      <td>5.395943</td>\n",
       "    </tr>\n",
       "    <tr>\n",
       "      <th>min</th>\n",
       "      <td>4.000000</td>\n",
       "      <td>46.000000</td>\n",
       "      <td>0.000000</td>\n",
       "      <td>0.000000</td>\n",
       "      <td>0.000000</td>\n",
       "      <td>1.506998e+06</td>\n",
       "      <td>5.360000e+02</td>\n",
       "      <td>0.000000</td>\n",
       "      <td>0.000000</td>\n",
       "      <td>8.000000</td>\n",
       "      <td>1.500000e+04</td>\n",
       "      <td>1997.000000</td>\n",
       "      <td>0.000000</td>\n",
       "      <td>1.600000</td>\n",
       "      <td>0.000000</td>\n",
       "      <td>0.000000</td>\n",
       "      <td>0.000000</td>\n",
       "      <td>0.000000</td>\n",
       "      <td>0.000000</td>\n",
       "      <td>0.000000</td>\n",
       "      <td>0.000000</td>\n",
       "    </tr>\n",
       "    <tr>\n",
       "      <th>25%</th>\n",
       "      <td>98.000000</td>\n",
       "      <td>95.000000</td>\n",
       "      <td>13.000000</td>\n",
       "      <td>263.000000</td>\n",
       "      <td>875.500000</td>\n",
       "      <td>1.609323e+07</td>\n",
       "      <td>2.546350e+04</td>\n",
       "      <td>2540.000000</td>\n",
       "      <td>0.000000</td>\n",
       "      <td>129.000000</td>\n",
       "      <td>1.600000e+07</td>\n",
       "      <td>2002.000000</td>\n",
       "      <td>484.250000</td>\n",
       "      <td>5.700000</td>\n",
       "      <td>0.000000</td>\n",
       "      <td>0.000000</td>\n",
       "      <td>0.000000</td>\n",
       "      <td>0.000000</td>\n",
       "      <td>0.000000</td>\n",
       "      <td>0.000000</td>\n",
       "      <td>5.000000</td>\n",
       "    </tr>\n",
       "    <tr>\n",
       "      <th>50%</th>\n",
       "      <td>159.000000</td>\n",
       "      <td>105.500000</td>\n",
       "      <td>65.000000</td>\n",
       "      <td>503.000000</td>\n",
       "      <td>2000.000000</td>\n",
       "      <td>3.775293e+07</td>\n",
       "      <td>6.051600e+04</td>\n",
       "      <td>5349.000000</td>\n",
       "      <td>1.000000</td>\n",
       "      <td>235.000000</td>\n",
       "      <td>3.500000e+07</td>\n",
       "      <td>2007.000000</td>\n",
       "      <td>787.000000</td>\n",
       "      <td>6.400000</td>\n",
       "      <td>352.000000</td>\n",
       "      <td>0.000000</td>\n",
       "      <td>0.000000</td>\n",
       "      <td>0.000000</td>\n",
       "      <td>0.000000</td>\n",
       "      <td>0.000000</td>\n",
       "      <td>9.000000</td>\n",
       "    </tr>\n",
       "    <tr>\n",
       "      <th>75%</th>\n",
       "      <td>249.000000</td>\n",
       "      <td>119.000000</td>\n",
       "      <td>221.000000</td>\n",
       "      <td>756.000000</td>\n",
       "      <td>14000.000000</td>\n",
       "      <td>7.802039e+07</td>\n",
       "      <td>1.410770e+05</td>\n",
       "      <td>18395.500000</td>\n",
       "      <td>2.000000</td>\n",
       "      <td>447.500000</td>\n",
       "      <td>6.000000e+07</td>\n",
       "      <td>2011.000000</td>\n",
       "      <td>1000.000000</td>\n",
       "      <td>7.000000</td>\n",
       "      <td>14000.000000</td>\n",
       "      <td>0.000000</td>\n",
       "      <td>0.000000</td>\n",
       "      <td>0.000000</td>\n",
       "      <td>1.000000</td>\n",
       "      <td>1.000000</td>\n",
       "      <td>14.000000</td>\n",
       "    </tr>\n",
       "    <tr>\n",
       "      <th>max</th>\n",
       "      <td>813.000000</td>\n",
       "      <td>280.000000</td>\n",
       "      <td>23000.000000</td>\n",
       "      <td>23000.000000</td>\n",
       "      <td>164000.000000</td>\n",
       "      <td>4.745447e+08</td>\n",
       "      <td>1.468200e+06</td>\n",
       "      <td>303717.000000</td>\n",
       "      <td>43.000000</td>\n",
       "      <td>3646.000000</td>\n",
       "      <td>2.637000e+08</td>\n",
       "      <td>2016.000000</td>\n",
       "      <td>137000.000000</td>\n",
       "      <td>8.900000</td>\n",
       "      <td>349000.000000</td>\n",
       "      <td>1.000000</td>\n",
       "      <td>1.000000</td>\n",
       "      <td>1.000000</td>\n",
       "      <td>1.000000</td>\n",
       "      <td>1.000000</td>\n",
       "      <td>19.000000</td>\n",
       "    </tr>\n",
       "  </tbody>\n",
       "</table>\n",
       "</div>"
      ],
      "text/plain": [
       "       num_critic_for_reviews     duration  director_facebook_likes  \\\n",
       "count             2331.000000  2330.000000              2331.000000   \n",
       "mean               189.291291   108.774678               807.211497   \n",
       "std                125.561751    19.585778              3159.106858   \n",
       "min                  4.000000    46.000000                 0.000000   \n",
       "25%                 98.000000    95.000000                13.000000   \n",
       "50%                159.000000   105.500000                65.000000   \n",
       "75%                249.000000   119.000000               221.000000   \n",
       "max                813.000000   280.000000             23000.000000   \n",
       "\n",
       "       actor_3_facebook_likes  actor_1_facebook_likes         gross  \\\n",
       "count             2329.000000             2331.000000  2.331000e+03   \n",
       "mean               924.106913             8606.373659  6.102801e+07   \n",
       "std               2137.893524            11841.083376  6.886835e+07   \n",
       "min                  0.000000                0.000000  1.506998e+06   \n",
       "25%                263.000000              875.500000  1.609323e+07   \n",
       "50%                503.000000             2000.000000  3.775293e+07   \n",
       "75%                756.000000            14000.000000  7.802039e+07   \n",
       "max              23000.000000           164000.000000  4.745447e+08   \n",
       "\n",
       "       num_voted_users  cast_total_facebook_likes  facenumber_in_poster  \\\n",
       "count     2.331000e+03                2331.000000           2325.000000   \n",
       "mean      1.118510e+05               13083.356070              1.491613   \n",
       "std       1.455573e+05               16971.106078              2.268649   \n",
       "min       5.360000e+02                   0.000000              0.000000   \n",
       "25%       2.546350e+04                2540.000000              0.000000   \n",
       "50%       6.051600e+04                5349.000000              1.000000   \n",
       "75%       1.410770e+05               18395.500000              2.000000   \n",
       "max       1.468200e+06              303717.000000             43.000000   \n",
       "\n",
       "       num_user_for_reviews        budget   title_year  \\\n",
       "count           2331.000000  2.331000e+03  2331.000000   \n",
       "mean             364.394680  4.777481e+07  2006.498927   \n",
       "std              411.241536  4.516566e+07     5.395943   \n",
       "min                8.000000  1.500000e+04  1997.000000   \n",
       "25%              129.000000  1.600000e+07  2002.000000   \n",
       "50%              235.000000  3.500000e+07  2007.000000   \n",
       "75%              447.500000  6.000000e+07  2011.000000   \n",
       "max             3646.000000  2.637000e+08  2016.000000   \n",
       "\n",
       "       actor_2_facebook_likes   imdb_score  movie_facebook_likes            G  \\\n",
       "count             2330.000000  2331.000000           2331.000000  2331.000000   \n",
       "mean              2393.306009     6.313814          11110.499356     0.023595   \n",
       "std               5146.078168     1.048771          23796.059119     0.151816   \n",
       "min                  0.000000     1.600000              0.000000     0.000000   \n",
       "25%                484.250000     5.700000              0.000000     0.000000   \n",
       "50%                787.000000     6.400000            352.000000     0.000000   \n",
       "75%               1000.000000     7.000000          14000.000000     0.000000   \n",
       "max             137000.000000     8.900000         349000.000000     1.000000   \n",
       "\n",
       "             Other           PG        PG-13            R       yr_old  \n",
       "count  2331.000000  2331.000000  2331.000000  2331.000000  2331.000000  \n",
       "mean      0.001716     0.156585     0.421278     0.396825     9.501073  \n",
       "std       0.041398     0.363487     0.493870     0.489344     5.395943  \n",
       "min       0.000000     0.000000     0.000000     0.000000     0.000000  \n",
       "25%       0.000000     0.000000     0.000000     0.000000     5.000000  \n",
       "50%       0.000000     0.000000     0.000000     0.000000     9.000000  \n",
       "75%       0.000000     0.000000     1.000000     1.000000    14.000000  \n",
       "max       1.000000     1.000000     1.000000     1.000000    19.000000  "
      ]
     },
     "execution_count": 34,
     "metadata": {},
     "output_type": "execute_result"
    }
   ],
   "source": [
    "movie_df.describe()"
   ]
  },
  {
   "cell_type": "code",
   "execution_count": 35,
   "metadata": {},
   "outputs": [],
   "source": [
    "movie_df.dropna(subset=['duration'],inplace=True)"
   ]
  },
  {
   "cell_type": "code",
   "execution_count": 36,
   "metadata": {},
   "outputs": [],
   "source": [
    "features=['budget', 'duration','actor_1_facebook_likes','cast_total_facebook_likes','G', 'PG', 'PG-13', 'R',\n",
    "       'yr_old']"
   ]
  },
  {
   "cell_type": "code",
   "execution_count": 37,
   "metadata": {},
   "outputs": [],
   "source": [
    "df_features = movie_df[features]"
   ]
  },
  {
   "cell_type": "code",
   "execution_count": 38,
   "metadata": {},
   "outputs": [],
   "source": [
    "target = movie_df['gross']"
   ]
  },
  {
   "cell_type": "code",
   "execution_count": 39,
   "metadata": {},
   "outputs": [
    {
     "data": {
      "text/html": [
       "<div>\n",
       "<style scoped>\n",
       "    .dataframe tbody tr th:only-of-type {\n",
       "        vertical-align: middle;\n",
       "    }\n",
       "\n",
       "    .dataframe tbody tr th {\n",
       "        vertical-align: top;\n",
       "    }\n",
       "\n",
       "    .dataframe thead th {\n",
       "        text-align: right;\n",
       "    }\n",
       "</style>\n",
       "<table border=\"1\" class=\"dataframe\">\n",
       "  <thead>\n",
       "    <tr style=\"text-align: right;\">\n",
       "      <th></th>\n",
       "      <th>budget</th>\n",
       "      <th>duration</th>\n",
       "      <th>actor_1_facebook_likes</th>\n",
       "      <th>cast_total_facebook_likes</th>\n",
       "      <th>G</th>\n",
       "      <th>PG</th>\n",
       "      <th>PG-13</th>\n",
       "      <th>R</th>\n",
       "      <th>yr_old</th>\n",
       "    </tr>\n",
       "  </thead>\n",
       "  <tbody>\n",
       "    <tr>\n",
       "      <th>count</th>\n",
       "      <td>2.330000e+03</td>\n",
       "      <td>2330.000000</td>\n",
       "      <td>2330.000000</td>\n",
       "      <td>2330.000000</td>\n",
       "      <td>2330.000000</td>\n",
       "      <td>2330.000000</td>\n",
       "      <td>2330.000000</td>\n",
       "      <td>2330.000000</td>\n",
       "      <td>2330.000000</td>\n",
       "    </tr>\n",
       "    <tr>\n",
       "      <th>mean</th>\n",
       "      <td>4.777943e+07</td>\n",
       "      <td>108.774678</td>\n",
       "      <td>8609.761373</td>\n",
       "      <td>13087.624893</td>\n",
       "      <td>0.023605</td>\n",
       "      <td>0.156652</td>\n",
       "      <td>0.421459</td>\n",
       "      <td>0.396567</td>\n",
       "      <td>9.502575</td>\n",
       "    </tr>\n",
       "    <tr>\n",
       "      <th>std</th>\n",
       "      <td>4.517481e+07</td>\n",
       "      <td>19.585778</td>\n",
       "      <td>11842.495278</td>\n",
       "      <td>16973.497340</td>\n",
       "      <td>0.151848</td>\n",
       "      <td>0.363551</td>\n",
       "      <td>0.493899</td>\n",
       "      <td>0.489290</td>\n",
       "      <td>5.396613</td>\n",
       "    </tr>\n",
       "    <tr>\n",
       "      <th>min</th>\n",
       "      <td>1.500000e+04</td>\n",
       "      <td>46.000000</td>\n",
       "      <td>0.000000</td>\n",
       "      <td>0.000000</td>\n",
       "      <td>0.000000</td>\n",
       "      <td>0.000000</td>\n",
       "      <td>0.000000</td>\n",
       "      <td>0.000000</td>\n",
       "      <td>0.000000</td>\n",
       "    </tr>\n",
       "    <tr>\n",
       "      <th>25%</th>\n",
       "      <td>1.600000e+07</td>\n",
       "      <td>95.000000</td>\n",
       "      <td>876.000000</td>\n",
       "      <td>2538.500000</td>\n",
       "      <td>0.000000</td>\n",
       "      <td>0.000000</td>\n",
       "      <td>0.000000</td>\n",
       "      <td>0.000000</td>\n",
       "      <td>5.000000</td>\n",
       "    </tr>\n",
       "    <tr>\n",
       "      <th>50%</th>\n",
       "      <td>3.500000e+07</td>\n",
       "      <td>105.500000</td>\n",
       "      <td>2000.000000</td>\n",
       "      <td>5360.000000</td>\n",
       "      <td>0.000000</td>\n",
       "      <td>0.000000</td>\n",
       "      <td>0.000000</td>\n",
       "      <td>0.000000</td>\n",
       "      <td>9.000000</td>\n",
       "    </tr>\n",
       "    <tr>\n",
       "      <th>75%</th>\n",
       "      <td>6.000000e+07</td>\n",
       "      <td>119.000000</td>\n",
       "      <td>14000.000000</td>\n",
       "      <td>18432.250000</td>\n",
       "      <td>0.000000</td>\n",
       "      <td>0.000000</td>\n",
       "      <td>1.000000</td>\n",
       "      <td>1.000000</td>\n",
       "      <td>14.000000</td>\n",
       "    </tr>\n",
       "    <tr>\n",
       "      <th>max</th>\n",
       "      <td>2.637000e+08</td>\n",
       "      <td>280.000000</td>\n",
       "      <td>164000.000000</td>\n",
       "      <td>303717.000000</td>\n",
       "      <td>1.000000</td>\n",
       "      <td>1.000000</td>\n",
       "      <td>1.000000</td>\n",
       "      <td>1.000000</td>\n",
       "      <td>19.000000</td>\n",
       "    </tr>\n",
       "  </tbody>\n",
       "</table>\n",
       "</div>"
      ],
      "text/plain": [
       "             budget     duration  actor_1_facebook_likes  \\\n",
       "count  2.330000e+03  2330.000000             2330.000000   \n",
       "mean   4.777943e+07   108.774678             8609.761373   \n",
       "std    4.517481e+07    19.585778            11842.495278   \n",
       "min    1.500000e+04    46.000000                0.000000   \n",
       "25%    1.600000e+07    95.000000              876.000000   \n",
       "50%    3.500000e+07   105.500000             2000.000000   \n",
       "75%    6.000000e+07   119.000000            14000.000000   \n",
       "max    2.637000e+08   280.000000           164000.000000   \n",
       "\n",
       "       cast_total_facebook_likes            G           PG        PG-13  \\\n",
       "count                2330.000000  2330.000000  2330.000000  2330.000000   \n",
       "mean                13087.624893     0.023605     0.156652     0.421459   \n",
       "std                 16973.497340     0.151848     0.363551     0.493899   \n",
       "min                     0.000000     0.000000     0.000000     0.000000   \n",
       "25%                  2538.500000     0.000000     0.000000     0.000000   \n",
       "50%                  5360.000000     0.000000     0.000000     0.000000   \n",
       "75%                 18432.250000     0.000000     0.000000     1.000000   \n",
       "max                303717.000000     1.000000     1.000000     1.000000   \n",
       "\n",
       "                 R       yr_old  \n",
       "count  2330.000000  2330.000000  \n",
       "mean      0.396567     9.502575  \n",
       "std       0.489290     5.396613  \n",
       "min       0.000000     0.000000  \n",
       "25%       0.000000     5.000000  \n",
       "50%       0.000000     9.000000  \n",
       "75%       1.000000    14.000000  \n",
       "max       1.000000    19.000000  "
      ]
     },
     "execution_count": 39,
     "metadata": {},
     "output_type": "execute_result"
    }
   ],
   "source": [
    "df_features.describe()"
   ]
  },
  {
   "cell_type": "code",
   "execution_count": 40,
   "metadata": {},
   "outputs": [
    {
     "name": "stdout",
     "output_type": "stream",
     "text": [
      "-26742159.32592859\n",
      "[ 8.77367486e-01  2.55314894e+05 -1.65290566e+03  1.52164889e+03\n",
      "  4.34129572e+07  2.05987793e+07  1.41685398e+07  7.84961390e+06\n",
      " -9.64251308e+04]\n",
      "R^2:  0.47681414404831324\n"
     ]
    }
   ],
   "source": [
    "from sklearn.linear_model import LinearRegression\n",
    "\n",
    "#instantiate a linear regression object\n",
    "lm = LinearRegression()\n",
    "\n",
    "#fit the linear regression to the data\n",
    "lm = lm.fit(df_features, target)\n",
    "\n",
    "#access output\n",
    "print(lm.intercept_)\n",
    "print(lm.coef_)\n",
    "print(\"R^2: \", lm.score(df_features, target))"
   ]
  },
  {
   "cell_type": "code",
   "execution_count": 41,
   "metadata": {},
   "outputs": [
    {
     "data": {
      "text/html": [
       "<div>\n",
       "<style scoped>\n",
       "    .dataframe tbody tr th:only-of-type {\n",
       "        vertical-align: middle;\n",
       "    }\n",
       "\n",
       "    .dataframe tbody tr th {\n",
       "        vertical-align: top;\n",
       "    }\n",
       "\n",
       "    .dataframe thead th {\n",
       "        text-align: right;\n",
       "    }\n",
       "</style>\n",
       "<table border=\"1\" class=\"dataframe\">\n",
       "  <thead>\n",
       "    <tr style=\"text-align: right;\">\n",
       "      <th></th>\n",
       "      <th>budget</th>\n",
       "      <th>duration</th>\n",
       "      <th>actor_1_facebook_likes</th>\n",
       "      <th>cast_total_facebook_likes</th>\n",
       "      <th>G</th>\n",
       "      <th>PG</th>\n",
       "      <th>PG-13</th>\n",
       "      <th>R</th>\n",
       "      <th>yr_old</th>\n",
       "    </tr>\n",
       "  </thead>\n",
       "  <tbody>\n",
       "    <tr>\n",
       "      <th>3</th>\n",
       "      <td>250000000.0</td>\n",
       "      <td>164.0</td>\n",
       "      <td>27000.0</td>\n",
       "      <td>106759</td>\n",
       "      <td>0</td>\n",
       "      <td>0</td>\n",
       "      <td>1</td>\n",
       "      <td>0</td>\n",
       "      <td>4.0</td>\n",
       "    </tr>\n",
       "    <tr>\n",
       "      <th>5</th>\n",
       "      <td>263700000.0</td>\n",
       "      <td>132.0</td>\n",
       "      <td>640.0</td>\n",
       "      <td>1873</td>\n",
       "      <td>0</td>\n",
       "      <td>0</td>\n",
       "      <td>1</td>\n",
       "      <td>0</td>\n",
       "      <td>4.0</td>\n",
       "    </tr>\n",
       "    <tr>\n",
       "      <th>6</th>\n",
       "      <td>258000000.0</td>\n",
       "      <td>156.0</td>\n",
       "      <td>24000.0</td>\n",
       "      <td>46055</td>\n",
       "      <td>0</td>\n",
       "      <td>0</td>\n",
       "      <td>1</td>\n",
       "      <td>0</td>\n",
       "      <td>9.0</td>\n",
       "    </tr>\n",
       "    <tr>\n",
       "      <th>7</th>\n",
       "      <td>260000000.0</td>\n",
       "      <td>100.0</td>\n",
       "      <td>799.0</td>\n",
       "      <td>2036</td>\n",
       "      <td>0</td>\n",
       "      <td>1</td>\n",
       "      <td>0</td>\n",
       "      <td>0</td>\n",
       "      <td>6.0</td>\n",
       "    </tr>\n",
       "    <tr>\n",
       "      <th>8</th>\n",
       "      <td>250000000.0</td>\n",
       "      <td>141.0</td>\n",
       "      <td>26000.0</td>\n",
       "      <td>92000</td>\n",
       "      <td>0</td>\n",
       "      <td>0</td>\n",
       "      <td>1</td>\n",
       "      <td>0</td>\n",
       "      <td>1.0</td>\n",
       "    </tr>\n",
       "    <tr>\n",
       "      <th>...</th>\n",
       "      <td>...</td>\n",
       "      <td>...</td>\n",
       "      <td>...</td>\n",
       "      <td>...</td>\n",
       "      <td>...</td>\n",
       "      <td>...</td>\n",
       "      <td>...</td>\n",
       "      <td>...</td>\n",
       "      <td>...</td>\n",
       "    </tr>\n",
       "    <tr>\n",
       "      <th>4960</th>\n",
       "      <td>55784951.6</td>\n",
       "      <td>100.0</td>\n",
       "      <td>1000.0</td>\n",
       "      <td>2283</td>\n",
       "      <td>0</td>\n",
       "      <td>0</td>\n",
       "      <td>1</td>\n",
       "      <td>0</td>\n",
       "      <td>18.0</td>\n",
       "    </tr>\n",
       "    <tr>\n",
       "      <th>4971</th>\n",
       "      <td>15000000.0</td>\n",
       "      <td>114.0</td>\n",
       "      <td>956.0</td>\n",
       "      <td>3861</td>\n",
       "      <td>0</td>\n",
       "      <td>0</td>\n",
       "      <td>0</td>\n",
       "      <td>1</td>\n",
       "      <td>7.0</td>\n",
       "    </tr>\n",
       "    <tr>\n",
       "      <th>4973</th>\n",
       "      <td>60000.0</td>\n",
       "      <td>84.0</td>\n",
       "      <td>1000.0</td>\n",
       "      <td>2065</td>\n",
       "      <td>0</td>\n",
       "      <td>0</td>\n",
       "      <td>0</td>\n",
       "      <td>1</td>\n",
       "      <td>18.0</td>\n",
       "    </tr>\n",
       "    <tr>\n",
       "      <th>4977</th>\n",
       "      <td>65000.0</td>\n",
       "      <td>100.0</td>\n",
       "      <td>0.0</td>\n",
       "      <td>0</td>\n",
       "      <td>0</td>\n",
       "      <td>1</td>\n",
       "      <td>0</td>\n",
       "      <td>0</td>\n",
       "      <td>12.0</td>\n",
       "    </tr>\n",
       "    <tr>\n",
       "      <th>5012</th>\n",
       "      <td>35000000.0</td>\n",
       "      <td>109.0</td>\n",
       "      <td>1000.0</td>\n",
       "      <td>1458</td>\n",
       "      <td>0</td>\n",
       "      <td>0</td>\n",
       "      <td>0</td>\n",
       "      <td>1</td>\n",
       "      <td>2.0</td>\n",
       "    </tr>\n",
       "  </tbody>\n",
       "</table>\n",
       "<p>2330 rows × 9 columns</p>\n",
       "</div>"
      ],
      "text/plain": [
       "           budget  duration  actor_1_facebook_likes  \\\n",
       "3     250000000.0     164.0                 27000.0   \n",
       "5     263700000.0     132.0                   640.0   \n",
       "6     258000000.0     156.0                 24000.0   \n",
       "7     260000000.0     100.0                   799.0   \n",
       "8     250000000.0     141.0                 26000.0   \n",
       "...           ...       ...                     ...   \n",
       "4960   55784951.6     100.0                  1000.0   \n",
       "4971   15000000.0     114.0                   956.0   \n",
       "4973      60000.0      84.0                  1000.0   \n",
       "4977      65000.0     100.0                     0.0   \n",
       "5012   35000000.0     109.0                  1000.0   \n",
       "\n",
       "      cast_total_facebook_likes  G  PG  PG-13  R  yr_old  \n",
       "3                        106759  0   0      1  0     4.0  \n",
       "5                          1873  0   0      1  0     4.0  \n",
       "6                         46055  0   0      1  0     9.0  \n",
       "7                          2036  0   1      0  0     6.0  \n",
       "8                         92000  0   0      1  0     1.0  \n",
       "...                         ... ..  ..    ... ..     ...  \n",
       "4960                       2283  0   0      1  0    18.0  \n",
       "4971                       3861  0   0      0  1     7.0  \n",
       "4973                       2065  0   0      0  1    18.0  \n",
       "4977                          0  0   1      0  0    12.0  \n",
       "5012                       1458  0   0      0  1     2.0  \n",
       "\n",
       "[2330 rows x 9 columns]"
      ]
     },
     "execution_count": 41,
     "metadata": {},
     "output_type": "execute_result"
    }
   ],
   "source": [
    "df_features"
   ]
  },
  {
   "cell_type": "markdown",
   "metadata": {},
   "source": [
    "### Create a polynomial feature "
   ]
  },
  {
   "cell_type": "code",
   "execution_count": 42,
   "metadata": {},
   "outputs": [],
   "source": [
    "#df['budget^2'] = df['budget']**2"
   ]
  },
  {
   "cell_type": "markdown",
   "metadata": {},
   "source": [
    "### Create a interaction feature"
   ]
  },
  {
   "cell_type": "code",
   "execution_count": 43,
   "metadata": {},
   "outputs": [],
   "source": [
    "#df['budget_R'] = df['budget']*df['R']"
   ]
  },
  {
   "cell_type": "markdown",
   "metadata": {},
   "source": [
    "### Use SKlearn to create features"
   ]
  },
  {
   "cell_type": "code",
   "execution_count": 44,
   "metadata": {},
   "outputs": [],
   "source": [
    "from sklearn.preprocessing import PolynomialFeatures\n",
    "\n",
    "poly = PolynomialFeatures(degree=2, include_bias=False)\n"
   ]
  },
  {
   "cell_type": "code",
   "execution_count": 16,
   "metadata": {},
   "outputs": [],
   "source": [
    "poly_data = poly.fit_transform(df_features)"
   ]
  },
  {
   "cell_type": "code",
   "execution_count": 45,
   "metadata": {},
   "outputs": [
    {
     "data": {
      "text/plain": [
       "array([[2.500e+08, 1.640e+02, 2.700e+04, ..., 0.000e+00, 0.000e+00,\n",
       "        1.600e+01],\n",
       "       [2.637e+08, 1.320e+02, 6.400e+02, ..., 0.000e+00, 0.000e+00,\n",
       "        1.600e+01],\n",
       "       [2.580e+08, 1.560e+02, 2.400e+04, ..., 0.000e+00, 0.000e+00,\n",
       "        8.100e+01],\n",
       "       ...,\n",
       "       [6.000e+04, 8.400e+01, 1.000e+03, ..., 1.000e+00, 1.800e+01,\n",
       "        3.240e+02],\n",
       "       [6.500e+04, 1.000e+02, 0.000e+00, ..., 0.000e+00, 0.000e+00,\n",
       "        1.440e+02],\n",
       "       [3.500e+07, 1.090e+02, 1.000e+03, ..., 1.000e+00, 2.000e+00,\n",
       "        4.000e+00]])"
      ]
     },
     "execution_count": 45,
     "metadata": {},
     "output_type": "execute_result"
    }
   ],
   "source": [
    "poly_data"
   ]
  },
  {
   "cell_type": "code",
   "execution_count": 52,
   "metadata": {},
   "outputs": [
    {
     "ename": "NotFittedError",
     "evalue": "This PolynomialFeatures instance is not fitted yet. Call 'fit' with appropriate arguments before using this estimator.",
     "output_type": "error",
     "traceback": [
      "\u001b[1;31m---------------------------------------------------------------------------\u001b[0m",
      "\u001b[1;31mNotFittedError\u001b[0m                            Traceback (most recent call last)",
      "\u001b[1;32m<ipython-input-52-db3c49991e81>\u001b[0m in \u001b[0;36m<module>\u001b[1;34m\u001b[0m\n\u001b[1;32m----> 1\u001b[1;33m \u001b[0mpoly_columns\u001b[0m \u001b[1;33m=\u001b[0m \u001b[0mpoly\u001b[0m\u001b[1;33m.\u001b[0m\u001b[0mget_feature_names\u001b[0m\u001b[1;33m(\u001b[0m\u001b[0mdf_features\u001b[0m\u001b[1;33m.\u001b[0m\u001b[0mcolumns\u001b[0m\u001b[1;33m)\u001b[0m\u001b[1;33m\u001b[0m\u001b[1;33m\u001b[0m\u001b[0m\n\u001b[0m",
      "\u001b[1;32m~\\anaconda3\\lib\\site-packages\\sklearn\\preprocessing\\_data.py\u001b[0m in \u001b[0;36mget_feature_names\u001b[1;34m(self, input_features)\u001b[0m\n\u001b[0;32m   1481\u001b[0m \u001b[1;33m\u001b[0m\u001b[0m\n\u001b[0;32m   1482\u001b[0m         \"\"\"\n\u001b[1;32m-> 1483\u001b[1;33m         \u001b[0mpowers\u001b[0m \u001b[1;33m=\u001b[0m \u001b[0mself\u001b[0m\u001b[1;33m.\u001b[0m\u001b[0mpowers_\u001b[0m\u001b[1;33m\u001b[0m\u001b[1;33m\u001b[0m\u001b[0m\n\u001b[0m\u001b[0;32m   1484\u001b[0m         \u001b[1;32mif\u001b[0m \u001b[0minput_features\u001b[0m \u001b[1;32mis\u001b[0m \u001b[1;32mNone\u001b[0m\u001b[1;33m:\u001b[0m\u001b[1;33m\u001b[0m\u001b[1;33m\u001b[0m\u001b[0m\n\u001b[0;32m   1485\u001b[0m             \u001b[0minput_features\u001b[0m \u001b[1;33m=\u001b[0m \u001b[1;33m[\u001b[0m\u001b[1;34m'x%d'\u001b[0m \u001b[1;33m%\u001b[0m \u001b[0mi\u001b[0m \u001b[1;32mfor\u001b[0m \u001b[0mi\u001b[0m \u001b[1;32min\u001b[0m \u001b[0mrange\u001b[0m\u001b[1;33m(\u001b[0m\u001b[0mpowers\u001b[0m\u001b[1;33m.\u001b[0m\u001b[0mshape\u001b[0m\u001b[1;33m[\u001b[0m\u001b[1;36m1\u001b[0m\u001b[1;33m]\u001b[0m\u001b[1;33m)\u001b[0m\u001b[1;33m]\u001b[0m\u001b[1;33m\u001b[0m\u001b[1;33m\u001b[0m\u001b[0m\n",
      "\u001b[1;32m~\\anaconda3\\lib\\site-packages\\sklearn\\preprocessing\\_data.py\u001b[0m in \u001b[0;36mpowers_\u001b[1;34m(self)\u001b[0m\n\u001b[0;32m   1458\u001b[0m     \u001b[1;33m@\u001b[0m\u001b[0mproperty\u001b[0m\u001b[1;33m\u001b[0m\u001b[1;33m\u001b[0m\u001b[0m\n\u001b[0;32m   1459\u001b[0m     \u001b[1;32mdef\u001b[0m \u001b[0mpowers_\u001b[0m\u001b[1;33m(\u001b[0m\u001b[0mself\u001b[0m\u001b[1;33m)\u001b[0m\u001b[1;33m:\u001b[0m\u001b[1;33m\u001b[0m\u001b[1;33m\u001b[0m\u001b[0m\n\u001b[1;32m-> 1460\u001b[1;33m         \u001b[0mcheck_is_fitted\u001b[0m\u001b[1;33m(\u001b[0m\u001b[0mself\u001b[0m\u001b[1;33m)\u001b[0m\u001b[1;33m\u001b[0m\u001b[1;33m\u001b[0m\u001b[0m\n\u001b[0m\u001b[0;32m   1461\u001b[0m \u001b[1;33m\u001b[0m\u001b[0m\n\u001b[0;32m   1462\u001b[0m         combinations = self._combinations(self.n_input_features_, self.degree,\n",
      "\u001b[1;32m~\\anaconda3\\lib\\site-packages\\sklearn\\utils\\validation.py\u001b[0m in \u001b[0;36minner_f\u001b[1;34m(*args, **kwargs)\u001b[0m\n\u001b[0;32m     70\u001b[0m                           FutureWarning)\n\u001b[0;32m     71\u001b[0m         \u001b[0mkwargs\u001b[0m\u001b[1;33m.\u001b[0m\u001b[0mupdate\u001b[0m\u001b[1;33m(\u001b[0m\u001b[1;33m{\u001b[0m\u001b[0mk\u001b[0m\u001b[1;33m:\u001b[0m \u001b[0marg\u001b[0m \u001b[1;32mfor\u001b[0m \u001b[0mk\u001b[0m\u001b[1;33m,\u001b[0m \u001b[0marg\u001b[0m \u001b[1;32min\u001b[0m \u001b[0mzip\u001b[0m\u001b[1;33m(\u001b[0m\u001b[0msig\u001b[0m\u001b[1;33m.\u001b[0m\u001b[0mparameters\u001b[0m\u001b[1;33m,\u001b[0m \u001b[0margs\u001b[0m\u001b[1;33m)\u001b[0m\u001b[1;33m}\u001b[0m\u001b[1;33m)\u001b[0m\u001b[1;33m\u001b[0m\u001b[1;33m\u001b[0m\u001b[0m\n\u001b[1;32m---> 72\u001b[1;33m         \u001b[1;32mreturn\u001b[0m \u001b[0mf\u001b[0m\u001b[1;33m(\u001b[0m\u001b[1;33m**\u001b[0m\u001b[0mkwargs\u001b[0m\u001b[1;33m)\u001b[0m\u001b[1;33m\u001b[0m\u001b[1;33m\u001b[0m\u001b[0m\n\u001b[0m\u001b[0;32m     73\u001b[0m     \u001b[1;32mreturn\u001b[0m \u001b[0minner_f\u001b[0m\u001b[1;33m\u001b[0m\u001b[1;33m\u001b[0m\u001b[0m\n\u001b[0;32m     74\u001b[0m \u001b[1;33m\u001b[0m\u001b[0m\n",
      "\u001b[1;32m~\\anaconda3\\lib\\site-packages\\sklearn\\utils\\validation.py\u001b[0m in \u001b[0;36mcheck_is_fitted\u001b[1;34m(estimator, attributes, msg, all_or_any)\u001b[0m\n\u001b[0;32m   1017\u001b[0m \u001b[1;33m\u001b[0m\u001b[0m\n\u001b[0;32m   1018\u001b[0m     \u001b[1;32mif\u001b[0m \u001b[1;32mnot\u001b[0m \u001b[0mattrs\u001b[0m\u001b[1;33m:\u001b[0m\u001b[1;33m\u001b[0m\u001b[1;33m\u001b[0m\u001b[0m\n\u001b[1;32m-> 1019\u001b[1;33m         \u001b[1;32mraise\u001b[0m \u001b[0mNotFittedError\u001b[0m\u001b[1;33m(\u001b[0m\u001b[0mmsg\u001b[0m \u001b[1;33m%\u001b[0m \u001b[1;33m{\u001b[0m\u001b[1;34m'name'\u001b[0m\u001b[1;33m:\u001b[0m \u001b[0mtype\u001b[0m\u001b[1;33m(\u001b[0m\u001b[0mestimator\u001b[0m\u001b[1;33m)\u001b[0m\u001b[1;33m.\u001b[0m\u001b[0m__name__\u001b[0m\u001b[1;33m}\u001b[0m\u001b[1;33m)\u001b[0m\u001b[1;33m\u001b[0m\u001b[1;33m\u001b[0m\u001b[0m\n\u001b[0m\u001b[0;32m   1020\u001b[0m \u001b[1;33m\u001b[0m\u001b[0m\n\u001b[0;32m   1021\u001b[0m \u001b[1;33m\u001b[0m\u001b[0m\n",
      "\u001b[1;31mNotFittedError\u001b[0m: This PolynomialFeatures instance is not fitted yet. Call 'fit' with appropriate arguments before using this estimator."
     ]
    }
   ],
   "source": [
    "poly_columns = poly.get_feature_names(df_features.columns)"
   ]
  },
  {
   "cell_type": "code",
   "execution_count": null,
   "metadata": {},
   "outputs": [],
   "source": [
    "df_poly = pd.DataFrame(poly_data, columns=poly_columns)"
   ]
  },
  {
   "cell_type": "code",
   "execution_count": null,
   "metadata": {},
   "outputs": [],
   "source": [
    "df_poly.head()"
   ]
  },
  {
   "cell_type": "code",
   "execution_count": null,
   "metadata": {},
   "outputs": [],
   "source": [
    "df_features.shape"
   ]
  },
  {
   "cell_type": "code",
   "execution_count": null,
   "metadata": {},
   "outputs": [],
   "source": [
    "df_poly.shape"
   ]
  },
  {
   "cell_type": "markdown",
   "metadata": {},
   "source": [
    "### Fit and Assess new model"
   ]
  },
  {
   "cell_type": "code",
   "execution_count": 47,
   "metadata": {},
   "outputs": [
    {
     "name": "stdout",
     "output_type": "stream",
     "text": [
      "R^2:  0.46029054652402646\n"
     ]
    }
   ],
   "source": [
    "#instantiate a linear regression object\n",
    "lm_2 = LinearRegression()\n",
    "\n",
    "#fit the linear regression to the data\n",
    "lm_2 = lm_2.fit(df_poly, target)\n",
    "\n",
    "#access output\n",
    "# print(lm_2.intercept_)\n",
    "# print(lm_2.coef_)\n",
    "print(\"R^2: \", lm_2.score(df_poly, target))"
   ]
  },
  {
   "cell_type": "markdown",
   "metadata": {},
   "source": [
    "### Fit third degree polynomial"
   ]
  },
  {
   "cell_type": "code",
   "execution_count": 48,
   "metadata": {},
   "outputs": [],
   "source": [
    "poly_3 = PolynomialFeatures(degree=3, include_bias=False)\n",
    "poly3_data = poly_3.fit_transform(df_features)\n",
    "poly3_columns = poly_3.get_feature_names(df_features.columns)\n",
    "df_poly3 = pd.DataFrame(poly3_data, columns=poly3_columns)"
   ]
  },
  {
   "cell_type": "code",
   "execution_count": 49,
   "metadata": {},
   "outputs": [
    {
     "data": {
      "text/plain": [
       "(2330, 219)"
      ]
     },
     "execution_count": 49,
     "metadata": {},
     "output_type": "execute_result"
    }
   ],
   "source": [
    "df_poly3.shape"
   ]
  },
  {
   "cell_type": "code",
   "execution_count": 50,
   "metadata": {},
   "outputs": [
    {
     "data": {
      "text/html": [
       "<div>\n",
       "<style scoped>\n",
       "    .dataframe tbody tr th:only-of-type {\n",
       "        vertical-align: middle;\n",
       "    }\n",
       "\n",
       "    .dataframe tbody tr th {\n",
       "        vertical-align: top;\n",
       "    }\n",
       "\n",
       "    .dataframe thead th {\n",
       "        text-align: right;\n",
       "    }\n",
       "</style>\n",
       "<table border=\"1\" class=\"dataframe\">\n",
       "  <thead>\n",
       "    <tr style=\"text-align: right;\">\n",
       "      <th></th>\n",
       "      <th>budget</th>\n",
       "      <th>duration</th>\n",
       "      <th>actor_1_facebook_likes</th>\n",
       "      <th>cast_total_facebook_likes</th>\n",
       "      <th>G</th>\n",
       "      <th>PG</th>\n",
       "      <th>PG-13</th>\n",
       "      <th>R</th>\n",
       "      <th>yr_old</th>\n",
       "      <th>budget^2</th>\n",
       "      <th>budget duration</th>\n",
       "      <th>budget actor_1_facebook_likes</th>\n",
       "      <th>budget cast_total_facebook_likes</th>\n",
       "      <th>budget G</th>\n",
       "      <th>budget PG</th>\n",
       "      <th>budget PG-13</th>\n",
       "      <th>budget R</th>\n",
       "      <th>budget yr_old</th>\n",
       "      <th>duration^2</th>\n",
       "      <th>duration actor_1_facebook_likes</th>\n",
       "      <th>duration cast_total_facebook_likes</th>\n",
       "      <th>duration G</th>\n",
       "      <th>duration PG</th>\n",
       "      <th>duration PG-13</th>\n",
       "      <th>duration R</th>\n",
       "      <th>duration yr_old</th>\n",
       "      <th>actor_1_facebook_likes^2</th>\n",
       "      <th>actor_1_facebook_likes cast_total_facebook_likes</th>\n",
       "      <th>actor_1_facebook_likes G</th>\n",
       "      <th>actor_1_facebook_likes PG</th>\n",
       "      <th>actor_1_facebook_likes PG-13</th>\n",
       "      <th>actor_1_facebook_likes R</th>\n",
       "      <th>actor_1_facebook_likes yr_old</th>\n",
       "      <th>cast_total_facebook_likes^2</th>\n",
       "      <th>cast_total_facebook_likes G</th>\n",
       "      <th>cast_total_facebook_likes PG</th>\n",
       "      <th>cast_total_facebook_likes PG-13</th>\n",
       "      <th>cast_total_facebook_likes R</th>\n",
       "      <th>cast_total_facebook_likes yr_old</th>\n",
       "      <th>G^2</th>\n",
       "      <th>G PG</th>\n",
       "      <th>G PG-13</th>\n",
       "      <th>G R</th>\n",
       "      <th>G yr_old</th>\n",
       "      <th>PG^2</th>\n",
       "      <th>PG PG-13</th>\n",
       "      <th>PG R</th>\n",
       "      <th>PG yr_old</th>\n",
       "      <th>PG-13^2</th>\n",
       "      <th>PG-13 R</th>\n",
       "      <th>PG-13 yr_old</th>\n",
       "      <th>R^2</th>\n",
       "      <th>R yr_old</th>\n",
       "      <th>yr_old^2</th>\n",
       "      <th>budget^3</th>\n",
       "      <th>budget^2 duration</th>\n",
       "      <th>budget^2 actor_1_facebook_likes</th>\n",
       "      <th>budget^2 cast_total_facebook_likes</th>\n",
       "      <th>budget^2 G</th>\n",
       "      <th>budget^2 PG</th>\n",
       "      <th>budget^2 PG-13</th>\n",
       "      <th>budget^2 R</th>\n",
       "      <th>budget^2 yr_old</th>\n",
       "      <th>budget duration^2</th>\n",
       "      <th>budget duration actor_1_facebook_likes</th>\n",
       "      <th>budget duration cast_total_facebook_likes</th>\n",
       "      <th>budget duration G</th>\n",
       "      <th>budget duration PG</th>\n",
       "      <th>budget duration PG-13</th>\n",
       "      <th>budget duration R</th>\n",
       "      <th>budget duration yr_old</th>\n",
       "      <th>budget actor_1_facebook_likes^2</th>\n",
       "      <th>budget actor_1_facebook_likes cast_total_facebook_likes</th>\n",
       "      <th>budget actor_1_facebook_likes G</th>\n",
       "      <th>budget actor_1_facebook_likes PG</th>\n",
       "      <th>budget actor_1_facebook_likes PG-13</th>\n",
       "      <th>budget actor_1_facebook_likes R</th>\n",
       "      <th>budget actor_1_facebook_likes yr_old</th>\n",
       "      <th>budget cast_total_facebook_likes^2</th>\n",
       "      <th>budget cast_total_facebook_likes G</th>\n",
       "      <th>budget cast_total_facebook_likes PG</th>\n",
       "      <th>budget cast_total_facebook_likes PG-13</th>\n",
       "      <th>budget cast_total_facebook_likes R</th>\n",
       "      <th>budget cast_total_facebook_likes yr_old</th>\n",
       "      <th>budget G^2</th>\n",
       "      <th>budget G PG</th>\n",
       "      <th>budget G PG-13</th>\n",
       "      <th>budget G R</th>\n",
       "      <th>budget G yr_old</th>\n",
       "      <th>budget PG^2</th>\n",
       "      <th>budget PG PG-13</th>\n",
       "      <th>budget PG R</th>\n",
       "      <th>budget PG yr_old</th>\n",
       "      <th>budget PG-13^2</th>\n",
       "      <th>budget PG-13 R</th>\n",
       "      <th>budget PG-13 yr_old</th>\n",
       "      <th>budget R^2</th>\n",
       "      <th>budget R yr_old</th>\n",
       "      <th>budget yr_old^2</th>\n",
       "      <th>duration^3</th>\n",
       "      <th>duration^2 actor_1_facebook_likes</th>\n",
       "      <th>duration^2 cast_total_facebook_likes</th>\n",
       "      <th>duration^2 G</th>\n",
       "      <th>duration^2 PG</th>\n",
       "      <th>duration^2 PG-13</th>\n",
       "      <th>duration^2 R</th>\n",
       "      <th>duration^2 yr_old</th>\n",
       "      <th>duration actor_1_facebook_likes^2</th>\n",
       "      <th>duration actor_1_facebook_likes cast_total_facebook_likes</th>\n",
       "      <th>duration actor_1_facebook_likes G</th>\n",
       "      <th>duration actor_1_facebook_likes PG</th>\n",
       "      <th>duration actor_1_facebook_likes PG-13</th>\n",
       "      <th>duration actor_1_facebook_likes R</th>\n",
       "      <th>duration actor_1_facebook_likes yr_old</th>\n",
       "      <th>duration cast_total_facebook_likes^2</th>\n",
       "      <th>duration cast_total_facebook_likes G</th>\n",
       "      <th>duration cast_total_facebook_likes PG</th>\n",
       "      <th>duration cast_total_facebook_likes PG-13</th>\n",
       "      <th>duration cast_total_facebook_likes R</th>\n",
       "      <th>duration cast_total_facebook_likes yr_old</th>\n",
       "      <th>duration G^2</th>\n",
       "      <th>duration G PG</th>\n",
       "      <th>duration G PG-13</th>\n",
       "      <th>duration G R</th>\n",
       "      <th>duration G yr_old</th>\n",
       "      <th>duration PG^2</th>\n",
       "      <th>duration PG PG-13</th>\n",
       "      <th>duration PG R</th>\n",
       "      <th>duration PG yr_old</th>\n",
       "      <th>duration PG-13^2</th>\n",
       "      <th>duration PG-13 R</th>\n",
       "      <th>duration PG-13 yr_old</th>\n",
       "      <th>duration R^2</th>\n",
       "      <th>duration R yr_old</th>\n",
       "      <th>duration yr_old^2</th>\n",
       "      <th>actor_1_facebook_likes^3</th>\n",
       "      <th>actor_1_facebook_likes^2 cast_total_facebook_likes</th>\n",
       "      <th>actor_1_facebook_likes^2 G</th>\n",
       "      <th>actor_1_facebook_likes^2 PG</th>\n",
       "      <th>actor_1_facebook_likes^2 PG-13</th>\n",
       "      <th>actor_1_facebook_likes^2 R</th>\n",
       "      <th>actor_1_facebook_likes^2 yr_old</th>\n",
       "      <th>actor_1_facebook_likes cast_total_facebook_likes^2</th>\n",
       "      <th>actor_1_facebook_likes cast_total_facebook_likes G</th>\n",
       "      <th>actor_1_facebook_likes cast_total_facebook_likes PG</th>\n",
       "      <th>actor_1_facebook_likes cast_total_facebook_likes PG-13</th>\n",
       "      <th>actor_1_facebook_likes cast_total_facebook_likes R</th>\n",
       "      <th>actor_1_facebook_likes cast_total_facebook_likes yr_old</th>\n",
       "      <th>actor_1_facebook_likes G^2</th>\n",
       "      <th>actor_1_facebook_likes G PG</th>\n",
       "      <th>actor_1_facebook_likes G PG-13</th>\n",
       "      <th>actor_1_facebook_likes G R</th>\n",
       "      <th>actor_1_facebook_likes G yr_old</th>\n",
       "      <th>actor_1_facebook_likes PG^2</th>\n",
       "      <th>actor_1_facebook_likes PG PG-13</th>\n",
       "      <th>actor_1_facebook_likes PG R</th>\n",
       "      <th>actor_1_facebook_likes PG yr_old</th>\n",
       "      <th>actor_1_facebook_likes PG-13^2</th>\n",
       "      <th>actor_1_facebook_likes PG-13 R</th>\n",
       "      <th>actor_1_facebook_likes PG-13 yr_old</th>\n",
       "      <th>actor_1_facebook_likes R^2</th>\n",
       "      <th>actor_1_facebook_likes R yr_old</th>\n",
       "      <th>actor_1_facebook_likes yr_old^2</th>\n",
       "      <th>cast_total_facebook_likes^3</th>\n",
       "      <th>cast_total_facebook_likes^2 G</th>\n",
       "      <th>cast_total_facebook_likes^2 PG</th>\n",
       "      <th>cast_total_facebook_likes^2 PG-13</th>\n",
       "      <th>cast_total_facebook_likes^2 R</th>\n",
       "      <th>cast_total_facebook_likes^2 yr_old</th>\n",
       "      <th>cast_total_facebook_likes G^2</th>\n",
       "      <th>cast_total_facebook_likes G PG</th>\n",
       "      <th>cast_total_facebook_likes G PG-13</th>\n",
       "      <th>cast_total_facebook_likes G R</th>\n",
       "      <th>cast_total_facebook_likes G yr_old</th>\n",
       "      <th>cast_total_facebook_likes PG^2</th>\n",
       "      <th>cast_total_facebook_likes PG PG-13</th>\n",
       "      <th>cast_total_facebook_likes PG R</th>\n",
       "      <th>cast_total_facebook_likes PG yr_old</th>\n",
       "      <th>cast_total_facebook_likes PG-13^2</th>\n",
       "      <th>cast_total_facebook_likes PG-13 R</th>\n",
       "      <th>cast_total_facebook_likes PG-13 yr_old</th>\n",
       "      <th>cast_total_facebook_likes R^2</th>\n",
       "      <th>cast_total_facebook_likes R yr_old</th>\n",
       "      <th>cast_total_facebook_likes yr_old^2</th>\n",
       "      <th>G^3</th>\n",
       "      <th>G^2 PG</th>\n",
       "      <th>G^2 PG-13</th>\n",
       "      <th>G^2 R</th>\n",
       "      <th>G^2 yr_old</th>\n",
       "      <th>G PG^2</th>\n",
       "      <th>G PG PG-13</th>\n",
       "      <th>G PG R</th>\n",
       "      <th>G PG yr_old</th>\n",
       "      <th>G PG-13^2</th>\n",
       "      <th>G PG-13 R</th>\n",
       "      <th>G PG-13 yr_old</th>\n",
       "      <th>G R^2</th>\n",
       "      <th>G R yr_old</th>\n",
       "      <th>G yr_old^2</th>\n",
       "      <th>PG^3</th>\n",
       "      <th>PG^2 PG-13</th>\n",
       "      <th>PG^2 R</th>\n",
       "      <th>PG^2 yr_old</th>\n",
       "      <th>PG PG-13^2</th>\n",
       "      <th>PG PG-13 R</th>\n",
       "      <th>PG PG-13 yr_old</th>\n",
       "      <th>PG R^2</th>\n",
       "      <th>PG R yr_old</th>\n",
       "      <th>PG yr_old^2</th>\n",
       "      <th>PG-13^3</th>\n",
       "      <th>PG-13^2 R</th>\n",
       "      <th>PG-13^2 yr_old</th>\n",
       "      <th>PG-13 R^2</th>\n",
       "      <th>PG-13 R yr_old</th>\n",
       "      <th>PG-13 yr_old^2</th>\n",
       "      <th>R^3</th>\n",
       "      <th>R^2 yr_old</th>\n",
       "      <th>R yr_old^2</th>\n",
       "      <th>yr_old^3</th>\n",
       "    </tr>\n",
       "  </thead>\n",
       "  <tbody>\n",
       "    <tr>\n",
       "      <th>0</th>\n",
       "      <td>250000000.0</td>\n",
       "      <td>164.0</td>\n",
       "      <td>27000.0</td>\n",
       "      <td>106759.0</td>\n",
       "      <td>0.0</td>\n",
       "      <td>0.0</td>\n",
       "      <td>1.0</td>\n",
       "      <td>0.0</td>\n",
       "      <td>4.0</td>\n",
       "      <td>6.250000e+16</td>\n",
       "      <td>4.100000e+10</td>\n",
       "      <td>6.750000e+12</td>\n",
       "      <td>2.668975e+13</td>\n",
       "      <td>0.0</td>\n",
       "      <td>0.0</td>\n",
       "      <td>250000000.0</td>\n",
       "      <td>0.0</td>\n",
       "      <td>1.000000e+09</td>\n",
       "      <td>26896.0</td>\n",
       "      <td>4428000.0</td>\n",
       "      <td>17508476.0</td>\n",
       "      <td>0.0</td>\n",
       "      <td>0.0</td>\n",
       "      <td>164.0</td>\n",
       "      <td>0.0</td>\n",
       "      <td>656.0</td>\n",
       "      <td>729000000.0</td>\n",
       "      <td>2.882493e+09</td>\n",
       "      <td>0.0</td>\n",
       "      <td>0.0</td>\n",
       "      <td>27000.0</td>\n",
       "      <td>0.0</td>\n",
       "      <td>108000.0</td>\n",
       "      <td>1.139748e+10</td>\n",
       "      <td>0.0</td>\n",
       "      <td>0.0</td>\n",
       "      <td>106759.0</td>\n",
       "      <td>0.0</td>\n",
       "      <td>427036.0</td>\n",
       "      <td>0.0</td>\n",
       "      <td>0.0</td>\n",
       "      <td>0.0</td>\n",
       "      <td>0.0</td>\n",
       "      <td>0.0</td>\n",
       "      <td>0.0</td>\n",
       "      <td>0.0</td>\n",
       "      <td>0.0</td>\n",
       "      <td>0.0</td>\n",
       "      <td>1.0</td>\n",
       "      <td>0.0</td>\n",
       "      <td>4.0</td>\n",
       "      <td>0.0</td>\n",
       "      <td>0.0</td>\n",
       "      <td>16.0</td>\n",
       "      <td>1.562500e+25</td>\n",
       "      <td>1.025000e+19</td>\n",
       "      <td>1.687500e+21</td>\n",
       "      <td>6.672438e+21</td>\n",
       "      <td>0.0</td>\n",
       "      <td>0.000000e+00</td>\n",
       "      <td>6.250000e+16</td>\n",
       "      <td>0.0</td>\n",
       "      <td>2.500000e+17</td>\n",
       "      <td>6.724000e+12</td>\n",
       "      <td>1.107000e+15</td>\n",
       "      <td>4.377119e+15</td>\n",
       "      <td>0.0</td>\n",
       "      <td>0.000000e+00</td>\n",
       "      <td>4.100000e+10</td>\n",
       "      <td>0.0</td>\n",
       "      <td>1.640000e+11</td>\n",
       "      <td>1.822500e+17</td>\n",
       "      <td>7.206232e+17</td>\n",
       "      <td>0.0</td>\n",
       "      <td>0.000000e+00</td>\n",
       "      <td>6.750000e+12</td>\n",
       "      <td>0.0</td>\n",
       "      <td>2.700000e+13</td>\n",
       "      <td>2.849371e+18</td>\n",
       "      <td>0.0</td>\n",
       "      <td>0.000000e+00</td>\n",
       "      <td>2.668975e+13</td>\n",
       "      <td>0.0</td>\n",
       "      <td>1.067590e+14</td>\n",
       "      <td>0.0</td>\n",
       "      <td>0.0</td>\n",
       "      <td>0.0</td>\n",
       "      <td>0.0</td>\n",
       "      <td>0.0</td>\n",
       "      <td>0.0</td>\n",
       "      <td>0.0</td>\n",
       "      <td>0.0</td>\n",
       "      <td>0.000000e+00</td>\n",
       "      <td>250000000.0</td>\n",
       "      <td>0.0</td>\n",
       "      <td>1.000000e+09</td>\n",
       "      <td>0.0</td>\n",
       "      <td>0.0</td>\n",
       "      <td>4.000000e+09</td>\n",
       "      <td>4410944.0</td>\n",
       "      <td>726192000.0</td>\n",
       "      <td>2.871390e+09</td>\n",
       "      <td>0.0</td>\n",
       "      <td>0.0</td>\n",
       "      <td>26896.0</td>\n",
       "      <td>0.0</td>\n",
       "      <td>107584.0</td>\n",
       "      <td>1.195560e+11</td>\n",
       "      <td>4.727289e+11</td>\n",
       "      <td>0.0</td>\n",
       "      <td>0.0</td>\n",
       "      <td>4428000.0</td>\n",
       "      <td>0.0</td>\n",
       "      <td>17712000.0</td>\n",
       "      <td>1.869187e+12</td>\n",
       "      <td>0.0</td>\n",
       "      <td>0.0</td>\n",
       "      <td>17508476.0</td>\n",
       "      <td>0.0</td>\n",
       "      <td>70033904.0</td>\n",
       "      <td>0.0</td>\n",
       "      <td>0.0</td>\n",
       "      <td>0.0</td>\n",
       "      <td>0.0</td>\n",
       "      <td>0.0</td>\n",
       "      <td>0.0</td>\n",
       "      <td>0.0</td>\n",
       "      <td>0.0</td>\n",
       "      <td>0.0</td>\n",
       "      <td>164.0</td>\n",
       "      <td>0.0</td>\n",
       "      <td>656.0</td>\n",
       "      <td>0.0</td>\n",
       "      <td>0.0</td>\n",
       "      <td>2624.0</td>\n",
       "      <td>1.968300e+13</td>\n",
       "      <td>7.782731e+13</td>\n",
       "      <td>0.0</td>\n",
       "      <td>0.0</td>\n",
       "      <td>729000000.0</td>\n",
       "      <td>0.0</td>\n",
       "      <td>2.916000e+09</td>\n",
       "      <td>3.077321e+14</td>\n",
       "      <td>0.0</td>\n",
       "      <td>0.0</td>\n",
       "      <td>2.882493e+09</td>\n",
       "      <td>0.0</td>\n",
       "      <td>1.152997e+10</td>\n",
       "      <td>0.0</td>\n",
       "      <td>0.0</td>\n",
       "      <td>0.0</td>\n",
       "      <td>0.0</td>\n",
       "      <td>0.0</td>\n",
       "      <td>0.0</td>\n",
       "      <td>0.0</td>\n",
       "      <td>0.0</td>\n",
       "      <td>0.0</td>\n",
       "      <td>27000.0</td>\n",
       "      <td>0.0</td>\n",
       "      <td>108000.0</td>\n",
       "      <td>0.0</td>\n",
       "      <td>0.0</td>\n",
       "      <td>432000.0</td>\n",
       "      <td>1.216784e+15</td>\n",
       "      <td>0.0</td>\n",
       "      <td>0.0</td>\n",
       "      <td>1.139748e+10</td>\n",
       "      <td>0.0</td>\n",
       "      <td>4.558994e+10</td>\n",
       "      <td>0.0</td>\n",
       "      <td>0.0</td>\n",
       "      <td>0.0</td>\n",
       "      <td>0.0</td>\n",
       "      <td>0.0</td>\n",
       "      <td>0.0</td>\n",
       "      <td>0.0</td>\n",
       "      <td>0.0</td>\n",
       "      <td>0.0</td>\n",
       "      <td>106759.0</td>\n",
       "      <td>0.0</td>\n",
       "      <td>427036.0</td>\n",
       "      <td>0.0</td>\n",
       "      <td>0.0</td>\n",
       "      <td>1708144.0</td>\n",
       "      <td>0.0</td>\n",
       "      <td>0.0</td>\n",
       "      <td>0.0</td>\n",
       "      <td>0.0</td>\n",
       "      <td>0.0</td>\n",
       "      <td>0.0</td>\n",
       "      <td>0.0</td>\n",
       "      <td>0.0</td>\n",
       "      <td>0.0</td>\n",
       "      <td>0.0</td>\n",
       "      <td>0.0</td>\n",
       "      <td>0.0</td>\n",
       "      <td>0.0</td>\n",
       "      <td>0.0</td>\n",
       "      <td>0.0</td>\n",
       "      <td>0.0</td>\n",
       "      <td>0.0</td>\n",
       "      <td>0.0</td>\n",
       "      <td>0.0</td>\n",
       "      <td>0.0</td>\n",
       "      <td>0.0</td>\n",
       "      <td>0.0</td>\n",
       "      <td>0.0</td>\n",
       "      <td>0.0</td>\n",
       "      <td>0.0</td>\n",
       "      <td>1.0</td>\n",
       "      <td>0.0</td>\n",
       "      <td>4.0</td>\n",
       "      <td>0.0</td>\n",
       "      <td>0.0</td>\n",
       "      <td>16.0</td>\n",
       "      <td>0.0</td>\n",
       "      <td>0.0</td>\n",
       "      <td>0.0</td>\n",
       "      <td>64.0</td>\n",
       "    </tr>\n",
       "    <tr>\n",
       "      <th>1</th>\n",
       "      <td>263700000.0</td>\n",
       "      <td>132.0</td>\n",
       "      <td>640.0</td>\n",
       "      <td>1873.0</td>\n",
       "      <td>0.0</td>\n",
       "      <td>0.0</td>\n",
       "      <td>1.0</td>\n",
       "      <td>0.0</td>\n",
       "      <td>4.0</td>\n",
       "      <td>6.953769e+16</td>\n",
       "      <td>3.480840e+10</td>\n",
       "      <td>1.687680e+11</td>\n",
       "      <td>4.939101e+11</td>\n",
       "      <td>0.0</td>\n",
       "      <td>0.0</td>\n",
       "      <td>263700000.0</td>\n",
       "      <td>0.0</td>\n",
       "      <td>1.054800e+09</td>\n",
       "      <td>17424.0</td>\n",
       "      <td>84480.0</td>\n",
       "      <td>247236.0</td>\n",
       "      <td>0.0</td>\n",
       "      <td>0.0</td>\n",
       "      <td>132.0</td>\n",
       "      <td>0.0</td>\n",
       "      <td>528.0</td>\n",
       "      <td>409600.0</td>\n",
       "      <td>1.198720e+06</td>\n",
       "      <td>0.0</td>\n",
       "      <td>0.0</td>\n",
       "      <td>640.0</td>\n",
       "      <td>0.0</td>\n",
       "      <td>2560.0</td>\n",
       "      <td>3.508129e+06</td>\n",
       "      <td>0.0</td>\n",
       "      <td>0.0</td>\n",
       "      <td>1873.0</td>\n",
       "      <td>0.0</td>\n",
       "      <td>7492.0</td>\n",
       "      <td>0.0</td>\n",
       "      <td>0.0</td>\n",
       "      <td>0.0</td>\n",
       "      <td>0.0</td>\n",
       "      <td>0.0</td>\n",
       "      <td>0.0</td>\n",
       "      <td>0.0</td>\n",
       "      <td>0.0</td>\n",
       "      <td>0.0</td>\n",
       "      <td>1.0</td>\n",
       "      <td>0.0</td>\n",
       "      <td>4.0</td>\n",
       "      <td>0.0</td>\n",
       "      <td>0.0</td>\n",
       "      <td>16.0</td>\n",
       "      <td>1.833709e+25</td>\n",
       "      <td>9.178975e+18</td>\n",
       "      <td>4.450412e+19</td>\n",
       "      <td>1.302441e+20</td>\n",
       "      <td>0.0</td>\n",
       "      <td>0.000000e+00</td>\n",
       "      <td>6.953769e+16</td>\n",
       "      <td>0.0</td>\n",
       "      <td>2.781508e+17</td>\n",
       "      <td>4.594709e+12</td>\n",
       "      <td>2.227738e+13</td>\n",
       "      <td>6.519613e+13</td>\n",
       "      <td>0.0</td>\n",
       "      <td>0.000000e+00</td>\n",
       "      <td>3.480840e+10</td>\n",
       "      <td>0.0</td>\n",
       "      <td>1.392336e+11</td>\n",
       "      <td>1.080115e+14</td>\n",
       "      <td>3.161025e+14</td>\n",
       "      <td>0.0</td>\n",
       "      <td>0.000000e+00</td>\n",
       "      <td>1.687680e+11</td>\n",
       "      <td>0.0</td>\n",
       "      <td>6.750720e+11</td>\n",
       "      <td>9.250936e+14</td>\n",
       "      <td>0.0</td>\n",
       "      <td>0.000000e+00</td>\n",
       "      <td>4.939101e+11</td>\n",
       "      <td>0.0</td>\n",
       "      <td>1.975640e+12</td>\n",
       "      <td>0.0</td>\n",
       "      <td>0.0</td>\n",
       "      <td>0.0</td>\n",
       "      <td>0.0</td>\n",
       "      <td>0.0</td>\n",
       "      <td>0.0</td>\n",
       "      <td>0.0</td>\n",
       "      <td>0.0</td>\n",
       "      <td>0.000000e+00</td>\n",
       "      <td>263700000.0</td>\n",
       "      <td>0.0</td>\n",
       "      <td>1.054800e+09</td>\n",
       "      <td>0.0</td>\n",
       "      <td>0.0</td>\n",
       "      <td>4.219200e+09</td>\n",
       "      <td>2299968.0</td>\n",
       "      <td>11151360.0</td>\n",
       "      <td>3.263515e+07</td>\n",
       "      <td>0.0</td>\n",
       "      <td>0.0</td>\n",
       "      <td>17424.0</td>\n",
       "      <td>0.0</td>\n",
       "      <td>69696.0</td>\n",
       "      <td>5.406720e+07</td>\n",
       "      <td>1.582310e+08</td>\n",
       "      <td>0.0</td>\n",
       "      <td>0.0</td>\n",
       "      <td>84480.0</td>\n",
       "      <td>0.0</td>\n",
       "      <td>337920.0</td>\n",
       "      <td>4.630730e+08</td>\n",
       "      <td>0.0</td>\n",
       "      <td>0.0</td>\n",
       "      <td>247236.0</td>\n",
       "      <td>0.0</td>\n",
       "      <td>988944.0</td>\n",
       "      <td>0.0</td>\n",
       "      <td>0.0</td>\n",
       "      <td>0.0</td>\n",
       "      <td>0.0</td>\n",
       "      <td>0.0</td>\n",
       "      <td>0.0</td>\n",
       "      <td>0.0</td>\n",
       "      <td>0.0</td>\n",
       "      <td>0.0</td>\n",
       "      <td>132.0</td>\n",
       "      <td>0.0</td>\n",
       "      <td>528.0</td>\n",
       "      <td>0.0</td>\n",
       "      <td>0.0</td>\n",
       "      <td>2112.0</td>\n",
       "      <td>2.621440e+08</td>\n",
       "      <td>7.671808e+08</td>\n",
       "      <td>0.0</td>\n",
       "      <td>0.0</td>\n",
       "      <td>409600.0</td>\n",
       "      <td>0.0</td>\n",
       "      <td>1.638400e+06</td>\n",
       "      <td>2.245203e+09</td>\n",
       "      <td>0.0</td>\n",
       "      <td>0.0</td>\n",
       "      <td>1.198720e+06</td>\n",
       "      <td>0.0</td>\n",
       "      <td>4.794880e+06</td>\n",
       "      <td>0.0</td>\n",
       "      <td>0.0</td>\n",
       "      <td>0.0</td>\n",
       "      <td>0.0</td>\n",
       "      <td>0.0</td>\n",
       "      <td>0.0</td>\n",
       "      <td>0.0</td>\n",
       "      <td>0.0</td>\n",
       "      <td>0.0</td>\n",
       "      <td>640.0</td>\n",
       "      <td>0.0</td>\n",
       "      <td>2560.0</td>\n",
       "      <td>0.0</td>\n",
       "      <td>0.0</td>\n",
       "      <td>10240.0</td>\n",
       "      <td>6.570726e+09</td>\n",
       "      <td>0.0</td>\n",
       "      <td>0.0</td>\n",
       "      <td>3.508129e+06</td>\n",
       "      <td>0.0</td>\n",
       "      <td>1.403252e+07</td>\n",
       "      <td>0.0</td>\n",
       "      <td>0.0</td>\n",
       "      <td>0.0</td>\n",
       "      <td>0.0</td>\n",
       "      <td>0.0</td>\n",
       "      <td>0.0</td>\n",
       "      <td>0.0</td>\n",
       "      <td>0.0</td>\n",
       "      <td>0.0</td>\n",
       "      <td>1873.0</td>\n",
       "      <td>0.0</td>\n",
       "      <td>7492.0</td>\n",
       "      <td>0.0</td>\n",
       "      <td>0.0</td>\n",
       "      <td>29968.0</td>\n",
       "      <td>0.0</td>\n",
       "      <td>0.0</td>\n",
       "      <td>0.0</td>\n",
       "      <td>0.0</td>\n",
       "      <td>0.0</td>\n",
       "      <td>0.0</td>\n",
       "      <td>0.0</td>\n",
       "      <td>0.0</td>\n",
       "      <td>0.0</td>\n",
       "      <td>0.0</td>\n",
       "      <td>0.0</td>\n",
       "      <td>0.0</td>\n",
       "      <td>0.0</td>\n",
       "      <td>0.0</td>\n",
       "      <td>0.0</td>\n",
       "      <td>0.0</td>\n",
       "      <td>0.0</td>\n",
       "      <td>0.0</td>\n",
       "      <td>0.0</td>\n",
       "      <td>0.0</td>\n",
       "      <td>0.0</td>\n",
       "      <td>0.0</td>\n",
       "      <td>0.0</td>\n",
       "      <td>0.0</td>\n",
       "      <td>0.0</td>\n",
       "      <td>1.0</td>\n",
       "      <td>0.0</td>\n",
       "      <td>4.0</td>\n",
       "      <td>0.0</td>\n",
       "      <td>0.0</td>\n",
       "      <td>16.0</td>\n",
       "      <td>0.0</td>\n",
       "      <td>0.0</td>\n",
       "      <td>0.0</td>\n",
       "      <td>64.0</td>\n",
       "    </tr>\n",
       "    <tr>\n",
       "      <th>2</th>\n",
       "      <td>258000000.0</td>\n",
       "      <td>156.0</td>\n",
       "      <td>24000.0</td>\n",
       "      <td>46055.0</td>\n",
       "      <td>0.0</td>\n",
       "      <td>0.0</td>\n",
       "      <td>1.0</td>\n",
       "      <td>0.0</td>\n",
       "      <td>9.0</td>\n",
       "      <td>6.656400e+16</td>\n",
       "      <td>4.024800e+10</td>\n",
       "      <td>6.192000e+12</td>\n",
       "      <td>1.188219e+13</td>\n",
       "      <td>0.0</td>\n",
       "      <td>0.0</td>\n",
       "      <td>258000000.0</td>\n",
       "      <td>0.0</td>\n",
       "      <td>2.322000e+09</td>\n",
       "      <td>24336.0</td>\n",
       "      <td>3744000.0</td>\n",
       "      <td>7184580.0</td>\n",
       "      <td>0.0</td>\n",
       "      <td>0.0</td>\n",
       "      <td>156.0</td>\n",
       "      <td>0.0</td>\n",
       "      <td>1404.0</td>\n",
       "      <td>576000000.0</td>\n",
       "      <td>1.105320e+09</td>\n",
       "      <td>0.0</td>\n",
       "      <td>0.0</td>\n",
       "      <td>24000.0</td>\n",
       "      <td>0.0</td>\n",
       "      <td>216000.0</td>\n",
       "      <td>2.121063e+09</td>\n",
       "      <td>0.0</td>\n",
       "      <td>0.0</td>\n",
       "      <td>46055.0</td>\n",
       "      <td>0.0</td>\n",
       "      <td>414495.0</td>\n",
       "      <td>0.0</td>\n",
       "      <td>0.0</td>\n",
       "      <td>0.0</td>\n",
       "      <td>0.0</td>\n",
       "      <td>0.0</td>\n",
       "      <td>0.0</td>\n",
       "      <td>0.0</td>\n",
       "      <td>0.0</td>\n",
       "      <td>0.0</td>\n",
       "      <td>1.0</td>\n",
       "      <td>0.0</td>\n",
       "      <td>9.0</td>\n",
       "      <td>0.0</td>\n",
       "      <td>0.0</td>\n",
       "      <td>81.0</td>\n",
       "      <td>1.717351e+25</td>\n",
       "      <td>1.038398e+19</td>\n",
       "      <td>1.597536e+21</td>\n",
       "      <td>3.065605e+21</td>\n",
       "      <td>0.0</td>\n",
       "      <td>0.000000e+00</td>\n",
       "      <td>6.656400e+16</td>\n",
       "      <td>0.0</td>\n",
       "      <td>5.990760e+17</td>\n",
       "      <td>6.278688e+12</td>\n",
       "      <td>9.659520e+14</td>\n",
       "      <td>1.853622e+15</td>\n",
       "      <td>0.0</td>\n",
       "      <td>0.000000e+00</td>\n",
       "      <td>4.024800e+10</td>\n",
       "      <td>0.0</td>\n",
       "      <td>3.622320e+11</td>\n",
       "      <td>1.486080e+17</td>\n",
       "      <td>2.851726e+17</td>\n",
       "      <td>0.0</td>\n",
       "      <td>0.000000e+00</td>\n",
       "      <td>6.192000e+12</td>\n",
       "      <td>0.0</td>\n",
       "      <td>5.572800e+13</td>\n",
       "      <td>5.472343e+17</td>\n",
       "      <td>0.0</td>\n",
       "      <td>0.000000e+00</td>\n",
       "      <td>1.188219e+13</td>\n",
       "      <td>0.0</td>\n",
       "      <td>1.069397e+14</td>\n",
       "      <td>0.0</td>\n",
       "      <td>0.0</td>\n",
       "      <td>0.0</td>\n",
       "      <td>0.0</td>\n",
       "      <td>0.0</td>\n",
       "      <td>0.0</td>\n",
       "      <td>0.0</td>\n",
       "      <td>0.0</td>\n",
       "      <td>0.000000e+00</td>\n",
       "      <td>258000000.0</td>\n",
       "      <td>0.0</td>\n",
       "      <td>2.322000e+09</td>\n",
       "      <td>0.0</td>\n",
       "      <td>0.0</td>\n",
       "      <td>2.089800e+10</td>\n",
       "      <td>3796416.0</td>\n",
       "      <td>584064000.0</td>\n",
       "      <td>1.120794e+09</td>\n",
       "      <td>0.0</td>\n",
       "      <td>0.0</td>\n",
       "      <td>24336.0</td>\n",
       "      <td>0.0</td>\n",
       "      <td>219024.0</td>\n",
       "      <td>8.985600e+10</td>\n",
       "      <td>1.724299e+11</td>\n",
       "      <td>0.0</td>\n",
       "      <td>0.0</td>\n",
       "      <td>3744000.0</td>\n",
       "      <td>0.0</td>\n",
       "      <td>33696000.0</td>\n",
       "      <td>3.308858e+11</td>\n",
       "      <td>0.0</td>\n",
       "      <td>0.0</td>\n",
       "      <td>7184580.0</td>\n",
       "      <td>0.0</td>\n",
       "      <td>64661220.0</td>\n",
       "      <td>0.0</td>\n",
       "      <td>0.0</td>\n",
       "      <td>0.0</td>\n",
       "      <td>0.0</td>\n",
       "      <td>0.0</td>\n",
       "      <td>0.0</td>\n",
       "      <td>0.0</td>\n",
       "      <td>0.0</td>\n",
       "      <td>0.0</td>\n",
       "      <td>156.0</td>\n",
       "      <td>0.0</td>\n",
       "      <td>1404.0</td>\n",
       "      <td>0.0</td>\n",
       "      <td>0.0</td>\n",
       "      <td>12636.0</td>\n",
       "      <td>1.382400e+13</td>\n",
       "      <td>2.652768e+13</td>\n",
       "      <td>0.0</td>\n",
       "      <td>0.0</td>\n",
       "      <td>576000000.0</td>\n",
       "      <td>0.0</td>\n",
       "      <td>5.184000e+09</td>\n",
       "      <td>5.090551e+13</td>\n",
       "      <td>0.0</td>\n",
       "      <td>0.0</td>\n",
       "      <td>1.105320e+09</td>\n",
       "      <td>0.0</td>\n",
       "      <td>9.947880e+09</td>\n",
       "      <td>0.0</td>\n",
       "      <td>0.0</td>\n",
       "      <td>0.0</td>\n",
       "      <td>0.0</td>\n",
       "      <td>0.0</td>\n",
       "      <td>0.0</td>\n",
       "      <td>0.0</td>\n",
       "      <td>0.0</td>\n",
       "      <td>0.0</td>\n",
       "      <td>24000.0</td>\n",
       "      <td>0.0</td>\n",
       "      <td>216000.0</td>\n",
       "      <td>0.0</td>\n",
       "      <td>0.0</td>\n",
       "      <td>1944000.0</td>\n",
       "      <td>9.768556e+13</td>\n",
       "      <td>0.0</td>\n",
       "      <td>0.0</td>\n",
       "      <td>2.121063e+09</td>\n",
       "      <td>0.0</td>\n",
       "      <td>1.908957e+10</td>\n",
       "      <td>0.0</td>\n",
       "      <td>0.0</td>\n",
       "      <td>0.0</td>\n",
       "      <td>0.0</td>\n",
       "      <td>0.0</td>\n",
       "      <td>0.0</td>\n",
       "      <td>0.0</td>\n",
       "      <td>0.0</td>\n",
       "      <td>0.0</td>\n",
       "      <td>46055.0</td>\n",
       "      <td>0.0</td>\n",
       "      <td>414495.0</td>\n",
       "      <td>0.0</td>\n",
       "      <td>0.0</td>\n",
       "      <td>3730455.0</td>\n",
       "      <td>0.0</td>\n",
       "      <td>0.0</td>\n",
       "      <td>0.0</td>\n",
       "      <td>0.0</td>\n",
       "      <td>0.0</td>\n",
       "      <td>0.0</td>\n",
       "      <td>0.0</td>\n",
       "      <td>0.0</td>\n",
       "      <td>0.0</td>\n",
       "      <td>0.0</td>\n",
       "      <td>0.0</td>\n",
       "      <td>0.0</td>\n",
       "      <td>0.0</td>\n",
       "      <td>0.0</td>\n",
       "      <td>0.0</td>\n",
       "      <td>0.0</td>\n",
       "      <td>0.0</td>\n",
       "      <td>0.0</td>\n",
       "      <td>0.0</td>\n",
       "      <td>0.0</td>\n",
       "      <td>0.0</td>\n",
       "      <td>0.0</td>\n",
       "      <td>0.0</td>\n",
       "      <td>0.0</td>\n",
       "      <td>0.0</td>\n",
       "      <td>1.0</td>\n",
       "      <td>0.0</td>\n",
       "      <td>9.0</td>\n",
       "      <td>0.0</td>\n",
       "      <td>0.0</td>\n",
       "      <td>81.0</td>\n",
       "      <td>0.0</td>\n",
       "      <td>0.0</td>\n",
       "      <td>0.0</td>\n",
       "      <td>729.0</td>\n",
       "    </tr>\n",
       "    <tr>\n",
       "      <th>3</th>\n",
       "      <td>260000000.0</td>\n",
       "      <td>100.0</td>\n",
       "      <td>799.0</td>\n",
       "      <td>2036.0</td>\n",
       "      <td>0.0</td>\n",
       "      <td>1.0</td>\n",
       "      <td>0.0</td>\n",
       "      <td>0.0</td>\n",
       "      <td>6.0</td>\n",
       "      <td>6.760000e+16</td>\n",
       "      <td>2.600000e+10</td>\n",
       "      <td>2.077400e+11</td>\n",
       "      <td>5.293600e+11</td>\n",
       "      <td>0.0</td>\n",
       "      <td>260000000.0</td>\n",
       "      <td>0.0</td>\n",
       "      <td>0.0</td>\n",
       "      <td>1.560000e+09</td>\n",
       "      <td>10000.0</td>\n",
       "      <td>79900.0</td>\n",
       "      <td>203600.0</td>\n",
       "      <td>0.0</td>\n",
       "      <td>100.0</td>\n",
       "      <td>0.0</td>\n",
       "      <td>0.0</td>\n",
       "      <td>600.0</td>\n",
       "      <td>638401.0</td>\n",
       "      <td>1.626764e+06</td>\n",
       "      <td>0.0</td>\n",
       "      <td>799.0</td>\n",
       "      <td>0.0</td>\n",
       "      <td>0.0</td>\n",
       "      <td>4794.0</td>\n",
       "      <td>4.145296e+06</td>\n",
       "      <td>0.0</td>\n",
       "      <td>2036.0</td>\n",
       "      <td>0.0</td>\n",
       "      <td>0.0</td>\n",
       "      <td>12216.0</td>\n",
       "      <td>0.0</td>\n",
       "      <td>0.0</td>\n",
       "      <td>0.0</td>\n",
       "      <td>0.0</td>\n",
       "      <td>0.0</td>\n",
       "      <td>1.0</td>\n",
       "      <td>0.0</td>\n",
       "      <td>0.0</td>\n",
       "      <td>6.0</td>\n",
       "      <td>0.0</td>\n",
       "      <td>0.0</td>\n",
       "      <td>0.0</td>\n",
       "      <td>0.0</td>\n",
       "      <td>0.0</td>\n",
       "      <td>36.0</td>\n",
       "      <td>1.757600e+25</td>\n",
       "      <td>6.760000e+18</td>\n",
       "      <td>5.401240e+19</td>\n",
       "      <td>1.376336e+20</td>\n",
       "      <td>0.0</td>\n",
       "      <td>6.760000e+16</td>\n",
       "      <td>0.000000e+00</td>\n",
       "      <td>0.0</td>\n",
       "      <td>4.056000e+17</td>\n",
       "      <td>2.600000e+12</td>\n",
       "      <td>2.077400e+13</td>\n",
       "      <td>5.293600e+13</td>\n",
       "      <td>0.0</td>\n",
       "      <td>2.600000e+10</td>\n",
       "      <td>0.000000e+00</td>\n",
       "      <td>0.0</td>\n",
       "      <td>1.560000e+11</td>\n",
       "      <td>1.659843e+14</td>\n",
       "      <td>4.229586e+14</td>\n",
       "      <td>0.0</td>\n",
       "      <td>2.077400e+11</td>\n",
       "      <td>0.000000e+00</td>\n",
       "      <td>0.0</td>\n",
       "      <td>1.246440e+12</td>\n",
       "      <td>1.077777e+15</td>\n",
       "      <td>0.0</td>\n",
       "      <td>5.293600e+11</td>\n",
       "      <td>0.000000e+00</td>\n",
       "      <td>0.0</td>\n",
       "      <td>3.176160e+12</td>\n",
       "      <td>0.0</td>\n",
       "      <td>0.0</td>\n",
       "      <td>0.0</td>\n",
       "      <td>0.0</td>\n",
       "      <td>0.0</td>\n",
       "      <td>260000000.0</td>\n",
       "      <td>0.0</td>\n",
       "      <td>0.0</td>\n",
       "      <td>1.560000e+09</td>\n",
       "      <td>0.0</td>\n",
       "      <td>0.0</td>\n",
       "      <td>0.000000e+00</td>\n",
       "      <td>0.0</td>\n",
       "      <td>0.0</td>\n",
       "      <td>9.360000e+09</td>\n",
       "      <td>1000000.0</td>\n",
       "      <td>7990000.0</td>\n",
       "      <td>2.036000e+07</td>\n",
       "      <td>0.0</td>\n",
       "      <td>10000.0</td>\n",
       "      <td>0.0</td>\n",
       "      <td>0.0</td>\n",
       "      <td>60000.0</td>\n",
       "      <td>6.384010e+07</td>\n",
       "      <td>1.626764e+08</td>\n",
       "      <td>0.0</td>\n",
       "      <td>79900.0</td>\n",
       "      <td>0.0</td>\n",
       "      <td>0.0</td>\n",
       "      <td>479400.0</td>\n",
       "      <td>4.145296e+08</td>\n",
       "      <td>0.0</td>\n",
       "      <td>203600.0</td>\n",
       "      <td>0.0</td>\n",
       "      <td>0.0</td>\n",
       "      <td>1221600.0</td>\n",
       "      <td>0.0</td>\n",
       "      <td>0.0</td>\n",
       "      <td>0.0</td>\n",
       "      <td>0.0</td>\n",
       "      <td>0.0</td>\n",
       "      <td>100.0</td>\n",
       "      <td>0.0</td>\n",
       "      <td>0.0</td>\n",
       "      <td>600.0</td>\n",
       "      <td>0.0</td>\n",
       "      <td>0.0</td>\n",
       "      <td>0.0</td>\n",
       "      <td>0.0</td>\n",
       "      <td>0.0</td>\n",
       "      <td>3600.0</td>\n",
       "      <td>5.100824e+08</td>\n",
       "      <td>1.299784e+09</td>\n",
       "      <td>0.0</td>\n",
       "      <td>638401.0</td>\n",
       "      <td>0.0</td>\n",
       "      <td>0.0</td>\n",
       "      <td>3.830406e+06</td>\n",
       "      <td>3.312092e+09</td>\n",
       "      <td>0.0</td>\n",
       "      <td>1626764.0</td>\n",
       "      <td>0.000000e+00</td>\n",
       "      <td>0.0</td>\n",
       "      <td>9.760584e+06</td>\n",
       "      <td>0.0</td>\n",
       "      <td>0.0</td>\n",
       "      <td>0.0</td>\n",
       "      <td>0.0</td>\n",
       "      <td>0.0</td>\n",
       "      <td>799.0</td>\n",
       "      <td>0.0</td>\n",
       "      <td>0.0</td>\n",
       "      <td>4794.0</td>\n",
       "      <td>0.0</td>\n",
       "      <td>0.0</td>\n",
       "      <td>0.0</td>\n",
       "      <td>0.0</td>\n",
       "      <td>0.0</td>\n",
       "      <td>28764.0</td>\n",
       "      <td>8.439823e+09</td>\n",
       "      <td>0.0</td>\n",
       "      <td>4145296.0</td>\n",
       "      <td>0.000000e+00</td>\n",
       "      <td>0.0</td>\n",
       "      <td>2.487178e+07</td>\n",
       "      <td>0.0</td>\n",
       "      <td>0.0</td>\n",
       "      <td>0.0</td>\n",
       "      <td>0.0</td>\n",
       "      <td>0.0</td>\n",
       "      <td>2036.0</td>\n",
       "      <td>0.0</td>\n",
       "      <td>0.0</td>\n",
       "      <td>12216.0</td>\n",
       "      <td>0.0</td>\n",
       "      <td>0.0</td>\n",
       "      <td>0.0</td>\n",
       "      <td>0.0</td>\n",
       "      <td>0.0</td>\n",
       "      <td>73296.0</td>\n",
       "      <td>0.0</td>\n",
       "      <td>0.0</td>\n",
       "      <td>0.0</td>\n",
       "      <td>0.0</td>\n",
       "      <td>0.0</td>\n",
       "      <td>0.0</td>\n",
       "      <td>0.0</td>\n",
       "      <td>0.0</td>\n",
       "      <td>0.0</td>\n",
       "      <td>0.0</td>\n",
       "      <td>0.0</td>\n",
       "      <td>0.0</td>\n",
       "      <td>0.0</td>\n",
       "      <td>0.0</td>\n",
       "      <td>0.0</td>\n",
       "      <td>1.0</td>\n",
       "      <td>0.0</td>\n",
       "      <td>0.0</td>\n",
       "      <td>6.0</td>\n",
       "      <td>0.0</td>\n",
       "      <td>0.0</td>\n",
       "      <td>0.0</td>\n",
       "      <td>0.0</td>\n",
       "      <td>0.0</td>\n",
       "      <td>36.0</td>\n",
       "      <td>0.0</td>\n",
       "      <td>0.0</td>\n",
       "      <td>0.0</td>\n",
       "      <td>0.0</td>\n",
       "      <td>0.0</td>\n",
       "      <td>0.0</td>\n",
       "      <td>0.0</td>\n",
       "      <td>0.0</td>\n",
       "      <td>0.0</td>\n",
       "      <td>216.0</td>\n",
       "    </tr>\n",
       "    <tr>\n",
       "      <th>4</th>\n",
       "      <td>250000000.0</td>\n",
       "      <td>141.0</td>\n",
       "      <td>26000.0</td>\n",
       "      <td>92000.0</td>\n",
       "      <td>0.0</td>\n",
       "      <td>0.0</td>\n",
       "      <td>1.0</td>\n",
       "      <td>0.0</td>\n",
       "      <td>1.0</td>\n",
       "      <td>6.250000e+16</td>\n",
       "      <td>3.525000e+10</td>\n",
       "      <td>6.500000e+12</td>\n",
       "      <td>2.300000e+13</td>\n",
       "      <td>0.0</td>\n",
       "      <td>0.0</td>\n",
       "      <td>250000000.0</td>\n",
       "      <td>0.0</td>\n",
       "      <td>2.500000e+08</td>\n",
       "      <td>19881.0</td>\n",
       "      <td>3666000.0</td>\n",
       "      <td>12972000.0</td>\n",
       "      <td>0.0</td>\n",
       "      <td>0.0</td>\n",
       "      <td>141.0</td>\n",
       "      <td>0.0</td>\n",
       "      <td>141.0</td>\n",
       "      <td>676000000.0</td>\n",
       "      <td>2.392000e+09</td>\n",
       "      <td>0.0</td>\n",
       "      <td>0.0</td>\n",
       "      <td>26000.0</td>\n",
       "      <td>0.0</td>\n",
       "      <td>26000.0</td>\n",
       "      <td>8.464000e+09</td>\n",
       "      <td>0.0</td>\n",
       "      <td>0.0</td>\n",
       "      <td>92000.0</td>\n",
       "      <td>0.0</td>\n",
       "      <td>92000.0</td>\n",
       "      <td>0.0</td>\n",
       "      <td>0.0</td>\n",
       "      <td>0.0</td>\n",
       "      <td>0.0</td>\n",
       "      <td>0.0</td>\n",
       "      <td>0.0</td>\n",
       "      <td>0.0</td>\n",
       "      <td>0.0</td>\n",
       "      <td>0.0</td>\n",
       "      <td>1.0</td>\n",
       "      <td>0.0</td>\n",
       "      <td>1.0</td>\n",
       "      <td>0.0</td>\n",
       "      <td>0.0</td>\n",
       "      <td>1.0</td>\n",
       "      <td>1.562500e+25</td>\n",
       "      <td>8.812500e+18</td>\n",
       "      <td>1.625000e+21</td>\n",
       "      <td>5.750000e+21</td>\n",
       "      <td>0.0</td>\n",
       "      <td>0.000000e+00</td>\n",
       "      <td>6.250000e+16</td>\n",
       "      <td>0.0</td>\n",
       "      <td>6.250000e+16</td>\n",
       "      <td>4.970250e+12</td>\n",
       "      <td>9.165000e+14</td>\n",
       "      <td>3.243000e+15</td>\n",
       "      <td>0.0</td>\n",
       "      <td>0.000000e+00</td>\n",
       "      <td>3.525000e+10</td>\n",
       "      <td>0.0</td>\n",
       "      <td>3.525000e+10</td>\n",
       "      <td>1.690000e+17</td>\n",
       "      <td>5.980000e+17</td>\n",
       "      <td>0.0</td>\n",
       "      <td>0.000000e+00</td>\n",
       "      <td>6.500000e+12</td>\n",
       "      <td>0.0</td>\n",
       "      <td>6.500000e+12</td>\n",
       "      <td>2.116000e+18</td>\n",
       "      <td>0.0</td>\n",
       "      <td>0.000000e+00</td>\n",
       "      <td>2.300000e+13</td>\n",
       "      <td>0.0</td>\n",
       "      <td>2.300000e+13</td>\n",
       "      <td>0.0</td>\n",
       "      <td>0.0</td>\n",
       "      <td>0.0</td>\n",
       "      <td>0.0</td>\n",
       "      <td>0.0</td>\n",
       "      <td>0.0</td>\n",
       "      <td>0.0</td>\n",
       "      <td>0.0</td>\n",
       "      <td>0.000000e+00</td>\n",
       "      <td>250000000.0</td>\n",
       "      <td>0.0</td>\n",
       "      <td>2.500000e+08</td>\n",
       "      <td>0.0</td>\n",
       "      <td>0.0</td>\n",
       "      <td>2.500000e+08</td>\n",
       "      <td>2803221.0</td>\n",
       "      <td>516906000.0</td>\n",
       "      <td>1.829052e+09</td>\n",
       "      <td>0.0</td>\n",
       "      <td>0.0</td>\n",
       "      <td>19881.0</td>\n",
       "      <td>0.0</td>\n",
       "      <td>19881.0</td>\n",
       "      <td>9.531600e+10</td>\n",
       "      <td>3.372720e+11</td>\n",
       "      <td>0.0</td>\n",
       "      <td>0.0</td>\n",
       "      <td>3666000.0</td>\n",
       "      <td>0.0</td>\n",
       "      <td>3666000.0</td>\n",
       "      <td>1.193424e+12</td>\n",
       "      <td>0.0</td>\n",
       "      <td>0.0</td>\n",
       "      <td>12972000.0</td>\n",
       "      <td>0.0</td>\n",
       "      <td>12972000.0</td>\n",
       "      <td>0.0</td>\n",
       "      <td>0.0</td>\n",
       "      <td>0.0</td>\n",
       "      <td>0.0</td>\n",
       "      <td>0.0</td>\n",
       "      <td>0.0</td>\n",
       "      <td>0.0</td>\n",
       "      <td>0.0</td>\n",
       "      <td>0.0</td>\n",
       "      <td>141.0</td>\n",
       "      <td>0.0</td>\n",
       "      <td>141.0</td>\n",
       "      <td>0.0</td>\n",
       "      <td>0.0</td>\n",
       "      <td>141.0</td>\n",
       "      <td>1.757600e+13</td>\n",
       "      <td>6.219200e+13</td>\n",
       "      <td>0.0</td>\n",
       "      <td>0.0</td>\n",
       "      <td>676000000.0</td>\n",
       "      <td>0.0</td>\n",
       "      <td>6.760000e+08</td>\n",
       "      <td>2.200640e+14</td>\n",
       "      <td>0.0</td>\n",
       "      <td>0.0</td>\n",
       "      <td>2.392000e+09</td>\n",
       "      <td>0.0</td>\n",
       "      <td>2.392000e+09</td>\n",
       "      <td>0.0</td>\n",
       "      <td>0.0</td>\n",
       "      <td>0.0</td>\n",
       "      <td>0.0</td>\n",
       "      <td>0.0</td>\n",
       "      <td>0.0</td>\n",
       "      <td>0.0</td>\n",
       "      <td>0.0</td>\n",
       "      <td>0.0</td>\n",
       "      <td>26000.0</td>\n",
       "      <td>0.0</td>\n",
       "      <td>26000.0</td>\n",
       "      <td>0.0</td>\n",
       "      <td>0.0</td>\n",
       "      <td>26000.0</td>\n",
       "      <td>7.786880e+14</td>\n",
       "      <td>0.0</td>\n",
       "      <td>0.0</td>\n",
       "      <td>8.464000e+09</td>\n",
       "      <td>0.0</td>\n",
       "      <td>8.464000e+09</td>\n",
       "      <td>0.0</td>\n",
       "      <td>0.0</td>\n",
       "      <td>0.0</td>\n",
       "      <td>0.0</td>\n",
       "      <td>0.0</td>\n",
       "      <td>0.0</td>\n",
       "      <td>0.0</td>\n",
       "      <td>0.0</td>\n",
       "      <td>0.0</td>\n",
       "      <td>92000.0</td>\n",
       "      <td>0.0</td>\n",
       "      <td>92000.0</td>\n",
       "      <td>0.0</td>\n",
       "      <td>0.0</td>\n",
       "      <td>92000.0</td>\n",
       "      <td>0.0</td>\n",
       "      <td>0.0</td>\n",
       "      <td>0.0</td>\n",
       "      <td>0.0</td>\n",
       "      <td>0.0</td>\n",
       "      <td>0.0</td>\n",
       "      <td>0.0</td>\n",
       "      <td>0.0</td>\n",
       "      <td>0.0</td>\n",
       "      <td>0.0</td>\n",
       "      <td>0.0</td>\n",
       "      <td>0.0</td>\n",
       "      <td>0.0</td>\n",
       "      <td>0.0</td>\n",
       "      <td>0.0</td>\n",
       "      <td>0.0</td>\n",
       "      <td>0.0</td>\n",
       "      <td>0.0</td>\n",
       "      <td>0.0</td>\n",
       "      <td>0.0</td>\n",
       "      <td>0.0</td>\n",
       "      <td>0.0</td>\n",
       "      <td>0.0</td>\n",
       "      <td>0.0</td>\n",
       "      <td>0.0</td>\n",
       "      <td>1.0</td>\n",
       "      <td>0.0</td>\n",
       "      <td>1.0</td>\n",
       "      <td>0.0</td>\n",
       "      <td>0.0</td>\n",
       "      <td>1.0</td>\n",
       "      <td>0.0</td>\n",
       "      <td>0.0</td>\n",
       "      <td>0.0</td>\n",
       "      <td>1.0</td>\n",
       "    </tr>\n",
       "  </tbody>\n",
       "</table>\n",
       "</div>"
      ],
      "text/plain": [
       "        budget  duration  actor_1_facebook_likes  cast_total_facebook_likes  \\\n",
       "0  250000000.0     164.0                 27000.0                   106759.0   \n",
       "1  263700000.0     132.0                   640.0                     1873.0   \n",
       "2  258000000.0     156.0                 24000.0                    46055.0   \n",
       "3  260000000.0     100.0                   799.0                     2036.0   \n",
       "4  250000000.0     141.0                 26000.0                    92000.0   \n",
       "\n",
       "     G   PG  PG-13    R  yr_old      budget^2  budget duration  \\\n",
       "0  0.0  0.0    1.0  0.0     4.0  6.250000e+16     4.100000e+10   \n",
       "1  0.0  0.0    1.0  0.0     4.0  6.953769e+16     3.480840e+10   \n",
       "2  0.0  0.0    1.0  0.0     9.0  6.656400e+16     4.024800e+10   \n",
       "3  0.0  1.0    0.0  0.0     6.0  6.760000e+16     2.600000e+10   \n",
       "4  0.0  0.0    1.0  0.0     1.0  6.250000e+16     3.525000e+10   \n",
       "\n",
       "   budget actor_1_facebook_likes  budget cast_total_facebook_likes  budget G  \\\n",
       "0                   6.750000e+12                      2.668975e+13       0.0   \n",
       "1                   1.687680e+11                      4.939101e+11       0.0   \n",
       "2                   6.192000e+12                      1.188219e+13       0.0   \n",
       "3                   2.077400e+11                      5.293600e+11       0.0   \n",
       "4                   6.500000e+12                      2.300000e+13       0.0   \n",
       "\n",
       "     budget PG  budget PG-13  budget R  budget yr_old  duration^2  \\\n",
       "0          0.0   250000000.0       0.0   1.000000e+09     26896.0   \n",
       "1          0.0   263700000.0       0.0   1.054800e+09     17424.0   \n",
       "2          0.0   258000000.0       0.0   2.322000e+09     24336.0   \n",
       "3  260000000.0           0.0       0.0   1.560000e+09     10000.0   \n",
       "4          0.0   250000000.0       0.0   2.500000e+08     19881.0   \n",
       "\n",
       "   duration actor_1_facebook_likes  duration cast_total_facebook_likes  \\\n",
       "0                        4428000.0                          17508476.0   \n",
       "1                          84480.0                            247236.0   \n",
       "2                        3744000.0                           7184580.0   \n",
       "3                          79900.0                            203600.0   \n",
       "4                        3666000.0                          12972000.0   \n",
       "\n",
       "   duration G  duration PG  duration PG-13  duration R  duration yr_old  \\\n",
       "0         0.0          0.0           164.0         0.0            656.0   \n",
       "1         0.0          0.0           132.0         0.0            528.0   \n",
       "2         0.0          0.0           156.0         0.0           1404.0   \n",
       "3         0.0        100.0             0.0         0.0            600.0   \n",
       "4         0.0          0.0           141.0         0.0            141.0   \n",
       "\n",
       "   actor_1_facebook_likes^2  actor_1_facebook_likes cast_total_facebook_likes  \\\n",
       "0               729000000.0                                      2.882493e+09   \n",
       "1                  409600.0                                      1.198720e+06   \n",
       "2               576000000.0                                      1.105320e+09   \n",
       "3                  638401.0                                      1.626764e+06   \n",
       "4               676000000.0                                      2.392000e+09   \n",
       "\n",
       "   actor_1_facebook_likes G  actor_1_facebook_likes PG  \\\n",
       "0                       0.0                        0.0   \n",
       "1                       0.0                        0.0   \n",
       "2                       0.0                        0.0   \n",
       "3                       0.0                      799.0   \n",
       "4                       0.0                        0.0   \n",
       "\n",
       "   actor_1_facebook_likes PG-13  actor_1_facebook_likes R  \\\n",
       "0                       27000.0                       0.0   \n",
       "1                         640.0                       0.0   \n",
       "2                       24000.0                       0.0   \n",
       "3                           0.0                       0.0   \n",
       "4                       26000.0                       0.0   \n",
       "\n",
       "   actor_1_facebook_likes yr_old  cast_total_facebook_likes^2  \\\n",
       "0                       108000.0                 1.139748e+10   \n",
       "1                         2560.0                 3.508129e+06   \n",
       "2                       216000.0                 2.121063e+09   \n",
       "3                         4794.0                 4.145296e+06   \n",
       "4                        26000.0                 8.464000e+09   \n",
       "\n",
       "   cast_total_facebook_likes G  cast_total_facebook_likes PG  \\\n",
       "0                          0.0                           0.0   \n",
       "1                          0.0                           0.0   \n",
       "2                          0.0                           0.0   \n",
       "3                          0.0                        2036.0   \n",
       "4                          0.0                           0.0   \n",
       "\n",
       "   cast_total_facebook_likes PG-13  cast_total_facebook_likes R  \\\n",
       "0                         106759.0                          0.0   \n",
       "1                           1873.0                          0.0   \n",
       "2                          46055.0                          0.0   \n",
       "3                              0.0                          0.0   \n",
       "4                          92000.0                          0.0   \n",
       "\n",
       "   cast_total_facebook_likes yr_old  G^2  G PG  G PG-13  G R  G yr_old  PG^2  \\\n",
       "0                          427036.0  0.0   0.0      0.0  0.0       0.0   0.0   \n",
       "1                            7492.0  0.0   0.0      0.0  0.0       0.0   0.0   \n",
       "2                          414495.0  0.0   0.0      0.0  0.0       0.0   0.0   \n",
       "3                           12216.0  0.0   0.0      0.0  0.0       0.0   1.0   \n",
       "4                           92000.0  0.0   0.0      0.0  0.0       0.0   0.0   \n",
       "\n",
       "   PG PG-13  PG R  PG yr_old  PG-13^2  PG-13 R  PG-13 yr_old  R^2  R yr_old  \\\n",
       "0       0.0   0.0        0.0      1.0      0.0           4.0  0.0       0.0   \n",
       "1       0.0   0.0        0.0      1.0      0.0           4.0  0.0       0.0   \n",
       "2       0.0   0.0        0.0      1.0      0.0           9.0  0.0       0.0   \n",
       "3       0.0   0.0        6.0      0.0      0.0           0.0  0.0       0.0   \n",
       "4       0.0   0.0        0.0      1.0      0.0           1.0  0.0       0.0   \n",
       "\n",
       "   yr_old^2      budget^3  budget^2 duration  budget^2 actor_1_facebook_likes  \\\n",
       "0      16.0  1.562500e+25       1.025000e+19                     1.687500e+21   \n",
       "1      16.0  1.833709e+25       9.178975e+18                     4.450412e+19   \n",
       "2      81.0  1.717351e+25       1.038398e+19                     1.597536e+21   \n",
       "3      36.0  1.757600e+25       6.760000e+18                     5.401240e+19   \n",
       "4       1.0  1.562500e+25       8.812500e+18                     1.625000e+21   \n",
       "\n",
       "   budget^2 cast_total_facebook_likes  budget^2 G   budget^2 PG  \\\n",
       "0                        6.672438e+21         0.0  0.000000e+00   \n",
       "1                        1.302441e+20         0.0  0.000000e+00   \n",
       "2                        3.065605e+21         0.0  0.000000e+00   \n",
       "3                        1.376336e+20         0.0  6.760000e+16   \n",
       "4                        5.750000e+21         0.0  0.000000e+00   \n",
       "\n",
       "   budget^2 PG-13  budget^2 R  budget^2 yr_old  budget duration^2  \\\n",
       "0    6.250000e+16         0.0     2.500000e+17       6.724000e+12   \n",
       "1    6.953769e+16         0.0     2.781508e+17       4.594709e+12   \n",
       "2    6.656400e+16         0.0     5.990760e+17       6.278688e+12   \n",
       "3    0.000000e+00         0.0     4.056000e+17       2.600000e+12   \n",
       "4    6.250000e+16         0.0     6.250000e+16       4.970250e+12   \n",
       "\n",
       "   budget duration actor_1_facebook_likes  \\\n",
       "0                            1.107000e+15   \n",
       "1                            2.227738e+13   \n",
       "2                            9.659520e+14   \n",
       "3                            2.077400e+13   \n",
       "4                            9.165000e+14   \n",
       "\n",
       "   budget duration cast_total_facebook_likes  budget duration G  \\\n",
       "0                               4.377119e+15                0.0   \n",
       "1                               6.519613e+13                0.0   \n",
       "2                               1.853622e+15                0.0   \n",
       "3                               5.293600e+13                0.0   \n",
       "4                               3.243000e+15                0.0   \n",
       "\n",
       "   budget duration PG  budget duration PG-13  budget duration R  \\\n",
       "0        0.000000e+00           4.100000e+10                0.0   \n",
       "1        0.000000e+00           3.480840e+10                0.0   \n",
       "2        0.000000e+00           4.024800e+10                0.0   \n",
       "3        2.600000e+10           0.000000e+00                0.0   \n",
       "4        0.000000e+00           3.525000e+10                0.0   \n",
       "\n",
       "   budget duration yr_old  budget actor_1_facebook_likes^2  \\\n",
       "0            1.640000e+11                     1.822500e+17   \n",
       "1            1.392336e+11                     1.080115e+14   \n",
       "2            3.622320e+11                     1.486080e+17   \n",
       "3            1.560000e+11                     1.659843e+14   \n",
       "4            3.525000e+10                     1.690000e+17   \n",
       "\n",
       "   budget actor_1_facebook_likes cast_total_facebook_likes  \\\n",
       "0                                       7.206232e+17         \n",
       "1                                       3.161025e+14         \n",
       "2                                       2.851726e+17         \n",
       "3                                       4.229586e+14         \n",
       "4                                       5.980000e+17         \n",
       "\n",
       "   budget actor_1_facebook_likes G  budget actor_1_facebook_likes PG  \\\n",
       "0                              0.0                      0.000000e+00   \n",
       "1                              0.0                      0.000000e+00   \n",
       "2                              0.0                      0.000000e+00   \n",
       "3                              0.0                      2.077400e+11   \n",
       "4                              0.0                      0.000000e+00   \n",
       "\n",
       "   budget actor_1_facebook_likes PG-13  budget actor_1_facebook_likes R  \\\n",
       "0                         6.750000e+12                              0.0   \n",
       "1                         1.687680e+11                              0.0   \n",
       "2                         6.192000e+12                              0.0   \n",
       "3                         0.000000e+00                              0.0   \n",
       "4                         6.500000e+12                              0.0   \n",
       "\n",
       "   budget actor_1_facebook_likes yr_old  budget cast_total_facebook_likes^2  \\\n",
       "0                          2.700000e+13                        2.849371e+18   \n",
       "1                          6.750720e+11                        9.250936e+14   \n",
       "2                          5.572800e+13                        5.472343e+17   \n",
       "3                          1.246440e+12                        1.077777e+15   \n",
       "4                          6.500000e+12                        2.116000e+18   \n",
       "\n",
       "   budget cast_total_facebook_likes G  budget cast_total_facebook_likes PG  \\\n",
       "0                                 0.0                         0.000000e+00   \n",
       "1                                 0.0                         0.000000e+00   \n",
       "2                                 0.0                         0.000000e+00   \n",
       "3                                 0.0                         5.293600e+11   \n",
       "4                                 0.0                         0.000000e+00   \n",
       "\n",
       "   budget cast_total_facebook_likes PG-13  budget cast_total_facebook_likes R  \\\n",
       "0                            2.668975e+13                                 0.0   \n",
       "1                            4.939101e+11                                 0.0   \n",
       "2                            1.188219e+13                                 0.0   \n",
       "3                            0.000000e+00                                 0.0   \n",
       "4                            2.300000e+13                                 0.0   \n",
       "\n",
       "   budget cast_total_facebook_likes yr_old  budget G^2  budget G PG  \\\n",
       "0                             1.067590e+14         0.0          0.0   \n",
       "1                             1.975640e+12         0.0          0.0   \n",
       "2                             1.069397e+14         0.0          0.0   \n",
       "3                             3.176160e+12         0.0          0.0   \n",
       "4                             2.300000e+13         0.0          0.0   \n",
       "\n",
       "   budget G PG-13  budget G R  budget G yr_old  budget PG^2  budget PG PG-13  \\\n",
       "0             0.0         0.0              0.0          0.0              0.0   \n",
       "1             0.0         0.0              0.0          0.0              0.0   \n",
       "2             0.0         0.0              0.0          0.0              0.0   \n",
       "3             0.0         0.0              0.0  260000000.0              0.0   \n",
       "4             0.0         0.0              0.0          0.0              0.0   \n",
       "\n",
       "   budget PG R  budget PG yr_old  budget PG-13^2  budget PG-13 R  \\\n",
       "0          0.0      0.000000e+00     250000000.0             0.0   \n",
       "1          0.0      0.000000e+00     263700000.0             0.0   \n",
       "2          0.0      0.000000e+00     258000000.0             0.0   \n",
       "3          0.0      1.560000e+09             0.0             0.0   \n",
       "4          0.0      0.000000e+00     250000000.0             0.0   \n",
       "\n",
       "   budget PG-13 yr_old  budget R^2  budget R yr_old  budget yr_old^2  \\\n",
       "0         1.000000e+09         0.0              0.0     4.000000e+09   \n",
       "1         1.054800e+09         0.0              0.0     4.219200e+09   \n",
       "2         2.322000e+09         0.0              0.0     2.089800e+10   \n",
       "3         0.000000e+00         0.0              0.0     9.360000e+09   \n",
       "4         2.500000e+08         0.0              0.0     2.500000e+08   \n",
       "\n",
       "   duration^3  duration^2 actor_1_facebook_likes  \\\n",
       "0   4410944.0                        726192000.0   \n",
       "1   2299968.0                         11151360.0   \n",
       "2   3796416.0                        584064000.0   \n",
       "3   1000000.0                          7990000.0   \n",
       "4   2803221.0                        516906000.0   \n",
       "\n",
       "   duration^2 cast_total_facebook_likes  duration^2 G  duration^2 PG  \\\n",
       "0                          2.871390e+09           0.0            0.0   \n",
       "1                          3.263515e+07           0.0            0.0   \n",
       "2                          1.120794e+09           0.0            0.0   \n",
       "3                          2.036000e+07           0.0        10000.0   \n",
       "4                          1.829052e+09           0.0            0.0   \n",
       "\n",
       "   duration^2 PG-13  duration^2 R  duration^2 yr_old  \\\n",
       "0           26896.0           0.0           107584.0   \n",
       "1           17424.0           0.0            69696.0   \n",
       "2           24336.0           0.0           219024.0   \n",
       "3               0.0           0.0            60000.0   \n",
       "4           19881.0           0.0            19881.0   \n",
       "\n",
       "   duration actor_1_facebook_likes^2  \\\n",
       "0                       1.195560e+11   \n",
       "1                       5.406720e+07   \n",
       "2                       8.985600e+10   \n",
       "3                       6.384010e+07   \n",
       "4                       9.531600e+10   \n",
       "\n",
       "   duration actor_1_facebook_likes cast_total_facebook_likes  \\\n",
       "0                                       4.727289e+11           \n",
       "1                                       1.582310e+08           \n",
       "2                                       1.724299e+11           \n",
       "3                                       1.626764e+08           \n",
       "4                                       3.372720e+11           \n",
       "\n",
       "   duration actor_1_facebook_likes G  duration actor_1_facebook_likes PG  \\\n",
       "0                                0.0                                 0.0   \n",
       "1                                0.0                                 0.0   \n",
       "2                                0.0                                 0.0   \n",
       "3                                0.0                             79900.0   \n",
       "4                                0.0                                 0.0   \n",
       "\n",
       "   duration actor_1_facebook_likes PG-13  duration actor_1_facebook_likes R  \\\n",
       "0                              4428000.0                                0.0   \n",
       "1                                84480.0                                0.0   \n",
       "2                              3744000.0                                0.0   \n",
       "3                                    0.0                                0.0   \n",
       "4                              3666000.0                                0.0   \n",
       "\n",
       "   duration actor_1_facebook_likes yr_old  \\\n",
       "0                              17712000.0   \n",
       "1                                337920.0   \n",
       "2                              33696000.0   \n",
       "3                                479400.0   \n",
       "4                               3666000.0   \n",
       "\n",
       "   duration cast_total_facebook_likes^2  duration cast_total_facebook_likes G  \\\n",
       "0                          1.869187e+12                                   0.0   \n",
       "1                          4.630730e+08                                   0.0   \n",
       "2                          3.308858e+11                                   0.0   \n",
       "3                          4.145296e+08                                   0.0   \n",
       "4                          1.193424e+12                                   0.0   \n",
       "\n",
       "   duration cast_total_facebook_likes PG  \\\n",
       "0                                    0.0   \n",
       "1                                    0.0   \n",
       "2                                    0.0   \n",
       "3                               203600.0   \n",
       "4                                    0.0   \n",
       "\n",
       "   duration cast_total_facebook_likes PG-13  \\\n",
       "0                                17508476.0   \n",
       "1                                  247236.0   \n",
       "2                                 7184580.0   \n",
       "3                                       0.0   \n",
       "4                                12972000.0   \n",
       "\n",
       "   duration cast_total_facebook_likes R  \\\n",
       "0                                   0.0   \n",
       "1                                   0.0   \n",
       "2                                   0.0   \n",
       "3                                   0.0   \n",
       "4                                   0.0   \n",
       "\n",
       "   duration cast_total_facebook_likes yr_old  duration G^2  duration G PG  \\\n",
       "0                                 70033904.0           0.0            0.0   \n",
       "1                                   988944.0           0.0            0.0   \n",
       "2                                 64661220.0           0.0            0.0   \n",
       "3                                  1221600.0           0.0            0.0   \n",
       "4                                 12972000.0           0.0            0.0   \n",
       "\n",
       "   duration G PG-13  duration G R  duration G yr_old  duration PG^2  \\\n",
       "0               0.0           0.0                0.0            0.0   \n",
       "1               0.0           0.0                0.0            0.0   \n",
       "2               0.0           0.0                0.0            0.0   \n",
       "3               0.0           0.0                0.0          100.0   \n",
       "4               0.0           0.0                0.0            0.0   \n",
       "\n",
       "   duration PG PG-13  duration PG R  duration PG yr_old  duration PG-13^2  \\\n",
       "0                0.0            0.0                 0.0             164.0   \n",
       "1                0.0            0.0                 0.0             132.0   \n",
       "2                0.0            0.0                 0.0             156.0   \n",
       "3                0.0            0.0               600.0               0.0   \n",
       "4                0.0            0.0                 0.0             141.0   \n",
       "\n",
       "   duration PG-13 R  duration PG-13 yr_old  duration R^2  duration R yr_old  \\\n",
       "0               0.0                  656.0           0.0                0.0   \n",
       "1               0.0                  528.0           0.0                0.0   \n",
       "2               0.0                 1404.0           0.0                0.0   \n",
       "3               0.0                    0.0           0.0                0.0   \n",
       "4               0.0                  141.0           0.0                0.0   \n",
       "\n",
       "   duration yr_old^2  actor_1_facebook_likes^3  \\\n",
       "0             2624.0              1.968300e+13   \n",
       "1             2112.0              2.621440e+08   \n",
       "2            12636.0              1.382400e+13   \n",
       "3             3600.0              5.100824e+08   \n",
       "4              141.0              1.757600e+13   \n",
       "\n",
       "   actor_1_facebook_likes^2 cast_total_facebook_likes  \\\n",
       "0                                       7.782731e+13    \n",
       "1                                       7.671808e+08    \n",
       "2                                       2.652768e+13    \n",
       "3                                       1.299784e+09    \n",
       "4                                       6.219200e+13    \n",
       "\n",
       "   actor_1_facebook_likes^2 G  actor_1_facebook_likes^2 PG  \\\n",
       "0                         0.0                          0.0   \n",
       "1                         0.0                          0.0   \n",
       "2                         0.0                          0.0   \n",
       "3                         0.0                     638401.0   \n",
       "4                         0.0                          0.0   \n",
       "\n",
       "   actor_1_facebook_likes^2 PG-13  actor_1_facebook_likes^2 R  \\\n",
       "0                     729000000.0                         0.0   \n",
       "1                        409600.0                         0.0   \n",
       "2                     576000000.0                         0.0   \n",
       "3                             0.0                         0.0   \n",
       "4                     676000000.0                         0.0   \n",
       "\n",
       "   actor_1_facebook_likes^2 yr_old  \\\n",
       "0                     2.916000e+09   \n",
       "1                     1.638400e+06   \n",
       "2                     5.184000e+09   \n",
       "3                     3.830406e+06   \n",
       "4                     6.760000e+08   \n",
       "\n",
       "   actor_1_facebook_likes cast_total_facebook_likes^2  \\\n",
       "0                                       3.077321e+14    \n",
       "1                                       2.245203e+09    \n",
       "2                                       5.090551e+13    \n",
       "3                                       3.312092e+09    \n",
       "4                                       2.200640e+14    \n",
       "\n",
       "   actor_1_facebook_likes cast_total_facebook_likes G  \\\n",
       "0                                                0.0    \n",
       "1                                                0.0    \n",
       "2                                                0.0    \n",
       "3                                                0.0    \n",
       "4                                                0.0    \n",
       "\n",
       "   actor_1_facebook_likes cast_total_facebook_likes PG  \\\n",
       "0                                                0.0     \n",
       "1                                                0.0     \n",
       "2                                                0.0     \n",
       "3                                          1626764.0     \n",
       "4                                                0.0     \n",
       "\n",
       "   actor_1_facebook_likes cast_total_facebook_likes PG-13  \\\n",
       "0                                       2.882493e+09        \n",
       "1                                       1.198720e+06        \n",
       "2                                       1.105320e+09        \n",
       "3                                       0.000000e+00        \n",
       "4                                       2.392000e+09        \n",
       "\n",
       "   actor_1_facebook_likes cast_total_facebook_likes R  \\\n",
       "0                                                0.0    \n",
       "1                                                0.0    \n",
       "2                                                0.0    \n",
       "3                                                0.0    \n",
       "4                                                0.0    \n",
       "\n",
       "   actor_1_facebook_likes cast_total_facebook_likes yr_old  \\\n",
       "0                                       1.152997e+10         \n",
       "1                                       4.794880e+06         \n",
       "2                                       9.947880e+09         \n",
       "3                                       9.760584e+06         \n",
       "4                                       2.392000e+09         \n",
       "\n",
       "   actor_1_facebook_likes G^2  actor_1_facebook_likes G PG  \\\n",
       "0                         0.0                          0.0   \n",
       "1                         0.0                          0.0   \n",
       "2                         0.0                          0.0   \n",
       "3                         0.0                          0.0   \n",
       "4                         0.0                          0.0   \n",
       "\n",
       "   actor_1_facebook_likes G PG-13  actor_1_facebook_likes G R  \\\n",
       "0                             0.0                         0.0   \n",
       "1                             0.0                         0.0   \n",
       "2                             0.0                         0.0   \n",
       "3                             0.0                         0.0   \n",
       "4                             0.0                         0.0   \n",
       "\n",
       "   actor_1_facebook_likes G yr_old  actor_1_facebook_likes PG^2  \\\n",
       "0                              0.0                          0.0   \n",
       "1                              0.0                          0.0   \n",
       "2                              0.0                          0.0   \n",
       "3                              0.0                        799.0   \n",
       "4                              0.0                          0.0   \n",
       "\n",
       "   actor_1_facebook_likes PG PG-13  actor_1_facebook_likes PG R  \\\n",
       "0                              0.0                          0.0   \n",
       "1                              0.0                          0.0   \n",
       "2                              0.0                          0.0   \n",
       "3                              0.0                          0.0   \n",
       "4                              0.0                          0.0   \n",
       "\n",
       "   actor_1_facebook_likes PG yr_old  actor_1_facebook_likes PG-13^2  \\\n",
       "0                               0.0                         27000.0   \n",
       "1                               0.0                           640.0   \n",
       "2                               0.0                         24000.0   \n",
       "3                            4794.0                             0.0   \n",
       "4                               0.0                         26000.0   \n",
       "\n",
       "   actor_1_facebook_likes PG-13 R  actor_1_facebook_likes PG-13 yr_old  \\\n",
       "0                             0.0                             108000.0   \n",
       "1                             0.0                               2560.0   \n",
       "2                             0.0                             216000.0   \n",
       "3                             0.0                                  0.0   \n",
       "4                             0.0                              26000.0   \n",
       "\n",
       "   actor_1_facebook_likes R^2  actor_1_facebook_likes R yr_old  \\\n",
       "0                         0.0                              0.0   \n",
       "1                         0.0                              0.0   \n",
       "2                         0.0                              0.0   \n",
       "3                         0.0                              0.0   \n",
       "4                         0.0                              0.0   \n",
       "\n",
       "   actor_1_facebook_likes yr_old^2  cast_total_facebook_likes^3  \\\n",
       "0                         432000.0                 1.216784e+15   \n",
       "1                          10240.0                 6.570726e+09   \n",
       "2                        1944000.0                 9.768556e+13   \n",
       "3                          28764.0                 8.439823e+09   \n",
       "4                          26000.0                 7.786880e+14   \n",
       "\n",
       "   cast_total_facebook_likes^2 G  cast_total_facebook_likes^2 PG  \\\n",
       "0                            0.0                             0.0   \n",
       "1                            0.0                             0.0   \n",
       "2                            0.0                             0.0   \n",
       "3                            0.0                       4145296.0   \n",
       "4                            0.0                             0.0   \n",
       "\n",
       "   cast_total_facebook_likes^2 PG-13  cast_total_facebook_likes^2 R  \\\n",
       "0                       1.139748e+10                            0.0   \n",
       "1                       3.508129e+06                            0.0   \n",
       "2                       2.121063e+09                            0.0   \n",
       "3                       0.000000e+00                            0.0   \n",
       "4                       8.464000e+09                            0.0   \n",
       "\n",
       "   cast_total_facebook_likes^2 yr_old  cast_total_facebook_likes G^2  \\\n",
       "0                        4.558994e+10                            0.0   \n",
       "1                        1.403252e+07                            0.0   \n",
       "2                        1.908957e+10                            0.0   \n",
       "3                        2.487178e+07                            0.0   \n",
       "4                        8.464000e+09                            0.0   \n",
       "\n",
       "   cast_total_facebook_likes G PG  cast_total_facebook_likes G PG-13  \\\n",
       "0                             0.0                                0.0   \n",
       "1                             0.0                                0.0   \n",
       "2                             0.0                                0.0   \n",
       "3                             0.0                                0.0   \n",
       "4                             0.0                                0.0   \n",
       "\n",
       "   cast_total_facebook_likes G R  cast_total_facebook_likes G yr_old  \\\n",
       "0                            0.0                                 0.0   \n",
       "1                            0.0                                 0.0   \n",
       "2                            0.0                                 0.0   \n",
       "3                            0.0                                 0.0   \n",
       "4                            0.0                                 0.0   \n",
       "\n",
       "   cast_total_facebook_likes PG^2  cast_total_facebook_likes PG PG-13  \\\n",
       "0                             0.0                                 0.0   \n",
       "1                             0.0                                 0.0   \n",
       "2                             0.0                                 0.0   \n",
       "3                          2036.0                                 0.0   \n",
       "4                             0.0                                 0.0   \n",
       "\n",
       "   cast_total_facebook_likes PG R  cast_total_facebook_likes PG yr_old  \\\n",
       "0                             0.0                                  0.0   \n",
       "1                             0.0                                  0.0   \n",
       "2                             0.0                                  0.0   \n",
       "3                             0.0                              12216.0   \n",
       "4                             0.0                                  0.0   \n",
       "\n",
       "   cast_total_facebook_likes PG-13^2  cast_total_facebook_likes PG-13 R  \\\n",
       "0                           106759.0                                0.0   \n",
       "1                             1873.0                                0.0   \n",
       "2                            46055.0                                0.0   \n",
       "3                                0.0                                0.0   \n",
       "4                            92000.0                                0.0   \n",
       "\n",
       "   cast_total_facebook_likes PG-13 yr_old  cast_total_facebook_likes R^2  \\\n",
       "0                                427036.0                            0.0   \n",
       "1                                  7492.0                            0.0   \n",
       "2                                414495.0                            0.0   \n",
       "3                                     0.0                            0.0   \n",
       "4                                 92000.0                            0.0   \n",
       "\n",
       "   cast_total_facebook_likes R yr_old  cast_total_facebook_likes yr_old^2  \\\n",
       "0                                 0.0                           1708144.0   \n",
       "1                                 0.0                             29968.0   \n",
       "2                                 0.0                           3730455.0   \n",
       "3                                 0.0                             73296.0   \n",
       "4                                 0.0                             92000.0   \n",
       "\n",
       "   G^3  G^2 PG  G^2 PG-13  G^2 R  G^2 yr_old  G PG^2  G PG PG-13  G PG R  \\\n",
       "0  0.0     0.0        0.0    0.0         0.0     0.0         0.0     0.0   \n",
       "1  0.0     0.0        0.0    0.0         0.0     0.0         0.0     0.0   \n",
       "2  0.0     0.0        0.0    0.0         0.0     0.0         0.0     0.0   \n",
       "3  0.0     0.0        0.0    0.0         0.0     0.0         0.0     0.0   \n",
       "4  0.0     0.0        0.0    0.0         0.0     0.0         0.0     0.0   \n",
       "\n",
       "   G PG yr_old  G PG-13^2  G PG-13 R  G PG-13 yr_old  G R^2  G R yr_old  \\\n",
       "0          0.0        0.0        0.0             0.0    0.0         0.0   \n",
       "1          0.0        0.0        0.0             0.0    0.0         0.0   \n",
       "2          0.0        0.0        0.0             0.0    0.0         0.0   \n",
       "3          0.0        0.0        0.0             0.0    0.0         0.0   \n",
       "4          0.0        0.0        0.0             0.0    0.0         0.0   \n",
       "\n",
       "   G yr_old^2  PG^3  PG^2 PG-13  PG^2 R  PG^2 yr_old  PG PG-13^2  PG PG-13 R  \\\n",
       "0         0.0   0.0         0.0     0.0          0.0         0.0         0.0   \n",
       "1         0.0   0.0         0.0     0.0          0.0         0.0         0.0   \n",
       "2         0.0   0.0         0.0     0.0          0.0         0.0         0.0   \n",
       "3         0.0   1.0         0.0     0.0          6.0         0.0         0.0   \n",
       "4         0.0   0.0         0.0     0.0          0.0         0.0         0.0   \n",
       "\n",
       "   PG PG-13 yr_old  PG R^2  PG R yr_old  PG yr_old^2  PG-13^3  PG-13^2 R  \\\n",
       "0              0.0     0.0          0.0          0.0      1.0        0.0   \n",
       "1              0.0     0.0          0.0          0.0      1.0        0.0   \n",
       "2              0.0     0.0          0.0          0.0      1.0        0.0   \n",
       "3              0.0     0.0          0.0         36.0      0.0        0.0   \n",
       "4              0.0     0.0          0.0          0.0      1.0        0.0   \n",
       "\n",
       "   PG-13^2 yr_old  PG-13 R^2  PG-13 R yr_old  PG-13 yr_old^2  R^3  R^2 yr_old  \\\n",
       "0             4.0        0.0             0.0            16.0  0.0         0.0   \n",
       "1             4.0        0.0             0.0            16.0  0.0         0.0   \n",
       "2             9.0        0.0             0.0            81.0  0.0         0.0   \n",
       "3             0.0        0.0             0.0             0.0  0.0         0.0   \n",
       "4             1.0        0.0             0.0             1.0  0.0         0.0   \n",
       "\n",
       "   R yr_old^2  yr_old^3  \n",
       "0         0.0      64.0  \n",
       "1         0.0      64.0  \n",
       "2         0.0     729.0  \n",
       "3         0.0     216.0  \n",
       "4         0.0       1.0  "
      ]
     },
     "execution_count": 50,
     "metadata": {},
     "output_type": "execute_result"
    }
   ],
   "source": [
    "df_poly3.head()"
   ]
  },
  {
   "cell_type": "code",
   "execution_count": 51,
   "metadata": {},
   "outputs": [
    {
     "name": "stdout",
     "output_type": "stream",
     "text": [
      "R^2:  0.27313679425293236\n"
     ]
    }
   ],
   "source": [
    "\n",
    "#instantiate a linear regression object\n",
    "lm_3 = LinearRegression()\n",
    "\n",
    "#fit the linear regression to the data\n",
    "lm_3 = lm_3.fit(df_poly3, target)\n",
    "\n",
    "#access output\n",
    "# print(lm_3.intercept_)\n",
    "# print(lm_3.coef_)\n",
    "print(\"R^2: \", lm_3.score(df_poly3, target))"
   ]
  },
  {
   "cell_type": "markdown",
   "metadata": {
    "slideshow": {
     "slide_type": "slide"
    }
   },
   "source": [
    "# Model Evaluation"
   ]
  },
  {
   "cell_type": "markdown",
   "metadata": {
    "slideshow": {
     "slide_type": "subslide"
    }
   },
   "source": [
    "Agenda:\n",
    "- R^2 \n",
    "- Bias versus Variance\n",
    "- Train Test Split\n",
    "- Model Evaluation"
   ]
  },
  {
   "cell_type": "markdown",
   "metadata": {},
   "source": [
    "\n",
    "##  Coefficient of Determination ($R^2$)\n",
    "\n",
    "The _coefficient of determination_, is a measure of how well the model fits the data.\n",
    "\n",
    "It is a statistic used in the context of statistical models whose main purpose is either the prediction of future outcomes or the testing of hypotheses, on the basis of other related information. It provides a measure of how well observed outcomes are replicated by the model, based on the proportion of total variation of outcomes explained by the model\n",
    "\n",
    "$R^2$ for a model is ultimately a _relational_ notion. It's a measure of goodness of fit _relative_ to a (bad) baseline model. This bad baseline model is simply the horizontal line $y = \\mu_Y$, for dependent variable $Y$.\n",
    "\n",
    "\n",
    "$$\\text{TSS }= \\text{ESS} + \\text{RSS }$$\n",
    "\n",
    "- TSS or SST = Total Sum of Squares \n",
    "- ESS or SSE = Explained Sum of Squares\n",
    "- RSS or SSR = Residual Sum of Squares\n",
    "\n",
    "The actual calculation of $R^2$ is: <br/> $$\\Large R^2= \\frac{\\Sigma_i(\\bar{y} - \\hat{y}_i)^2}{\\Sigma_i(y_i - \\bar{y})^2}=1- \\frac{\\Sigma_i(y_i - \\hat{y}_i)^2}{\\Sigma_i(y_i - \\bar{y})^2}$$.\n",
    "\n",
    "$R^2$ takes values between 0 and 1.\n",
    "\n",
    "$R^2$ is a measure of how much variation in the dependent variable your model explains.\n"
   ]
  },
  {
   "cell_type": "markdown",
   "metadata": {},
   "source": [
    "<img src='https://pbs.twimg.com/media/D-Gu7E0WsAANhLY.png' width =\"700\">"
   ]
  },
  {
   "cell_type": "markdown",
   "metadata": {},
   "source": [
    "## What Is the Adjusted R-squared?\n",
    "\n",
    "The adjusted R-squared compares the explanatory power of regression models that contain different numbers of predictors.\n",
    "\n",
    "Suppose you compare a five-predictor model with a higher R-squared to a one-predictor model. Does the five predictor model have a higher R-squared because it’s better? Or is the R-squared higher because it has more predictors? Simply compare the adjusted R-squared values to find out!\n",
    "\n",
    "$$Adjusted R^2=1-\\left(\\frac{n-1}{n-p}\\right)(1-R^2)$$\n",
    "\n",
    "Where:\n",
    "\n",
    "n = sample size   \n",
    "\n",
    "p  = the number of independent variables in the regression equation\n",
    "\n",
    "\n",
    "- The adjusted R-squared is a modified version of R-squared that has been adjusted for the number of predictors in the model. \n",
    "\n",
    "- The adjusted R-squared increases only if the new term improves the model more than would be expected by chance. It decreases when a predictor improves the model by less than expected by chance. \n",
    "\n",
    "- It is always lower than the R-squared."
   ]
  },
  {
   "cell_type": "markdown",
   "metadata": {},
   "source": [
    "## Probabilistic Model Selection\n",
    "Probabilistic model selection (or “information criteria”) provides an analytical technique for scoring and choosing among candidate models.\n",
    "\n",
    "Models are scored both on their performance on the training dataset and based on the complexity of the model.\n",
    "\n",
    "- **Model Performance:** How well a candidate model has performed on the training dataset.\n",
    "- **Model Complexity:** How complicated the trained candidate model is after training.\n",
    "\n",
    "Model performance may be evaluated using a probabilistic framework, such as log-likelihood under the framework of maximum likelihood estimation. Model complexity may be evaluated as the number of degrees of freedom or parameters in the model."
   ]
  },
  {
   "cell_type": "markdown",
   "metadata": {},
   "source": [
    "### Akaike Information Criterion vs. Bayesian Information Criterion\n",
    "\n",
    "The model with the lower AIC or BIC should be selected. \n",
    "\n",
    "Despite various subtle theoretical differences, their only difference in practice is the size of the penalty; BIC penalizes model complexity more heavily.\n",
    "\n",
    "Compared to the BIC method (below), the AIC statistic penalizes complex models less, meaning that it may put more emphasis on model performance on the training dataset, and, in turn, select more complex models.\n",
    "\n",
    "A downside of BIC is that for smaller, less representative training datasets, it is more likely to choose models that are too simple."
   ]
  },
  {
   "cell_type": "markdown",
   "metadata": {},
   "source": [
    "https://machinelearningmastery.com/probabilistic-model-selection-measures/\n",
    "\n",
    "https://www.methodology.psu.edu/resources/AIC-vs-BIC/"
   ]
  },
  {
   "cell_type": "markdown",
   "metadata": {
    "slideshow": {
     "slide_type": "subslide"
    }
   },
   "source": [
    "## The Machine Learning Process\n",
    "\n",
    "1. Look at the big picture. \n",
    "2. Get the data. \n",
    "3. Discover and visualize the data to gain insights. \n",
    "4. Prepare the data for Machine Learning algorithms. \n",
    "5. Select a model and train it. \n",
    "6. Fine-tune your model. \n",
    "7. Present your solution. \n",
    "8. Launch, monitor, and maintain your system.\n"
   ]
  },
  {
   "cell_type": "markdown",
   "metadata": {},
   "source": [
    "<img src='https://www.kdnuggets.com/wp-content/uploads/crisp-dm-4-problems-fig1.png' width =\"400\">"
   ]
  },
  {
   "cell_type": "markdown",
   "metadata": {
    "slideshow": {
     "slide_type": "subslide"
    }
   },
   "source": [
    "**A proper machine learning workflow includes:**\n",
    "\n",
    "* Separate training and test sets\n",
    "* Trying appropriate algorithms (No Free Lunch)\n",
    "* Fitting model parameters\n",
    "* Tuning impactful hyperparameters\n",
    "* Proper performance metrics\n",
    "* Systematic cross-validation"
   ]
  },
  {
   "cell_type": "markdown",
   "metadata": {},
   "source": [
    "# Prediction Evaluation"
   ]
  },
  {
   "cell_type": "markdown",
   "metadata": {
    "slideshow": {
     "slide_type": "slide"
    }
   },
   "source": [
    "## Bias - Variance \n",
    "\n",
    "There are 3 types of prediction error: bias, variance, and irreducible error.\n",
    "\n",
    "\n",
    "**Total Error = Bias + Variance + Irreducible Error**"
   ]
  },
  {
   "cell_type": "markdown",
   "metadata": {
    "slideshow": {
     "slide_type": "subslide"
    }
   },
   "source": [
    "### The Bias-Variance Tradeoff\n",
    "\n",
    "\n",
    "**Let's do a thought experiment:**\n",
    "\n",
    "1. Imagine you've collected 5 different training sets for the same problem.\n",
    "2. Now imagine using one algorithm to train 5 models, one for each of your training sets.\n",
    "3. Bias vs. variance refers to the accuracy vs. consistency of the models trained by your algorithm."
   ]
  },
  {
   "cell_type": "markdown",
   "metadata": {
    "slideshow": {
     "slide_type": "fragment"
    }
   },
   "source": [
    "<img src='resources/Bias-vs.-Variance-v5-2-darts.png' width=500 />"
   ]
  },
  {
   "cell_type": "markdown",
   "metadata": {
    "slideshow": {
     "slide_type": "subslide"
    }
   },
   "source": [
    "**High bias** algorithms tend to be less complex, with simple or rigid underlying structure.\n",
    "\n",
    "+ They train models that are consistent, but inaccurate on average.\n",
    "+ These include linear or parametric algorithms such as regression and naive Bayes.\n",
    "\n",
    "On the other hand, **high variance** algorithms tend to be more complex, with flexible underlying structure.\n",
    "\n",
    "+ They train models that are accurate on average, but inconsistent.\n",
    "+ These include non-linear or non-parametric algorithms such as decision trees and nearest neighbors."
   ]
  },
  {
   "cell_type": "markdown",
   "metadata": {
    "slideshow": {
     "slide_type": "subslide"
    }
   },
   "source": [
    "### Bias-Variance Tradeoff\n",
    "\n",
    "This tradeoff in complexity is why there's a tradeoff in bias and variance - an algorithm cannot simultaneously be more complex and less complex.\n",
    "\n",
    "**Total Error = Bias^2 + Variance + Irreducible Error**"
   ]
  },
  {
   "cell_type": "markdown",
   "metadata": {
    "slideshow": {
     "slide_type": "fragment"
    }
   },
   "source": [
    "\n",
    "<img src='resources/Bias-vs.-Variance-v4-chart.png' width=500 />"
   ]
  },
  {
   "cell_type": "markdown",
   "metadata": {
    "slideshow": {
     "slide_type": "subslide"
    }
   },
   "source": [
    "### Error from Bias\n",
    "\n",
    "**Bias** is the difference between your model's expected predictions and the true values."
   ]
  },
  {
   "cell_type": "markdown",
   "metadata": {
    "slideshow": {
     "slide_type": "fragment"
    }
   },
   "source": [
    "<img src='resources/noisy-sine-linear.png' width=500 />"
   ]
  },
  {
   "cell_type": "markdown",
   "metadata": {
    "slideshow": {
     "slide_type": "subslide"
    }
   },
   "source": [
    "### Error from Variance\n",
    "\n",
    "**Variance** refers to your algorithm's sensitivity to specific sets of training data.\n",
    "\n"
   ]
  },
  {
   "cell_type": "markdown",
   "metadata": {
    "slideshow": {
     "slide_type": "fragment"
    }
   },
   "source": [
    "<img src='resources/noisy-sine-decision-tree.png' width=500/>"
   ]
  },
  {
   "cell_type": "markdown",
   "metadata": {},
   "source": [
    "Which one is overfit and which one is underfit?"
   ]
  },
  {
   "cell_type": "markdown",
   "metadata": {},
   "source": [
    "We want to try to find the proper balance of variance and bias"
   ]
  },
  {
   "cell_type": "markdown",
   "metadata": {
    "slideshow": {
     "slide_type": "subslide"
    }
   },
   "source": [
    "<img src='resources/noisy-sine-third-order-polynomial.png' width=500 />\n"
   ]
  },
  {
   "cell_type": "markdown",
   "metadata": {
    "slideshow": {
     "slide_type": "slide"
    }
   },
   "source": [
    "# Train Test Split\n",
    "\n",
    "**How do we know if our model is overfitting or underfitting?**\n",
    "\n"
   ]
  },
  {
   "cell_type": "markdown",
   "metadata": {
    "slideshow": {
     "slide_type": "fragment"
    }
   },
   "source": [
    "If our model is not performing well on the training  data, we are probably underfitting it.  \n",
    "\n",
    "\n",
    "To know if our  model is overfitting the data, we need  to test our model on unseen data. \n",
    "We then measure our performance on the unseen data. \n",
    "\n",
    "If the model performs way worse on the  unseen data, it is probably  overfitting the data."
   ]
  },
  {
   "cell_type": "markdown",
   "metadata": {
    "slideshow": {
     "slide_type": "subslide"
    }
   },
   "source": [
    "The previous module introduced the idea of dividing your data set into two subsets:\n",
    "\n",
    "* **training set** —a subset to train a model.\n",
    "* **test set**—a subset to test the trained model.\n",
    "\n",
    "You could imagine slicing the single data set as follows:"
   ]
  },
  {
   "cell_type": "markdown",
   "metadata": {
    "slideshow": {
     "slide_type": "fragment"
    }
   },
   "source": [
    "<img src='resources/testtrainsplit.png' width =550 />"
   ]
  },
  {
   "cell_type": "markdown",
   "metadata": {
    "slideshow": {
     "slide_type": "fragment"
    }
   },
   "source": [
    "**Never train on test data.** If you are seeing surprisingly good results on your evaluation metrics, it might be a sign that you are accidentally training on the test set. "
   ]
  },
  {
   "cell_type": "markdown",
   "metadata": {
    "slideshow": {
     "slide_type": "subslide"
    }
   },
   "source": [
    "\n",
    "\n",
    "<img src='https://developers.google.com/machine-learning/crash-course/images/WorkflowWithTestSet.svg' width=500/>"
   ]
  },
  {
   "cell_type": "markdown",
   "metadata": {
    "slideshow": {
     "slide_type": "slide"
    }
   },
   "source": [
    "## Model Evaluation Metrics for Regression"
   ]
  },
  {
   "cell_type": "markdown",
   "metadata": {
    "slideshow": {
     "slide_type": "subslide"
    }
   },
   "source": [
    "**Mean Absolute Error** (MAE) is the mean of the absolute value of the errors:\n",
    "\n"
   ]
  },
  {
   "cell_type": "markdown",
   "metadata": {
    "slideshow": {
     "slide_type": "fragment"
    }
   },
   "source": [
    "![alt text](resources/mae.png)"
   ]
  },
  {
   "cell_type": "markdown",
   "metadata": {
    "slideshow": {
     "slide_type": "subslide"
    }
   },
   "source": [
    "**Mean Squared Error** (MSE) is the mean of the squared errors:"
   ]
  },
  {
   "cell_type": "markdown",
   "metadata": {
    "slideshow": {
     "slide_type": "fragment"
    }
   },
   "source": [
    "![alt text](resources/mse.png)"
   ]
  },
  {
   "cell_type": "markdown",
   "metadata": {
    "slideshow": {
     "slide_type": "subslide"
    }
   },
   "source": [
    "**Root Mean Squared Error (RMSE)** is the square root of the mean of the squared errors:\n",
    "\n"
   ]
  },
  {
   "cell_type": "markdown",
   "metadata": {
    "slideshow": {
     "slide_type": "fragment"
    }
   },
   "source": [
    "![alt text](resources/rmse.png)"
   ]
  },
  {
   "cell_type": "markdown",
   "metadata": {
    "slideshow": {
     "slide_type": "subslide"
    }
   },
   "source": [
    "MSE is more popular than MAE because MSE \"punishes\" larger errors. \n",
    "\n",
    "But, RMSE is even more popular than MSE because RMSE is interpretable in the \"y\" units.\n",
    "\n",
    "Additionally, I like to divide the RMSE by the standard deviation to  convert it to something similiar to a Z-Score."
   ]
  },
  {
   "cell_type": "markdown",
   "metadata": {
    "slideshow": {
     "slide_type": "slide"
    }
   },
   "source": [
    "# Practicum"
   ]
  },
  {
   "cell_type": "markdown",
   "metadata": {},
   "source": [
    "### Identify my features and target variable"
   ]
  },
  {
   "cell_type": "code",
   "execution_count": 53,
   "metadata": {},
   "outputs": [
    {
     "data": {
      "text/plain": [
       "['budget',\n",
       " 'duration',\n",
       " 'actor_1_facebook_likes',\n",
       " 'cast_total_facebook_likes',\n",
       " 'G',\n",
       " 'PG',\n",
       " 'PG-13',\n",
       " 'R',\n",
       " 'yr_old']"
      ]
     },
     "execution_count": 53,
     "metadata": {},
     "output_type": "execute_result"
    }
   ],
   "source": [
    "features"
   ]
  },
  {
   "cell_type": "code",
   "execution_count": 54,
   "metadata": {},
   "outputs": [
    {
     "data": {
      "text/plain": [
       "Index(['budget', 'duration', 'actor_1_facebook_likes',\n",
       "       'cast_total_facebook_likes', 'G', 'PG', 'PG-13', 'R', 'yr_old'],\n",
       "      dtype='object')"
      ]
     },
     "execution_count": 54,
     "metadata": {},
     "output_type": "execute_result"
    }
   ],
   "source": [
    "df_features.columns"
   ]
  },
  {
   "cell_type": "markdown",
   "metadata": {},
   "source": [
    "### Create Train and Test Split\n",
    "\n",
    "The random state variable makes it so you can always have the same 'random' split"
   ]
  },
  {
   "cell_type": "code",
   "execution_count": 55,
   "metadata": {
    "slideshow": {
     "slide_type": "subslide"
    }
   },
   "outputs": [
    {
     "name": "stdout",
     "output_type": "stream",
     "text": [
      "Training set - Features:  (1864, 9) Target:  (1864,)\n",
      "Training set - Features:  (466, 9) Target:  (466,)\n"
     ]
    }
   ],
   "source": [
    "#improt train_test_split from sklearn package\n",
    "from sklearn.model_selection import train_test_split\n",
    "\n",
    "#call train_test_split on the data and capture the results\n",
    "X_train, X_test, y_train, y_test = train_test_split(df_features, target, random_state=34,test_size=0.2)\n",
    "\n",
    "#check the shape of the results\n",
    "print(\"Training set - Features: \", X_train.shape, \"Target: \", y_train.shape)\n",
    "print(\"Training set - Features: \", X_test.shape, \"Target: \",y_test.shape)"
   ]
  },
  {
   "cell_type": "code",
   "execution_count": 27,
   "metadata": {
    "slideshow": {
     "slide_type": "subslide"
    }
   },
   "outputs": [
    {
     "name": "stdout",
     "output_type": "stream",
     "text": [
      "-11638661.366281264\n",
      "[ 8.81223377e-01  2.64424381e+05 -1.96995508e+03  1.89984277e+03\n",
      "  3.37968170e+07 -1.94000532e+07  1.68475422e+06 -5.18353829e+06\n",
      " -1.08979797e+07 -1.08042470e+04]\n"
     ]
    }
   ],
   "source": [
    "# fit a model\n",
    "from sklearn import linear_model\n",
    "\n",
    "#instantiate a linear regression object\n",
    "lm = linear_model.LinearRegression()\n",
    "\n",
    "#fit the linear regression to the data\n",
    "lm = lm.fit(X_train, y_train)\n",
    "\n",
    "\n",
    "print(lm.intercept_)\n",
    "print(lm.coef_)"
   ]
  },
  {
   "cell_type": "markdown",
   "metadata": {},
   "source": [
    "### How well did our model perform\n",
    "\n",
    "Previously we have looked at the R^2 of the model  to  determine  how good of a model this is.  "
   ]
  },
  {
   "cell_type": "code",
   "execution_count": 28,
   "metadata": {},
   "outputs": [
    {
     "name": "stdout",
     "output_type": "stream",
     "text": [
      "R^2 Score: 0.5026270705514395\n"
     ]
    }
   ],
   "source": [
    "print (\"R^2 Score:\", lm.score(X_train, y_train))\n"
   ]
  },
  {
   "cell_type": "code",
   "execution_count": 29,
   "metadata": {},
   "outputs": [],
   "source": [
    "y_train_pred = lm.predict(X_train)"
   ]
  },
  {
   "cell_type": "code",
   "execution_count": 30,
   "metadata": {},
   "outputs": [
    {
     "name": "stdout",
     "output_type": "stream",
     "text": [
      "Mean Absolute Error: 33486346.49121705\n",
      "Mean Squared Error: 2541143374705899.5\n",
      "Root Mean Squared Error: 50409754.7574465\n"
     ]
    }
   ],
   "source": [
    "#import the metrics module from sklearn\n",
    "from sklearn import metrics\n",
    "\n",
    "train_mae = metrics.mean_absolute_error(y_train, y_train_pred)\n",
    "train_mse = metrics.mean_squared_error(y_train, y_train_pred)\n",
    "train_rmse = np.sqrt(metrics.mean_squared_error(y_train, y_train_pred))\n",
    "\n",
    "\n",
    "print('Mean Absolute Error:', train_mae )\n",
    "print('Mean Squared Error:',  train_mse)\n",
    "print('Root Mean Squared Error:' , train_rmse)"
   ]
  },
  {
   "cell_type": "markdown",
   "metadata": {},
   "source": [
    "***Sidenote:*** When using MAE or RMSE it can be difficult to understand how 'good' or 'bad' a model is because those numbers are dependent on the scale of the target variable. One way to handle this is to devide those metrics by the standard deviation of the target variable.  Now your MAE and RMSE are given in terms of Z-scores. This is not an 'official' metric, but is a good way to help give context to a score.  "
   ]
  },
  {
   "cell_type": "code",
   "execution_count": 31,
   "metadata": {},
   "outputs": [
    {
     "name": "stdout",
     "output_type": "stream",
     "text": [
      "Z-Score of Mean Absolute Error: 0.4862079275721459\n",
      "Z-Score of Root Mean Squared Error: 0.7319288294549147\n"
     ]
    }
   ],
   "source": [
    "price_std = target.std()\n",
    "\n",
    "print('Z-Score of Mean Absolute Error:', train_mae/price_std )\n",
    "print('Z-Score of Root Mean Squared Error:' , train_rmse/price_std)"
   ]
  },
  {
   "cell_type": "markdown",
   "metadata": {},
   "source": [
    "### Predicting the Test Set"
   ]
  },
  {
   "cell_type": "code",
   "execution_count": 56,
   "metadata": {},
   "outputs": [],
   "source": [
    "y_pred = lm.predict(X_test)"
   ]
  },
  {
   "cell_type": "code",
   "execution_count": 57,
   "metadata": {
    "slideshow": {
     "slide_type": "fragment"
    }
   },
   "outputs": [
    {
     "name": "stdout",
     "output_type": "stream",
     "text": [
      "Score: 0.32595126791258056\n"
     ]
    }
   ],
   "source": [
    "print (\"Score:\", lm.score(X_test, y_test))\n"
   ]
  },
  {
   "cell_type": "code",
   "execution_count": 58,
   "metadata": {
    "slideshow": {
     "slide_type": "fragment"
    }
   },
   "outputs": [
    {
     "name": "stdout",
     "output_type": "stream",
     "text": [
      "Mean Absolute Error:32341508.457493342\n",
      "Mean Squared Error:2189911459357374.0\n",
      "Root Mean Squared Error:46796489.8187607\n"
     ]
    }
   ],
   "source": [
    "test_mae = metrics.mean_absolute_error(y_test, y_pred)\n",
    "test_rmse = np.sqrt(metrics.mean_squared_error(y_test, y_pred))\n",
    "\n",
    "\n",
    "print('Mean Absolute Error:' + str(metrics.mean_absolute_error(y_test, y_pred)))\n",
    "print('Mean Squared Error:' + str(metrics.mean_squared_error(y_test, y_pred)))\n",
    "print('Root Mean Squared Error:' + str(np.sqrt(metrics.mean_squared_error(y_test, y_pred))))"
   ]
  },
  {
   "cell_type": "code",
   "execution_count": 59,
   "metadata": {},
   "outputs": [
    {
     "ename": "NameError",
     "evalue": "name 'price_std' is not defined",
     "output_type": "error",
     "traceback": [
      "\u001b[1;31m---------------------------------------------------------------------------\u001b[0m",
      "\u001b[1;31mNameError\u001b[0m                                 Traceback (most recent call last)",
      "\u001b[1;32m<ipython-input-59-0389b72e8b9e>\u001b[0m in \u001b[0;36m<module>\u001b[1;34m\u001b[0m\n\u001b[1;32m----> 1\u001b[1;33m \u001b[0mprint\u001b[0m\u001b[1;33m(\u001b[0m\u001b[1;34m'Mean Absolute Error  Z:'\u001b[0m\u001b[1;33m,\u001b[0m \u001b[0mtest_mae\u001b[0m\u001b[1;33m/\u001b[0m\u001b[0mprice_std\u001b[0m \u001b[1;33m)\u001b[0m\u001b[1;33m\u001b[0m\u001b[1;33m\u001b[0m\u001b[0m\n\u001b[0m\u001b[0;32m      2\u001b[0m \u001b[0mprint\u001b[0m\u001b[1;33m(\u001b[0m\u001b[1;34m'Root Mean Squared Error Z:'\u001b[0m \u001b[1;33m,\u001b[0m \u001b[0mtest_rmse\u001b[0m\u001b[1;33m/\u001b[0m\u001b[0mprice_std\u001b[0m\u001b[1;33m)\u001b[0m\u001b[1;33m\u001b[0m\u001b[1;33m\u001b[0m\u001b[0m\n",
      "\u001b[1;31mNameError\u001b[0m: name 'price_std' is not defined"
     ]
    }
   ],
   "source": [
    "print('Mean Absolute Error  Z:', test_mae/price_std )\n",
    "print('Root Mean Squared Error Z:' , test_rmse/price_std)"
   ]
  },
  {
   "cell_type": "markdown",
   "metadata": {},
   "source": [
    "### Comparing our Model's performance on training data versus test data."
   ]
  },
  {
   "cell_type": "code",
   "execution_count": 60,
   "metadata": {},
   "outputs": [
    {
     "ename": "NameError",
     "evalue": "name 'train_rmse' is not defined",
     "output_type": "error",
     "traceback": [
      "\u001b[1;31m---------------------------------------------------------------------------\u001b[0m",
      "\u001b[1;31mNameError\u001b[0m                                 Traceback (most recent call last)",
      "\u001b[1;32m<ipython-input-60-75a7be1cf1ac>\u001b[0m in \u001b[0;36m<module>\u001b[1;34m\u001b[0m\n\u001b[1;32m----> 1\u001b[1;33m \u001b[0mprint\u001b[0m\u001b[1;33m(\u001b[0m\u001b[1;34m'Training: '\u001b[0m\u001b[1;33m,\u001b[0m \u001b[0mint\u001b[0m\u001b[1;33m(\u001b[0m\u001b[0mtrain_rmse\u001b[0m\u001b[1;33m)\u001b[0m\u001b[1;33m,\u001b[0m \u001b[1;34m\"vs. Testing: \"\u001b[0m\u001b[1;33m,\u001b[0m \u001b[0mint\u001b[0m\u001b[1;33m(\u001b[0m\u001b[0mtest_rmse\u001b[0m\u001b[1;33m)\u001b[0m\u001b[1;33m)\u001b[0m\u001b[1;33m\u001b[0m\u001b[1;33m\u001b[0m\u001b[0m\n\u001b[0m",
      "\u001b[1;31mNameError\u001b[0m: name 'train_rmse' is not defined"
     ]
    }
   ],
   "source": [
    "print('Training: ', int(train_rmse), \"vs. Testing: \", int(test_rmse))"
   ]
  },
  {
   "cell_type": "markdown",
   "metadata": {},
   "source": [
    "## Check the assumptions of linear regression\n",
    "\n",
    "Article expalaining those assumptions and how to check them. \n",
    "\n",
    "https://towardsdatascience.com/assumptions-of-linear-regression-5d87c347140"
   ]
  },
  {
   "cell_type": "markdown",
   "metadata": {},
   "source": [
    "- Check to see if our errors are normally distributed"
   ]
  },
  {
   "cell_type": "code",
   "execution_count": 61,
   "metadata": {},
   "outputs": [],
   "source": [
    "residuals = (y_test- y_pred)"
   ]
  },
  {
   "cell_type": "code",
   "execution_count": 62,
   "metadata": {
    "slideshow": {
     "slide_type": "subslide"
    }
   },
   "outputs": [
    {
     "data": {
      "text/plain": [
       "(array([  4.,   4.,  71., 237., 109.,  22.,  13.,   3.,   1.,   2.]),\n",
       " array([-1.70722630e+08, -1.26026706e+08, -8.13307817e+07, -3.66348576e+07,\n",
       "         8.06106656e+06,  5.27569907e+07,  9.74529148e+07,  1.42148839e+08,\n",
       "         1.86844763e+08,  2.31540687e+08,  2.76236611e+08]),\n",
       " <BarContainer object of 10 artists>)"
      ]
     },
     "execution_count": 62,
     "metadata": {},
     "output_type": "execute_result"
    },
    {
     "data": {
      "image/png": "[encoded data removed]",
      "text/plain": [
       "<Figure size 432x288 with 1 Axes>"
      ]
     },
     "metadata": {
      "needs_background": "light"
     },
     "output_type": "display_data"
    }
   ],
   "source": [
    "plt.hist(residuals)\n"
   ]
  },
  {
   "cell_type": "markdown",
   "metadata": {},
   "source": [
    "-Checkt to see if our errors are IID and homoscedastic."
   ]
  },
  {
   "cell_type": "code",
   "execution_count": 63,
   "metadata": {
    "scrolled": true
   },
   "outputs": [
    {
     "data": {
      "text/plain": [
       "<AxesSubplot:ylabel='gross'>"
      ]
     },
     "execution_count": 63,
     "metadata": {},
     "output_type": "execute_result"
    },
    {
     "data": {
      "image/png": "[encoded data removed]",
      "text/plain": [
       "<Figure size 432x288 with 1 Axes>"
      ]
     },
     "metadata": {
      "needs_background": "light"
     },
     "output_type": "display_data"
    }
   ],
   "source": [
    "sns.residplot(y_pred, y_test, lowess=True, color=\"g\")"
   ]
  },
  {
   "cell_type": "markdown",
   "metadata": {},
   "source": [
    "## Use the log of the gross"
   ]
  },
  {
   "cell_type": "code",
   "execution_count": 64,
   "metadata": {},
   "outputs": [],
   "source": [
    "target_log = np.log(target)"
   ]
  },
  {
   "cell_type": "code",
   "execution_count": 65,
   "metadata": {},
   "outputs": [
    {
     "name": "stdout",
     "output_type": "stream",
     "text": [
      "14.781577648900612\n",
      "[ 1.23428164e-08  6.81830704e-03 -9.39339553e-06  1.40726362e-05\n",
      "  1.80387880e+00  1.35732702e+00  1.20184652e+00  1.00056139e+00\n",
      " -3.49221693e-03]\n"
     ]
    }
   ],
   "source": [
    "\n",
    "#instantiate a linear regression object\n",
    "log_model = LinearRegression()\n",
    "\n",
    "#fit the linear regression to the log of the target variable\n",
    "log_model.fit(X_train, np.log(y_train))\n",
    "\n",
    "#access output\n",
    "print(log_model.intercept_)\n",
    "print(log_model.coef_)\n"
   ]
  },
  {
   "cell_type": "code",
   "execution_count": 66,
   "metadata": {},
   "outputs": [],
   "source": [
    "y_log_train_pred = log_model.predict(X_train)"
   ]
  },
  {
   "cell_type": "markdown",
   "metadata": {},
   "source": [
    "Now that we have the predictions, we need to exponentiate them to get them back into the original scale, dollars."
   ]
  },
  {
   "cell_type": "code",
   "execution_count": 67,
   "metadata": {},
   "outputs": [],
   "source": [
    "y_log_train_pred = np.exp(y_log_train_pred)"
   ]
  },
  {
   "cell_type": "code",
   "execution_count": 68,
   "metadata": {},
   "outputs": [
    {
     "name": "stdout",
     "output_type": "stream",
     "text": [
      "Mean Absolute Error: 37909033.20795564\n",
      "Root Mean Squared Error: 79493258.46833293\n"
     ]
    }
   ],
   "source": [
    "\n",
    "log_train_mae = metrics.mean_absolute_error(y_train, y_log_train_pred)\n",
    "log_train_rmse = np.sqrt(metrics.mean_squared_error(y_train, y_log_train_pred))\n",
    "\n",
    "\n",
    "print('Mean Absolute Error:', log_train_mae )\n",
    "print('Root Mean Squared Error:' , log_train_rmse)"
   ]
  },
  {
   "cell_type": "markdown",
   "metadata": {},
   "source": [
    "Let's see how it performs on the test data"
   ]
  },
  {
   "cell_type": "code",
   "execution_count": 69,
   "metadata": {},
   "outputs": [],
   "source": [
    "y_log_pred = log_model.predict(X_test)"
   ]
  },
  {
   "cell_type": "code",
   "execution_count": 70,
   "metadata": {},
   "outputs": [],
   "source": [
    "y_log_pred = np.exp(y_log_pred)"
   ]
  },
  {
   "cell_type": "code",
   "execution_count": 71,
   "metadata": {
    "slideshow": {
     "slide_type": "fragment"
    }
   },
   "outputs": [
    {
     "name": "stdout",
     "output_type": "stream",
     "text": [
      "Mean Absolute Error:34399831.39385181\n",
      "Root Mean Squared Error:59865859.59900327\n"
     ]
    }
   ],
   "source": [
    "test_log_mae = metrics.mean_absolute_error(y_test, y_log_pred)\n",
    "test__log_rmse = np.sqrt(metrics.mean_squared_error(y_test, y_log_pred))\n",
    "\n",
    "\n",
    "print('Mean Absolute Error:' + str(test_log_mae))\n",
    "print('Root Mean Squared Error:' + str(test__log_rmse))"
   ]
  },
  {
   "cell_type": "markdown",
   "metadata": {},
   "source": [
    "Compare RMSE between orginal and logged target"
   ]
  },
  {
   "cell_type": "code",
   "execution_count": 72,
   "metadata": {},
   "outputs": [
    {
     "name": "stdout",
     "output_type": "stream",
     "text": [
      "Original:  46796489 vs. Logged:  59865859\n"
     ]
    }
   ],
   "source": [
    "print('Original: ', int(test_rmse), \"vs. Logged: \", int(test__log_rmse))"
   ]
  },
  {
   "cell_type": "markdown",
   "metadata": {},
   "source": [
    "Can we check the residuals to see if it explains why the model didn't do as well"
   ]
  },
  {
   "cell_type": "code",
   "execution_count": 73,
   "metadata": {},
   "outputs": [
    {
     "data": {
      "text/plain": [
       "(array([  1.,   0.,   0.,   0.,   1.,   0.,   1.,   0.,   1.,   1.,   1.,\n",
       "          0.,   0.,   0.,   1.,   5.,  12., 127., 156.,  74.,  43.,  20.,\n",
       "          7.,   9.,   2.,   1.,   1.,   0.,   1.,   1.]),\n",
       " array([-4.85855855e+08, -4.59250800e+08, -4.32645746e+08, -4.06040691e+08,\n",
       "        -3.79435637e+08, -3.52830582e+08, -3.26225528e+08, -2.99620473e+08,\n",
       "        -2.73015419e+08, -2.46410364e+08, -2.19805310e+08, -1.93200255e+08,\n",
       "        -1.66595201e+08, -1.39990146e+08, -1.13385092e+08, -8.67800373e+07,\n",
       "        -6.01749829e+07, -3.35699284e+07, -6.96487389e+06,  1.96401806e+07,\n",
       "         4.62452351e+07,  7.28502896e+07,  9.94553440e+07,  1.26060399e+08,\n",
       "         1.52665453e+08,  1.79270507e+08,  2.05875562e+08,  2.32480616e+08,\n",
       "         2.59085671e+08,  2.85690725e+08,  3.12295780e+08]),\n",
       " <BarContainer object of 30 artists>)"
      ]
     },
     "execution_count": 73,
     "metadata": {},
     "output_type": "execute_result"
    },
    {
     "data": {
      "image/png": "[encoded data removed]",
      "text/plain": [
       "<Figure size 432x288 with 1 Axes>"
      ]
     },
     "metadata": {
      "needs_background": "light"
     },
     "output_type": "display_data"
    }
   ],
   "source": [
    "residuals = (y_test- y_log_pred)\n",
    "\n",
    "plt.hist(residuals, bins=30)\n",
    "\n",
    "\n",
    "\n"
   ]
  },
  {
   "cell_type": "code",
   "execution_count": 74,
   "metadata": {},
   "outputs": [
    {
     "data": {
      "text/plain": [
       "<AxesSubplot:ylabel='gross'>"
      ]
     },
     "execution_count": 74,
     "metadata": {},
     "output_type": "execute_result"
    },
    {
     "data": {
      "image/png": "[encoded data removed]",
      "text/plain": [
       "<Figure size 432x288 with 1 Axes>"
      ]
     },
     "metadata": {
      "needs_background": "light"
     },
     "output_type": "display_data"
    }
   ],
   "source": [
    "sns.residplot(y_log_pred, y_test, lowess=True, color=\"g\")"
   ]
  },
  {
   "cell_type": "markdown",
   "metadata": {},
   "source": [
    "## Evaluate Polynomial model"
   ]
  },
  {
   "cell_type": "markdown",
   "metadata": {},
   "source": [
    "### Train Test Split the polynomial data"
   ]
  },
  {
   "cell_type": "code",
   "execution_count": 75,
   "metadata": {},
   "outputs": [
    {
     "name": "stdout",
     "output_type": "stream",
     "text": [
      "Training set - Features:  (1864, 219) Target:  (1864,)\n",
      "Training set - Features:  (466, 219) Target:  (466,)\n"
     ]
    }
   ],
   "source": [
    "\n",
    "#call train_test_split on the data and capture the results\n",
    "X_train_poly, X_test_poly, y_train_poly, y_test_poly = train_test_split(df_poly3, target, random_state=34,test_size=0.2)\n",
    "\n",
    "#check the shape of the results\n",
    "print(\"Training set - Features: \", X_train_poly.shape, \"Target: \", y_train_poly.shape)\n",
    "print(\"Training set - Features: \", X_test_poly.shape, \"Target: \",y_test_poly.shape)\n"
   ]
  },
  {
   "cell_type": "markdown",
   "metadata": {},
   "source": [
    "### Fit the Model"
   ]
  },
  {
   "cell_type": "code",
   "execution_count": 76,
   "metadata": {},
   "outputs": [],
   "source": [
    "#instantiate a linear regression object\n",
    "lr_poly = LinearRegression()\n",
    "\n",
    "#fit the linear regression to the data\n",
    "lr_poly = lr_poly.fit(X_train_poly, y_train_poly)\n",
    "\n"
   ]
  },
  {
   "cell_type": "markdown",
   "metadata": {},
   "source": [
    "### Predict on the training set"
   ]
  },
  {
   "cell_type": "code",
   "execution_count": 61,
   "metadata": {},
   "outputs": [],
   "source": [
    "train_preds = lr_poly.predict(X_train_poly)"
   ]
  },
  {
   "cell_type": "markdown",
   "metadata": {},
   "source": [
    "### Evaluate Training Data"
   ]
  },
  {
   "cell_type": "code",
   "execution_count": 62,
   "metadata": {},
   "outputs": [
    {
     "name": "stdout",
     "output_type": "stream",
     "text": [
      "Mean Absolute Error: 34450742.30269935\n",
      "Mean Squared Error: 2738906322205787.0\n",
      "Root Mean Squared Error: 52334561.45040089\n"
     ]
    }
   ],
   "source": [
    "\n",
    "train_mae_poly = metrics.mean_absolute_error(y_train_poly, train_preds)\n",
    "train_mse_poly = metrics.mean_squared_error(y_train_poly, train_preds)\n",
    "train_rmse_poly = np.sqrt(metrics.mean_squared_error(y_train_poly, train_preds))\n",
    "\n",
    "\n",
    "print('Mean Absolute Error:', train_mae_poly )\n",
    "print('Mean Squared Error:',  train_mse_poly)\n",
    "print('Root Mean Squared Error:' , train_rmse_poly)"
   ]
  },
  {
   "cell_type": "markdown",
   "metadata": {},
   "source": [
    "### Predict the test set"
   ]
  },
  {
   "cell_type": "code",
   "execution_count": 63,
   "metadata": {},
   "outputs": [],
   "source": [
    "test_preds = lr_poly.predict(X_test_poly)"
   ]
  },
  {
   "cell_type": "markdown",
   "metadata": {},
   "source": [
    "### Evaluate the test set"
   ]
  },
  {
   "cell_type": "code",
   "execution_count": 64,
   "metadata": {},
   "outputs": [
    {
     "name": "stdout",
     "output_type": "stream",
     "text": [
      "Mean Absolute Error:39613549.99478495\n",
      "Root Mean Squared Error:135938796.40726143\n"
     ]
    }
   ],
   "source": [
    "test_mae_poly = metrics.mean_absolute_error(y_test_poly, test_preds)\n",
    "test_rmse_poly = np.sqrt(metrics.mean_squared_error(y_test_poly, test_preds))\n",
    "\n",
    "\n",
    "print('Mean Absolute Error:' + str(test_mae_poly))\n",
    "# print('Mean Squared Error:' + str(metrics.mean_squared_error(____, ____)))\n",
    "print('Root Mean Squared Error:' + str(test_rmse_poly))"
   ]
  },
  {
   "cell_type": "markdown",
   "metadata": {},
   "source": [
    "### Comparing our Model's performance on training data versus test data.\n"
   ]
  },
  {
   "cell_type": "code",
   "execution_count": 77,
   "metadata": {},
   "outputs": [
    {
     "ename": "NameError",
     "evalue": "name 'train_rmse_poly' is not defined",
     "output_type": "error",
     "traceback": [
      "\u001b[1;31m---------------------------------------------------------------------------\u001b[0m",
      "\u001b[1;31mNameError\u001b[0m                                 Traceback (most recent call last)",
      "\u001b[1;32m<ipython-input-77-9cfc975bb947>\u001b[0m in \u001b[0;36m<module>\u001b[1;34m\u001b[0m\n\u001b[1;32m----> 1\u001b[1;33m \u001b[0mprint\u001b[0m\u001b[1;33m(\u001b[0m\u001b[1;34m'Training: '\u001b[0m\u001b[1;33m,\u001b[0m \u001b[0mint\u001b[0m\u001b[1;33m(\u001b[0m\u001b[0mtrain_rmse_poly\u001b[0m\u001b[1;33m)\u001b[0m\u001b[1;33m,\u001b[0m \u001b[1;34m\"vs. Testing: \"\u001b[0m\u001b[1;33m,\u001b[0m \u001b[0mint\u001b[0m\u001b[1;33m(\u001b[0m\u001b[0mtest_rmse_poly\u001b[0m\u001b[1;33m)\u001b[0m\u001b[1;33m)\u001b[0m\u001b[1;33m\u001b[0m\u001b[1;33m\u001b[0m\u001b[0m\n\u001b[0m",
      "\u001b[1;31mNameError\u001b[0m: name 'train_rmse_poly' is not defined"
     ]
    }
   ],
   "source": [
    "\n",
    "print('Training: ', int(train_rmse_poly), \"vs. Testing: \", int(test_rmse_poly))"
   ]
  },
  {
   "cell_type": "code",
   "execution_count": null,
   "metadata": {},
   "outputs": [],
   "source": []
  }
 ],
 "metadata": {
  "kernelspec": {
   "display_name": "Python 3",
   "language": "python",
   "name": "python3"
  },
  "language_info": {
   "codemirror_mode": {
    "name": "ipython",
    "version": 3
   },
   "file_extension": ".py",
   "mimetype": "text/x-python",
   "name": "python",
   "nbconvert_exporter": "python",
   "pygments_lexer": "ipython3",
   "version": "3.8.3"
  },
  "toc": {
   "base_numbering": 1,
   "nav_menu": {},
   "number_sections": true,
   "sideBar": true,
   "skip_h1_title": false,
   "title_cell": "Table of Contents",
   "title_sidebar": "Contents",
   "toc_cell": false,
   "toc_position": {},
   "toc_section_display": true,
   "toc_window_display": false
  },
  "varInspector": {
   "cols": {
    "lenName": 16,
    "lenType": 16,
    "lenVar": 40
   },
   "kernels_config": {
    "python": {
     "delete_cmd_postfix": "",
     "delete_cmd_prefix": "del ",
     "library": "var_list.py",
     "varRefreshCmd": "print(var_dic_list())"
    },
    "r": {
     "delete_cmd_postfix": ") ",
     "delete_cmd_prefix": "rm(",
     "library": "var_list.r",
     "varRefreshCmd": "cat(var_dic_list()) "
    }
   },
   "types_to_exclude": [
    "module",
    "function",
    "builtin_function_or_method",
    "instance",
    "_Feature"
   ],
   "window_display": false
  }
 },
 "nbformat": 4,
 "nbformat_minor": 2
}
